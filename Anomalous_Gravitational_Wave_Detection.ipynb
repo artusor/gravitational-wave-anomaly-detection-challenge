{
  "cells": [
    {
      "cell_type": "markdown",
      "metadata": {},
      "source": [
        "# The Problem\n",
        "\n",
        "Gravitational waves (GW) are ripples in spacetime caused by the acceleration of massive objects. Predicted by Einstein in 1916, they travel at the speed of light, carrying information about their origins and the nature of gravity. The Laser Interferometer Gravitational-wave Observatory (LIGO) detects these waves using laser interferometers in Hanford, Washington, and Livingston, Louisiana. LIGO measures tiny distortions in spacetime caused by passing gravitational waves.\n",
        "\n",
        "Having two LIGO interferometers is crucial because it allows for the verification of signals, distinguishing them from local noise and artifacts that are uncorrelated between the two locations. This dual setup also improves the localization of gravitational wave sources by comparing the arrival times of signals at each detector. Additionally, it enhances noise reduction and increases overall sensitivity, allowing for the detection of weaker signals.\n",
        "\n",
        "To identify transient gravitational waves, scientists use matched filtering, comparing LIGO data with known templates from systems we can analytically or numerically calculate their gravitational-wave emission, like those from merging black holes. This method is effective for well-understood sources but less so for unknown phenomena where signal morphologies are poorly modeled or remain completely known.\n",
        "\n",
        "The Anomaly Detection Challenge focuses on data from LIGO's O3 observations.  We provide several datasets,  Additionally, the dataset contains simulated signals injected into the real instrument data. Participants are tasked with training their models primarily on the instrument data to detect anomalies. They can also leverage information from the simulated signals to enhance their detection methods.\n",
        "\n",
        "#### Known transient GW sources (detectable with matched-filtering pipelines)\n",
        "\n",
        "- Binary Black Hole (BBH) Mergers\n",
        "\n",
        "    * Two black holes orbiting each other and eventually merging. They produce strong and detectable gravitational waves during the final moments of the merger.\n",
        "\n",
        "- Binary Neutron Star (BNS) Mergers\n",
        "\n",
        "    * Two neutron stars spiraling together and merging. They emit gravitational waves as they orbit and merge, followed by electromagnetic signals in the full spectrum, including gamma-ray bursts.\n",
        "\n",
        "- Black Hole - Neutron Star (BHNS) Mergers\n",
        "\n",
        "    * A black hole and a neutron star in a binary system merging. They create gravitational waves and potentially a variety of electromagnetic emissions.\n",
        "\n",
        "#### Unmodeled transient GW sources appearing as \"anomalies\" (not yet detected with matched-filtering pipeline)\n",
        "\n",
        "- Supernovae\n",
        "\n",
        "    * Explosive deaths of massive stars. They can produce gravitational waves, especially in cases where the explosion is asymmetric.\n",
        "\n",
        "- Neutron Star Glitches\n",
        "\n",
        "    * Sudden, small change in the spin frequency of pulsars may be associated with emission of transient gravitational-waves\n",
        "\n",
        "- Cosmic Strings\n",
        "\n",
        "    * Hypothetical one-dimensional topological defects in spacetime predicted by some theories of the early universe. They could produce bursts of gravitational waves when they interact or oscillate.\n",
        "\n",
        "- Fast Radio Bursts, Gamma-Ray Bursts\n",
        "\n",
        "    * Astrophysical phenomena/systems for which we do not have a complete picture of the progenitor but energetic enough to be plausibly associated with gravitational-wave emission\n",
        "\n",
        "- Completely unknown/unthought of sources\n",
        "\n",
        "    * GW detectors are fairly new instruments and the GW sky is largely unexplored &ndash; surprises with completely new astrophysical systems/sources are always a possibility!\n",
        "\n",
        "These anomalies present a significant challenge and opportunity for innovation in gravitational wave transient detection, as their unpredictable nature makes them difficult to detect with traditional matched-filtering methods.\n",
        "\n",
        "# Required libraries\n",
        "\n",
        "- NumPy\n",
        "\n",
        "- TensorFlow\n",
        "\n",
        "- MatPlotLib\n",
        "\n",
        "- SciKit-Learn"
      ]
    },
    {
      "cell_type": "code",
      "execution_count": 1,
      "metadata": {
        "id": "ba2UrRNoD_y1"
      },
      "outputs": [],
      "source": [
        "# Let's start with the necessary imports\n",
        "import os\n",
        "import numpy as np\n",
        "\n",
        "import tensorflow as tf\n",
        "from tensorflow import keras\n",
        "from keras import layers\n",
        "from keras.regularizers import L1\n",
        "from keras.optimizers import Adam\n",
        "from keras.models import load_model\n",
        "\n",
        "from matplotlib import pyplot as plt\n",
        "from matplotlib import colors, lines\n",
        "from sklearn import metrics\n",
        "from sklearn.model_selection import train_test_split\n",
        "from sklearn.metrics import roc_curve, auc"
      ]
    },
    {
      "cell_type": "markdown",
      "metadata": {},
      "source": [
        "# Loading the data\n",
        "\n",
        "The data we are using was provided to us via the [NSF HDR A3D3: Detecting Anomalous Gravitational Wave Signals Challenge](https://www.codabench.org/competitions/2626/). It contains $100$,$000$ cases of background data (data readings that do not constitute GW phenomena of any kind), $100$,$000$ cases of Binary Black Hole Merger (BBH) data (which is a known GW source, so we don't consider it anomalous), and $100$,$000$ cases of Sine-Gaussian Low Frequency (SGLF) data (which represents an anomalous GW source). These are gravitational-wave strain, $h(t)$ time series recorded by two LIGO interferometers including whitened, bandpass-filtered data from O3, with known GW events corresponding to binary coalesences removed. We are also going to normalize our data to make sure data cases are consistent and to ensure a smoother training process."
      ]
    },
    {
      "cell_type": "code",
      "execution_count": null,
      "metadata": {
        "colab": {
          "base_uri": "https://localhost:8080/",
          "height": 356
        },
        "id": "rM4_QhkO0djy",
        "outputId": "e6a23cca-cf38-4753-becb-9607102458b2"
      },
      "outputs": [
        {
          "ename": "KeyboardInterrupt",
          "evalue": "",
          "output_type": "error",
          "traceback": [
            "\u001b[0;31m---------------------------------------------------------------------------\u001b[0m",
            "\u001b[0;31mKeyboardInterrupt\u001b[0m                         Traceback (most recent call last)",
            "\u001b[0;32m<ipython-input-5-daebb71215dc>\u001b[0m in \u001b[0;36m<cell line: 0>\u001b[0;34m()\u001b[0m\n\u001b[1;32m      1\u001b[0m \u001b[0;31m# load data and normalize it\u001b[0m\u001b[0;34m\u001b[0m\u001b[0;34m\u001b[0m\u001b[0m\n\u001b[0;32m----> 2\u001b[0;31m \u001b[0mbackground\u001b[0m \u001b[0;34m=\u001b[0m \u001b[0mnp\u001b[0m\u001b[0;34m.\u001b[0m\u001b[0mload\u001b[0m\u001b[0;34m(\u001b[0m\u001b[0;34m'/content/drive/My Drive/Colab Notebooks/background.npz'\u001b[0m\u001b[0;34m)\u001b[0m\u001b[0;34m[\u001b[0m\u001b[0;34m'data'\u001b[0m\u001b[0;34m]\u001b[0m\u001b[0;34m\u001b[0m\u001b[0;34m\u001b[0m\u001b[0m\n\u001b[0m\u001b[1;32m      3\u001b[0m \u001b[0mstds\u001b[0m \u001b[0;34m=\u001b[0m \u001b[0mnp\u001b[0m\u001b[0;34m.\u001b[0m\u001b[0mstd\u001b[0m\u001b[0;34m(\u001b[0m\u001b[0mbackground\u001b[0m\u001b[0;34m,\u001b[0m \u001b[0maxis\u001b[0m\u001b[0;34m=\u001b[0m\u001b[0;34m-\u001b[0m\u001b[0;36m1\u001b[0m\u001b[0;34m)\u001b[0m\u001b[0;34m[\u001b[0m\u001b[0;34m:\u001b[0m\u001b[0;34m,\u001b[0m \u001b[0;34m:\u001b[0m\u001b[0;34m,\u001b[0m \u001b[0mnp\u001b[0m\u001b[0;34m.\u001b[0m\u001b[0mnewaxis\u001b[0m\u001b[0;34m]\u001b[0m\u001b[0;34m\u001b[0m\u001b[0;34m\u001b[0m\u001b[0m\n\u001b[1;32m      4\u001b[0m \u001b[0mbackground\u001b[0m \u001b[0;34m=\u001b[0m \u001b[0mbackground\u001b[0m\u001b[0;34m/\u001b[0m\u001b[0mstds\u001b[0m\u001b[0;34m\u001b[0m\u001b[0;34m\u001b[0m\u001b[0m\n\u001b[1;32m      5\u001b[0m \u001b[0mbackground\u001b[0m \u001b[0;34m=\u001b[0m \u001b[0mnp\u001b[0m\u001b[0;34m.\u001b[0m\u001b[0mswapaxes\u001b[0m\u001b[0;34m(\u001b[0m\u001b[0mbackground\u001b[0m\u001b[0;34m,\u001b[0m \u001b[0;36m1\u001b[0m\u001b[0;34m,\u001b[0m \u001b[0;36m2\u001b[0m\u001b[0;34m)\u001b[0m\u001b[0;34m\u001b[0m\u001b[0;34m\u001b[0m\u001b[0m\n",
            "\u001b[0;32m/usr/local/lib/python3.11/dist-packages/numpy/lib/npyio.py\u001b[0m in \u001b[0;36m__getitem__\u001b[0;34m(self, key)\u001b[0m\n\u001b[1;32m    254\u001b[0m             \u001b[0;32mif\u001b[0m \u001b[0mmagic\u001b[0m \u001b[0;34m==\u001b[0m \u001b[0mformat\u001b[0m\u001b[0;34m.\u001b[0m\u001b[0mMAGIC_PREFIX\u001b[0m\u001b[0;34m:\u001b[0m\u001b[0;34m\u001b[0m\u001b[0;34m\u001b[0m\u001b[0m\n\u001b[1;32m    255\u001b[0m                 \u001b[0mbytes\u001b[0m \u001b[0;34m=\u001b[0m \u001b[0mself\u001b[0m\u001b[0;34m.\u001b[0m\u001b[0mzip\u001b[0m\u001b[0;34m.\u001b[0m\u001b[0mopen\u001b[0m\u001b[0;34m(\u001b[0m\u001b[0mkey\u001b[0m\u001b[0;34m)\u001b[0m\u001b[0;34m\u001b[0m\u001b[0;34m\u001b[0m\u001b[0m\n\u001b[0;32m--> 256\u001b[0;31m                 return format.read_array(bytes,\n\u001b[0m\u001b[1;32m    257\u001b[0m                                          \u001b[0mallow_pickle\u001b[0m\u001b[0;34m=\u001b[0m\u001b[0mself\u001b[0m\u001b[0;34m.\u001b[0m\u001b[0mallow_pickle\u001b[0m\u001b[0;34m,\u001b[0m\u001b[0;34m\u001b[0m\u001b[0;34m\u001b[0m\u001b[0m\n\u001b[1;32m    258\u001b[0m                                          \u001b[0mpickle_kwargs\u001b[0m\u001b[0;34m=\u001b[0m\u001b[0mself\u001b[0m\u001b[0;34m.\u001b[0m\u001b[0mpickle_kwargs\u001b[0m\u001b[0;34m,\u001b[0m\u001b[0;34m\u001b[0m\u001b[0;34m\u001b[0m\u001b[0m\n",
            "\u001b[0;32m/usr/local/lib/python3.11/dist-packages/numpy/lib/format.py\u001b[0m in \u001b[0;36mread_array\u001b[0;34m(fp, allow_pickle, pickle_kwargs, max_header_size)\u001b[0m\n\u001b[1;32m    830\u001b[0m                     \u001b[0mread_size\u001b[0m \u001b[0;34m=\u001b[0m \u001b[0mint\u001b[0m\u001b[0;34m(\u001b[0m\u001b[0mread_count\u001b[0m \u001b[0;34m*\u001b[0m \u001b[0mdtype\u001b[0m\u001b[0;34m.\u001b[0m\u001b[0mitemsize\u001b[0m\u001b[0;34m)\u001b[0m\u001b[0;34m\u001b[0m\u001b[0;34m\u001b[0m\u001b[0m\n\u001b[1;32m    831\u001b[0m                     \u001b[0mdata\u001b[0m \u001b[0;34m=\u001b[0m \u001b[0m_read_bytes\u001b[0m\u001b[0;34m(\u001b[0m\u001b[0mfp\u001b[0m\u001b[0;34m,\u001b[0m \u001b[0mread_size\u001b[0m\u001b[0;34m,\u001b[0m \u001b[0;34m\"array data\"\u001b[0m\u001b[0;34m)\u001b[0m\u001b[0;34m\u001b[0m\u001b[0;34m\u001b[0m\u001b[0m\n\u001b[0;32m--> 832\u001b[0;31m                     array[i:i+read_count] = numpy.frombuffer(data, dtype=dtype,\n\u001b[0m\u001b[1;32m    833\u001b[0m                                                              count=read_count)\n\u001b[1;32m    834\u001b[0m \u001b[0;34m\u001b[0m\u001b[0m\n",
            "\u001b[0;31mKeyboardInterrupt\u001b[0m: "
          ]
        }
      ],
      "source": [
        "# Loads the data and normalizes it\n",
        "\n",
        "# Background data\n",
        "background = np.load('background.npz')['data']\n",
        "stds = np.std(background, axis=-1)[:, :, np.newaxis]    # Standard deviation of the data\n",
        "background = background/stds                            # Normalizing the data\n",
        "background = np.swapaxes(background, 1, 2)\n",
        "\n",
        "# Binary Black Hole (BBH) data\n",
        "bbh = np.load('bbh_for_challenge.npy')\n",
        "stds = np.std(bbh, axis=-1)[:, :, np.newaxis]           # Standard deviation of the data\n",
        "bbh = bbh/stds                                          # Normalizing the data\n",
        "bbh = np.swapaxes(bbh, 1, 2)\n",
        "\n",
        "# Sine-Gaussian Low Frequency (SGLF) data\n",
        "sglf = np.load('sglf_for_challenge.npy')\n",
        "stds = np.std(sglf, axis=-1)[:, :, np.newaxis]          # Standard deviation of the data\n",
        "sglf = sglf/stds                                        # Normalizing the data\n",
        "sglf = np.swapaxes(sglf, 1, 2)"
      ]
    },
    {
      "cell_type": "markdown",
      "metadata": {},
      "source": [
        "Now that we have loaded the three different datasets, we can combine them and create matching labels for them ($1$ representing an anomalous GW source and $0$ representing anything else). We can just use the timeseries data for an unsupervised approach, while we can also use the labels for a supervised or semi-supervised approach."
      ]
    },
    {
      "cell_type": "code",
      "execution_count": null,
      "metadata": {
        "colab": {
          "base_uri": "https://localhost:8080/"
        },
        "id": "v0I4fXnUGqEJ",
        "outputId": "2681e743-61c2-45a2-b91a-9fc9f49ef929"
      },
      "outputs": [
        {
          "name": "stdout",
          "output_type": "stream",
          "text": [
            "x train/test shapes: (240000, 200, 2) (60000, 200, 2)\n",
            "y train/test shapes: (240000, 1) (60000, 1)\n"
          ]
        }
      ],
      "source": [
        "# Creates train and test datasets\n",
        "\n",
        "# Concatenates the three different data sets and creates matching labels for them\n",
        "data = np.concatenate((background, bbh, sglf), axis=0)\n",
        "labels = np.concatenate((np.zeros(len(background)), np.zeros(len(bbh)), np.ones(len(sglf))), axis=0)[:, np.newaxis]\n",
        "\n",
        "# Splits the complete dataset into train/test set using an 80/20 split.\n",
        "x_train, x_test, y_train, y_test = train_test_split(\n",
        "     data, labels, test_size=0.2, random_state=42)\n",
        "\n",
        "print(f'x train/test shapes: {x_train.shape}/{x_test.shape}')\n",
        "print(f'y train/test shapes: {y_train.shape}/{y_test.shape}')"
      ]
    },
    {
      "cell_type": "code",
      "execution_count": null,
      "metadata": {
        "id": "RQzdbO3G-Jmn"
      },
      "outputs": [],
      "source": [
        "background_cov_indices = np.random.choice(background.shape[0], 10000, replace=False)\n",
        "bbh_cov_indices = np.random.choice(bbh.shape[0], 10000, replace=False)\n",
        "sglf_cov_indices = np.random.choice(sglf.shape[0], 10000, replace=False)\n",
        "\n",
        "background_cov = background[background_cov_indices]\n",
        "bbh_cov = bbh[bbh_cov_indices]\n",
        "sglf_cov = sglf[sglf_cov_indices]"
      ]
    },
    {
      "cell_type": "code",
      "execution_count": null,
      "metadata": {
        "colab": {
          "base_uri": "https://localhost:8080/"
        },
        "id": "E6prkBtJ-lgz",
        "outputId": "55c2f264-1ec0-44dd-cc83-7f75b6867087"
      },
      "outputs": [
        {
          "name": "stdout",
          "output_type": "stream",
          "text": [
            "x train/test shapes: (24000, 200, 2) (6000, 200, 2)\n",
            "y train/test shapes: (24000, 1) (6000, 1)\n"
          ]
        }
      ],
      "source": [
        "# Create train and test datasets\n",
        "\n",
        "data = np.concatenate((background_cov, bbh_cov, sglf_cov), axis=0)\n",
        "labels = np.concatenate((np.zeros(len(background_cov)), np.zeros(len(bbh_cov)), np.ones(len(sglf_cov))), axis=0)[:, np.newaxis]\n",
        "\n",
        "x_train, x_test, y_train, y_test = train_test_split(\n",
        "     data, labels, test_size=0.2, random_state=42)\n",
        "\n",
        "print(f'x train/test shapes: {x_train.shape} {x_test.shape}')\n",
        "print(f'y train/test shapes: {y_train.shape} {y_test.shape}')"
      ]
    },
    {
      "cell_type": "markdown",
      "metadata": {},
      "source": [
        "# Visualizing the data\n",
        "\n",
        "To better understand the problem and decide on an approach, we should visualize the different data classes and see what similarities and differences they have:"
      ]
    },
    {
      "cell_type": "code",
      "execution_count": null,
      "metadata": {
        "colab": {
          "base_uri": "https://localhost:8080/",
          "height": 452
        },
        "id": "ntnL1_CSZdDg",
        "outputId": "42be0b3e-436f-4140-ac2c-386d3b498eab"
      },
      "outputs": [
        {
          "data": {
            "image/png": "[encoded data removed]",
            "text/plain": [
              "<Figure size 640x480 with 1 Axes>"
            ]
          },
          "metadata": {},
          "output_type": "display_data"
        }
      ],
      "source": [
        "# Creates the plot to visualize our data\n",
        "fig, (ax1, ax2, ax3) = plt.subplots(3, 1, constrained_layout=True)\n",
        "\n",
        "# Plots a background data case\n",
        "ax1.plot(background[0, :, 0])                           # Sample 1\n",
        "ax1.plot(background[0, :, 1])                           # Sample 2\n",
        "ax1.set_title(\"Background\")                             # Title\n",
        "ax1.set_xlabel(\"Timestep\")                              # X axis label\n",
        "ax1.set_ylabel(\"Spacetime Distortion\")                  # Y axis label\n",
        "ax1.set_xlim(-1, 200)                                   # Adjusts x axis\n",
        "ax1.legend([\"Sample 1\", \"Sample 2\"], loc='upper left')  # Legend\n",
        "\n",
        "\n",
        "# Plots a BBH data case\n",
        "ax2.plot(bbh[0, :, 0])                                  # Sample 1\n",
        "ax2.plot(bbh[0, :, 1])                                  # Sample 2\n",
        "ax2.set_title(\"BBH\")                                    # Title\n",
        "ax2.set_xlabel(\"Timestep\")                              # X axis label\n",
        "ax2.set_ylabel(\"Spacetime Distortion\")                  # Y axis label\n",
        "ax2.set_xlim(-1, 200)                                   # Adjusts x axis\n",
        "ax2.legend([\"Sample 1\", \"Sample 2\"], loc='lower left')  # Legend\n",
        "\n",
        "\n",
        "# Plots a SGLF data case\n",
        "ax3.plot(sglf[0, :, 0])                                 # Sample 1\n",
        "ax3.plot(sglf[0, :, 1])                                 # Sample 2\n",
        "ax3.set_title(\"SGLF\")                                   # Title\n",
        "ax3.set_xlabel(\"Timestep\")                              # X axis label\n",
        "ax3.set_ylabel(\"Spacetime Distortion\")                  # Y axis label\n",
        "ax3.set_xlim(-1, 200)                                   # Adjusts x axis\n",
        "ax3.legend([\"Sample 1\", \"Sample 2\"], loc='lower left')  # Legend\n",
        "\n",
        "# Shows the plots\n",
        "fig.set_size_inches(6, 10)                              # Adjusts plot size\n",
        "plt.show()\n",
        "plt.close()"
      ]
    },
    {
      "cell_type": "markdown",
      "metadata": {},
      "source": [
        "The BBH case is the most distinctive, with both samples following a sinusoidal pattern which seems to oscilate in opposite directions between samples. The background and SGLF cases seem to be very similar, but the SGLF case seems to have opposing peaks that almost perfectly coincide in the given timeframe, particularily between time 10-20 and 150-165. This seems to be the only noticeable difference between the background and SGLF cases, so we're going to focus on identifying this and detecting it with our model.\n",
        "\n",
        "### Detecting correlations between samples in the data\n",
        "\n",
        "To detect these correlations, we propose two approaches:\n",
        "\n",
        "- Covariance matrices between samples\n",
        "\n",
        "- Singular-Spectrum Analysis (SSA) of the data\n",
        "\n",
        "#### Exploring covariance between samples\n",
        "\n",
        "We can treat each sample as a random variable and plot a covariance matrix between the two. While this isn't an entirely appropriate framing of the data, as timeseries data observations are not independent between different timesteps, it can still serve as a valuable piece of information to identify correlations between samples. For this, we use NumPy to calculate the covariance between samples at all timesteps, which returns a $200 \\times 200$ matrix which we can then visualize. Let's see what these covariance matrices look like for each of the classes:"
      ]
    },
    {
      "cell_type": "code",
      "execution_count": null,
      "metadata": {
        "colab": {
          "base_uri": "https://localhost:8080/",
          "height": 451
        },
        "id": "tpnyaIpDnLIY",
        "outputId": "21e07a68-e40b-4707-ac1d-b3ee6f713d80"
      },
      "outputs": [
        {
          "data": {
            "image/png": "[encoded data removed]",
            "text/plain": [
              "<Figure size 480x480 with 2 Axes>"
            ]
          },
          "metadata": {},
          "output_type": "display_data"
        }
      ],
      "source": [
        "# Creates the plot to visualize our data\n",
        "fig, (ax1, ax2, ax3) = plt.subplots(1, 3, constrained_layout=True)\n",
        "\n",
        "# Calculates the covariance matrices for each class\n",
        "background_cov = np.cov(background[0])\n",
        "bbh_cov = np.cov(bbh[0])\n",
        "sglf_cov = np.cov(sglf[0])\n",
        "\n",
        "# Establishes a norm for the color bar\n",
        "norm = colors.Normalize(vmin=np.min([background_cov, bbh_cov, sglf_cov]), vmax=np.max([background_cov, bbh_cov, sglf_cov]))\n",
        "\n",
        "# Plots the covariance matrix of a background data case\n",
        "ax1.imshow(background_cov, norm=norm)           # Plots the matrix\n",
        "ax1.set_xlabel(\"Sample 1\")                      # X axis label\n",
        "ax1.set_ylabel(\"Sample 2\")                      # Y axis label\n",
        "ax1.set_title(\"Background\")                     # Title\n",
        "\n",
        "# Plots the covariance matrix of a BBH data case\n",
        "ax2.imshow(bbh_cov, norm=norm)                  # Plots the matrix\n",
        "ax2.set_xlabel(\"Sample 1\")                      # X axis label\n",
        "ax2.set_ylabel(\"Sample 2\")                      # Y axis label\n",
        "ax2.set_title(\"BBH\")                            # Title\n",
        "\n",
        "# Plots the covariance matrix of a SGLF data case\n",
        "ax3.imshow(sglf_cov, norm=norm)                 # Plots the matrix\n",
        "ax3.set_xlabel(\"Sample 1\")                      # X axis label\n",
        "ax3.set_ylabel(\"Sample 2\")                      # Y axis label\n",
        "ax3.set_title(\"SGLF\")                           # Title\n",
        "\n",
        "# Adds a colorbar\n",
        "fig.colorbar(ax1.imshow(background_cov, norm=norm), ax=(ax1, ax2, ax3), orientation='vertical', label='Covariance')\n",
        "\n",
        "# Shows the plots\n",
        "fig.suptitle('Covariance matrices per class')   # Super title (above previous titles)\n",
        "fig.set_size_inches(10, 3)                      # Adjusts plot size\n",
        "plt.show()\n",
        "plt.close()"
      ]
    },
    {
      "cell_type": "markdown",
      "metadata": {},
      "source": [
        "The covariance matrices are very noisy, but there seem to be differences between the three classes. The BBH case shows these large alternating squares in a checkered pattern. The SGLF case seems to have the same pattern with smaller squares, albeit pretty clouded by the noise. The background case might have a similar pattern with even smaller squares, but it seems to be a byproduct of the noise and therefore is not as clear as the other two cases. Given that these patterns seem clear enough to differentiate between cases, we can use this representation of the data for our approach.\n",
        "\n",
        "#### Exploring Singular-Spectrum Analysis (SSA) of the data\n",
        "\n",
        "[Analysis of Time Series Structure: SSA and Related Techniques](https://www.routledge.com/Analysis-of-Time-Series-Structure-SSA-and-Related-Techniques/Golyandina-Nekrutkin-Zhigljavsky/p/book/9781584881940) presents an intriguing approach to analyzing timeseries: we can decompose a trajectory matrix created from the timeseries to analyze its most important components. We referenced [this Kaggle article](https://www.kaggle.com/code/jdarcy/introducing-ssa-for-time-series-decomposition) in our development process, as it explains the methodology well and also provides a Python implementation which we used. In order to effectively describe our approach, we provide the most important information here. We will use the notation from [Analysis of Time Series Structure: SSA and Related Techniques](https://www.routledge.com/Analysis-of-Time-Series-Structure-SSA-and-Related-Techniques/Golyandina-Nekrutkin-Zhigljavsky/p/book/9781584881940), and all matrix and summation indexing with begin at 0 instead of 1 to preserve consistency between our mathematical notation and code.\n",
        "\n",
        "Let $(f_0, \\ f_{1}, \\ldots , \\ f_{N-1}) = F \\in \\mathbb{R}^N$ be the timeseries we are trying to analyze, and let $L \\in \\mathbb{N}$ be the window length $2 \\le L \\le N/2$. We form a 'window', given by the subseries $(f_i, \\ f_{i+1}, \\ldots , \\ f_{i+L-1}) \\in \\mathbb{R}^L$, where $f_i \\in F$, for  $i=0,\\ldots,N-L$. We slide this window along the time series, forming a column vector, $X_i$, for each subseries, such that\n",
        "\n",
        "\\begin{align*}\n",
        "X_0 & = (f_0, \\ f_1, \\ f_2,  \\ldots, \\ f_{L-1} )^{\\text{T}} \\\\\n",
        "X_1 & = (f_1, \\ f_2, \\ f_3,  \\ldots, \\ f_L )^{\\text{T}} \\\\\n",
        "X_2 & = (f_2, \\ f_3, \\ f_4,  \\ldots, \\ f_{L+1} )^{\\text{T}} \\\\\n",
        "X_3 & = (f_3, \\ f_4, \\ f_5,  \\ldots, \\ f_{L+2} )^{\\text{T}} \\\\\n",
        "& \\quad \\quad \\quad  \\vdots \\\\\n",
        "X_{N-L} & = (f_{N-L}, \\ f_{N-L+1}, \\ f_{N-L+2}, \\ \\ldots, \\ f_{N-1} )^{\\text{T}}.\n",
        "\\end{align*}\n",
        "\n",
        "These column vectors form the $L$-*trajectory matrix*, $\\mathbf{X}$:\n",
        "\n",
        "$$\\mathbf{X} = \\begin{bmatrix}\n",
        "f_0 & f_1 & f_2 & f_3 &\\ldots & f_{N-L} \\\\ \n",
        "f_1 & f_2 & f_3 & f_4 &\\ldots & f_{N-L+1} \\\\\n",
        "f_2 & f_3 & f_4 & f_5 &\\ldots & f_{N-L+2} \\\\\n",
        "\\vdots & \\vdots & \\vdots & \\vdots & \\ddots & \\vdots \\\\\n",
        "f_{L-1} & f_{L} & f_{L+1} & f_{L+2} & \\ldots & f_{N-1} \\\\ \n",
        "\\end{bmatrix}$$\n",
        "\n",
        "From writing out the matrix above, it is clear that the elements of the *anti-diagonals* (i.e. the diagonals running from bottom-left to top-right) are equal. This type of matrix is known as a *Hankel* matrix. Let's see what the $100$-*trajectory matrix* looks like for each of the classes:"
      ]
    },
    {
      "cell_type": "code",
      "execution_count": null,
      "metadata": {
        "colab": {
          "base_uri": "https://localhost:8080/"
        },
        "id": "5F4etgtyy-TT",
        "outputId": "483bd8b8-d613-4028-81a9-c41a4ebda969"
      },
      "outputs": [
        {
          "name": "stdout",
          "output_type": "stream",
          "text": [
            "(200, 2)\n",
            "(100, 101, 2)\n"
          ]
        }
      ],
      "source": [
        "L = 100                         # The window length\n",
        "K = background.shape[1] - L + 1 # The number of columns in the trajectory matrix\n",
        "\n",
        "# Creates the trajectory matrix by pulling the relevant subseries of each class and stacking them as columns\n",
        "X_background = np.stack([background[0][i:i + L] for i in range(0, K)], axis=1)\n",
        "X_bbh = np.stack([bbh[0][i:i + L] for i in range(0, K)], axis=1)\n",
        "X_sglf = np.stack([sglf[0][i:i + L] for i in range(0, K)], axis=1)\n",
        "\n",
        "\n",
        "# Visualizes both samples from the background case\n",
        "\n",
        "# Creates the plot to visualize our data\n",
        "fig, (ax1, ax2) = plt.subplots(1, 2)\n",
        "\n",
        "# Establishes a norm for the color bar\n",
        "norm = colors.Normalize(vmin=np.min(X_background), vmax=np.max(X_background))\n",
        "\n",
        "# Plots the 100-trajectory matrix for the first background sample\n",
        "ax1.imshow(X_background[:, :, 0], norm=norm)            # Sample 1\n",
        "ax1.set_xlabel(\"$L$-Lagged Vectors\")                    # X axis label\n",
        "ax1.set_ylabel(\"$K$-Lagged Vectors\")                    # Y axis label\n",
        "ax1.set_title(\"Sample 1\")                               # Title\n",
        "\n",
        "ax2.imshow(X_background[:, :, 1], norm=norm)            # Sample 2\n",
        "ax2.set_xlabel(\"$L$-Lagged Vectors\")                    # X axis label\n",
        "ax2.set_ylabel(\"$K$-Lagged Vectors\")                    # Y axis label\n",
        "ax2.set_title(\"Sample 2\")                               # Title\n",
        "\n",
        "# Adds a colorbar\n",
        "fig.colorbar(ax1.imshow(X_background[:, :, 0], norm=norm), ax=(ax1, ax2), orientation='vertical', label=\"$F(t)$\")\n",
        "\n",
        "# Shows the plots\n",
        "fig.suptitle('Background $100$-trajectory matrices')    # Super title (above previous titles)\n",
        "fig.set_size_inches(11, 4)                              # Adjusts plot size\n",
        "plt.show()\n",
        "plt.close()\n",
        "\n",
        "\n",
        "# Visualizes both samples from the BBH case\n",
        "\n",
        "# Creates the plot to visualize our data\n",
        "fig, (ax1, ax2) = plt.subplots(1, 2)\n",
        "\n",
        "# Establishes a norm for the color bar\n",
        "norm = colors.Normalize(vmin=np.min(X_bbh), vmax=np.max(X_bbh))\n",
        "\n",
        "# Plots the 100-trajectory matrix for the first background sample\n",
        "ax1.imshow(X_bbh[:, :, 0], norm=norm)                   # Sample 1\n",
        "ax1.set_xlabel(\"$L$-Lagged Vectors\")                    # X axis label\n",
        "ax1.set_ylabel(\"$K$-Lagged Vectors\")                    # Y axis label\n",
        "ax1.set_title(\"Sample 1\")                               # Title\n",
        "\n",
        "ax2.imshow(X_bbh[:, :, 1], norm=norm)                   # Sample 2\n",
        "ax2.set_xlabel(\"$L$-Lagged Vectors\")                    # X axis label\n",
        "ax2.set_ylabel(\"$K$-Lagged Vectors\")                    # Y axis label\n",
        "ax2.set_title(\"Sample 2\")                               # Title\n",
        "\n",
        "# Adds a colorbar\n",
        "fig.colorbar(ax1.imshow(X_bbh[:, :, 0], norm=norm), ax=(ax1, ax2), orientation='vertical', label=\"$F(t)$\")\n",
        "\n",
        "# Shows the plots\n",
        "fig.suptitle('BBH $100$-trajectory matrices')           # Super title (above previous titles)\n",
        "fig.set_size_inches(11, 4)                              # Adjusts plot size\n",
        "plt.show()\n",
        "plt.close()\n",
        "\n",
        "\n",
        "# Visualizes both samples from the SGLF case\n",
        "\n",
        "# Creates the plot to visualize our data\n",
        "fig, (ax1, ax2) = plt.subplots(1, 2)\n",
        "\n",
        "# Establishes a norm for the color bar\n",
        "norm = colors.Normalize(vmin=np.min(X_sglf), vmax=np.max(X_sglf))\n",
        "\n",
        "# Plots the 100-trajectory matrix for the first background sample\n",
        "ax1.imshow(X_sglf[:, :, 0], norm=norm)                  # Sample 1\n",
        "ax1.set_xlabel(\"$L$-Lagged Vectors\")                    # X axis label\n",
        "ax1.set_ylabel(\"$K$-Lagged Vectors\")                    # Y axis label\n",
        "ax1.set_title(\"Sample 1\")                               # Title\n",
        "\n",
        "ax2.imshow(X_sglf[:, :, 1], norm=norm)                  # Sample 2\n",
        "ax2.set_xlabel(\"$L$-Lagged Vectors\")                    # X axis label\n",
        "ax2.set_ylabel(\"$K$-Lagged Vectors\")                    # Y axis label\n",
        "ax2.set_title(\"Sample 2\")                               # Title\n",
        "\n",
        "# Adds a colorbar\n",
        "fig.colorbar(ax1.imshow(X_sglf[:, :, 0], norm=norm), ax=(ax1, ax2), orientation='vertical', label=\"$F(t)$\")\n",
        "\n",
        "# Shows the plots\n",
        "fig.suptitle('SGLF $100$-trajectory matrices')          # Super title (above previous titles)\n",
        "fig.set_size_inches(11, 4)                              # Adjusts plot size\n",
        "plt.show()\n",
        "plt.close()"
      ]
    },
    {
      "cell_type": "markdown",
      "metadata": {},
      "source": [
        "The $100$-*trajectory matrices* look good for all classes, as they are clearly *Hankel* matrices with visible patterns. We can now perform SSA on each sample by decomposing the trajectory matrix $\\mathbf{X}$ using [singular-value decomposition (SVD)](https://en.wikipedia.org/wiki/Singular-value_decomposition):\n",
        "\n",
        "$$\\mathbf{X} = \\mathbf{U\\Sigma V}^{\\text{T}}$$ \n",
        "where:\n",
        "* $\\mathbf{U}$ is an $L \\times L$ unitary matrix containing the orthonormal set of *left singular vectors* of $\\mathbf{X}$ as columns;\n",
        "* $\\mathbf{\\Sigma}$ is an $L \\times K$ rectangular diagonal matrix containing $L$ *singular values* of $\\mathbf{X}$, ordered from largest to smallest; and\n",
        "* $\\mathbf{V}$ is a $K \\times K$ unitary matrix containing the orthonormal set of *right singular vectors* of $\\mathbf{X}$ as columns.\n",
        "\n",
        "The SVD of the trajectory matrix $\\mathbf{X}$ can be rewritten as \n",
        "\\begin{align*}\n",
        "    \\mathbf{X} & = \\sum_{i=0}^{d-1}\\sigma_i U_i V_i^{\\text{T}} \\\\\n",
        "               & \\equiv \\sum_{i=0}^{d-1}\\mathbf{X}_i\n",
        "\\end{align*}\n",
        "where $\\sigma_i$ is the $i^\\text{th}$ singular value, $U_i$ and $V_i$ are vectors representing the $i^\\text{th}$ columns of $\\mathbf{U}$ and $\\mathbf{V}$, respectively, $d \\le L$ is the *rank* of the trajectory matrix, and $\\mathbf{X}_i = \\sigma_i U_i V_i^{\\text{T}}$ is the $i^\\text{th}$ *elementary matrix* of $\\mathbf{X}$. The collection $\\{U_i, \\sigma_i, V_i\\}$ will be denoted the $i^\\text{th}$ *eigentriple* of the SVD. The columns of the $\\mathbf{U}$ matrix form an orthonormal basis set that describes the time subseries $(f_i, \\ldots, f_{i+L-1})$ for $i=0, 1, \\dots, N-L$ (the columns of the $\\mathbf{X}$ matrix), the columns of the $\\mathbf{V}$ matrix form an orthonormal basis set that describes the time subseries $(f_i, \\ldots, f_{i+N-L})$ for $i=0, 1, \\dots, L-1$ (the rows of the $\\mathbf{X}$ matrix), and $\\sigma_i$ is a scaling factor that determines the relative importance of the eigentriple $(U_i, \\sigma_i, V_i)$ in the expansion $\\mathbf{X} = \\sum_{i=0}^{d-1}\\mathbf{X}_i = \\sum_{i=0}^{d-1}\\sigma_i U_i V_i^{\\text{T}}$, where $\\mathbf{X}_i$ is the $i^\\text{th}$ *elementary matrix* of $\\mathbf{X}$. After sorting the elementary matrices by their scaling factor $\\sigma_i$ in descending order, we can sum the first $r \\leq d$ elementary matrices to obtain an optimal, lower-dimensional approximation of $\\mathbf{X}$.\n",
        "\n",
        "If you would like to know more details on how all of this works, we recommend reading [this Kaggle article](https://www.kaggle.com/code/jdarcy/introducing-ssa-for-time-series-decomposition). For now, let's see what the 8 most important elementary matrices for each sample look like:"
      ]
    },
    {
      "cell_type": "code",
      "execution_count": null,
      "metadata": {},
      "outputs": [],
      "source": [
        "# Performs SVD on the background case\n",
        "U, Sigma, V_T = np.linalg.svd(np.moveaxis(X_background, -1, 0))   # Reshapes X to allow NumPy to perform SVD on both samples at once\n",
        "\n",
        "# Calculates the number of elementary matrices to visualize (can't be more than the matrix rank)\n",
        "num_elementary_matrices = min(8, np.linalg.matrix_rank(X_background[:, :, 0]), np.linalg.matrix_rank(X_background[:, :, 1]))\n",
        "\n",
        "# Creates a plot for us to visualize our elementary matrices\n",
        "fig = plt.figure()\n",
        "\n",
        "# Loops through the eigentriples and plots the resulting elementary matrices\n",
        "for i in range(num_elementary_matrices):\n",
        "    # Plots the elementary matrix for sample 1\n",
        "    ax = fig.add_subplot(4, 4, i + (2 * (i//2)) + 1)\n",
        "    ax.imshow(Sigma[0, i] * np.outer(U[0, :, i], V_T[0, i, :])) # Sample 1\n",
        "    ax.set_xticks([])                                           # Adjusts x axis\n",
        "    ax.set_yticks([])                                           # Adjusts y axis\n",
        "    ax.set_title(\"$\\mathbf{X}_{\" + str(i) + \"}$\")               # Title\n",
        "\n",
        "    # Plots the elementary matrix for sample 2\n",
        "    ax = fig.add_subplot(4, 4, i + (2 * (i//2)) + 3)\n",
        "    ax.imshow(Sigma[1, i] * np.outer(U[1, :, i], V_T[1, i, :])) # Sample 2\n",
        "    ax.set_xticks([])                                           # Adjusts x axis\n",
        "    ax.set_yticks([])                                           # Adjusts y axis\n",
        "    ax.set_title(\"$\\mathbf{X}_{\" + str(i) + \"}$\")               # Title\n",
        "\n",
        "# Sets the title for sample 1\n",
        "plt.subplot(1, 2, 1, frame_on=False)\n",
        "plt.xticks([])\n",
        "plt.yticks([])\n",
        "plt.title(\"Sample 1\", pad=25)\n",
        "\n",
        "# Sets the title for sample 2\n",
        "plt.subplot(1, 2, 2, frame_on=False)\n",
        "plt.xticks([])\n",
        "plt.yticks([])\n",
        "plt.title(\"Sample 2\", pad=25)\n",
        "\n",
        "# Sets the super title and separating line for the figure and shows the plot\n",
        "fig.suptitle(\"Background Elementary Matrices\")\n",
        "fig.add_artist(lines.Line2D([0.5125, 0.5125], [0.94, 0.11], linewidth=1.5, color='k'))\n",
        "fig.set_size_inches(8, 8)                                       # Adjusts plot size\n",
        "plt.show()\n",
        "plt.close()\n",
        "\n",
        "# Performs SVD on the BBH case\n",
        "U, Sigma, V_T = np.linalg.svd(np.moveaxis(X_bbh, -1, 0))   # Reshapes X to allow NumPy to perform SVD on both samples at once\n",
        "\n",
        "# Calculates the number of elementary matrices to visualize (can't be more than the matrix rank)\n",
        "num_elementary_matrices = min(8, np.linalg.matrix_rank(X_bbh[:, :, 0]), np.linalg.matrix_rank(X_bbh[:, :, 1]))\n",
        "\n",
        "# Creates a plot for us to visualize our elementary matrices\n",
        "fig = plt.figure()\n",
        "\n",
        "# Loops through the eigentriples and plots the resulting elementary matrices\n",
        "for i in range(num_elementary_matrices):\n",
        "    # Plots the elementary matrix for sample 1\n",
        "    ax = fig.add_subplot(4, 4, i + (2 * (i//2)) + 1)\n",
        "    ax.imshow(Sigma[0, i] * np.outer(U[0, :, i], V_T[0, i, :])) # Sample 1\n",
        "    ax.set_xticks([])                                           # Adjusts x axis\n",
        "    ax.set_yticks([])                                           # Adjusts y axis\n",
        "    ax.set_title(\"$\\mathbf{X}_{\" + str(i) + \"}$\")               # Title\n",
        "\n",
        "    # Plots the elementary matrix for sample 2\n",
        "    ax = fig.add_subplot(4, 4, i + (2 * (i//2)) + 3)\n",
        "    ax.imshow(Sigma[1, i] * np.outer(U[1, :, i], V_T[1, i, :])) # Sample 2\n",
        "    ax.set_xticks([])                                           # Adjusts x axis\n",
        "    ax.set_yticks([])                                           # Adjusts y axis\n",
        "    ax.set_title(\"$\\mathbf{X}_{\" + str(i) + \"}$\")               # Title\n",
        "\n",
        "# Sets the title for sample 1\n",
        "plt.subplot(1, 2, 1, frame_on=False)\n",
        "plt.xticks([])\n",
        "plt.yticks([])\n",
        "plt.title(\"Sample 1\", pad=25)\n",
        "\n",
        "# Sets the title for sample 2\n",
        "plt.subplot(1, 2, 2, frame_on=False)\n",
        "plt.xticks([])\n",
        "plt.yticks([])\n",
        "plt.title(\"Sample 2\", pad=25)\n",
        "\n",
        "# Sets the title and separating line for the figure and shows the plot\n",
        "fig.suptitle(\"BBH Elementary Matrices\")\n",
        "fig.add_artist(lines.Line2D([0.5125, 0.5125], [0.94, 0.11], linewidth=1.5, color='k'))\n",
        "fig.set_size_inches(8, 8)                                       # Adjusts plot size\n",
        "plt.show()\n",
        "plt.close()\n",
        "\n",
        "# Performs SVD on the SGLF case\n",
        "U, Sigma, V_T = np.linalg.svd(np.moveaxis(X_sglf, -1, 0))   # Reshapes X to allow NumPy to perform SVD on both samples at once\n",
        "\n",
        "# Calculates the number of elementary matrices to visualize (can't be more than the matrix rank)\n",
        "num_elementary_matrices = min(8, np.linalg.matrix_rank(X_sglf[:, :, 0]), np.linalg.matrix_rank(X_sglf[:, :, 1]))\n",
        "\n",
        "# Creates a plot for us to visualize our elementary matrices\n",
        "fig = plt.figure()\n",
        "\n",
        "# Loops through the eigentriples and plots the resulting elementary matrices\n",
        "for i in range(num_elementary_matrices):\n",
        "    # Plots the elementary matrix for sample 1\n",
        "    ax = fig.add_subplot(4, 4, i + (2 * (i//2)) + 1)\n",
        "    ax.imshow(Sigma[0, i] * np.outer(U[0, :, i], V_T[0, i, :])) # Sample 1\n",
        "    ax.set_xticks([])                                           # Adjusts x axis\n",
        "    ax.set_yticks([])                                           # Adjusts y axis\n",
        "    ax.set_title(\"$\\mathbf{X}_{\" + str(i) + \"}$\")               # Title\n",
        "\n",
        "    # Plots the elementary matrix for sample 2\n",
        "    ax = fig.add_subplot(4, 4, i + (2 * (i//2)) + 3)\n",
        "    ax.imshow(Sigma[1, i] * np.outer(U[1, :, i], V_T[1, i, :])) # Sample 2\n",
        "    ax.set_xticks([])                                           # Adjusts x axis\n",
        "    ax.set_yticks([])                                           # Adjusts y axis\n",
        "    ax.set_title(\"$\\mathbf{X}_{\" + str(i) + \"}$\")               # Title\n",
        "\n",
        "# Sets the title for sample 1\n",
        "plt.subplot(1, 2, 1, frame_on=False)\n",
        "plt.xticks([])\n",
        "plt.yticks([])\n",
        "plt.title(\"Sample 1\", pad=25)\n",
        "\n",
        "# Sets the title for sample 2\n",
        "plt.subplot(1, 2, 2, frame_on=False)\n",
        "plt.xticks([])\n",
        "plt.yticks([])\n",
        "plt.title(\"Sample 2\", pad=25)\n",
        "\n",
        "# Sets the title and separating line for the figure and shows the plot\n",
        "fig.suptitle(\"SGLF Elementary Matrices\")\n",
        "fig.add_artist(lines.Line2D([0.5125, 0.5125], [0.94, 0.11], linewidth=1.5, color='k'))\n",
        "fig.set_size_inches(8, 8)                                       # Adjusts plot size\n",
        "plt.show()\n",
        "plt.close()"
      ]
    },
    {
      "cell_type": "markdown",
      "metadata": {},
      "source": [
        "With SSA, the differences between classes become clearer. The BBH case contains elementary matrices with high associated singular values that contain large square chunks alternating in a checkered pattern. The SGLF case also contains a simiplar pattern with smaller squares in high-importance elementary matrices. The background case seems to be very noisy at best, providing no discernible patterns. We could already see this behavior from looking at the covariance matrix of each class earlier, but SSA seems to remove most of the noise from that approach, although it treats samples from the same case separately instead of looking at them together, like the covariance approach did. Regardless, given these patterns are clear enough to distinguish, we can use this representation of the data in our approach.\n",
        "\n",
        "# Picking an approach\n",
        "\n",
        "We have three data representations that we can use for our model:\n",
        "\n",
        "- The normalized timeseries data, representing space-time distortions over 200 timesteps recorded by two LIGO laser interferometers.\n",
        "\n",
        "- Covariance matrices, extracted from calculating the covariance between both samples over all timesteps, treating each timestep as an observation of a random variable.\n",
        "\n",
        "- Elementary matrices, extracted from performing Singular-Spectrum Analysis (SSA) on the timeseries data.\n",
        "\n",
        "Each one has their advantages and disadvantages. The normalized timeseries data is the purest form of the data and likely contains the most information, but its patterns may be too complex or subtle to detect without pre-processing. The covariance matrices provide the clearest representation of the correlation between samples, but it's noisy and is based on the flawed assumption that timesteps are independent from each other. The elementary matrices provide clear different patterns between the classes, but they treat each sample independently from each other and there's a limit to how many matrices we can process. Let's look at how we would leverage each data representation.\n",
        "\n",
        "## Normalized timeseries data\n",
        "\n",
        "We can utilize attention to capture the temporal relationships between timestep observations and hopefully classify the data cases based off of the learned features. This would require us to use an encoder-decoder architecture, as it would be impractical to try to use a transformer architecture alone to encode the timeseries data into a prediction by itself. Instead, we propose using the following architecture:\n",
        "\n",
        "<center><img src=\"img/Transformer_Encoder-Decoder_Network_Architecture.png\" alt=\"Transformer Encoder-Decoder Architecture\" width=\"600\"/></center>\n",
        "\n",
        "A dense feed-forward decoder architecture should be good enough to combine the features learned by the transformer encoder, especially if we use non-linear activation functions. However, given the complexity of the architecture, and the limited information that binary labels provide on their own, the model might be sensitive to initialization, as there could be multiple local minima in the loss function that do not correspond to the global minimum, meaning that different initializations could yield vastly different results. A problem that would be easier to solve would be recontructing the input timeseries using an **autoencoder**, as the timeseries data is much more informative than a single 0/1 label. This network would try to reconstruct the input data by learning a set of features from it, then using those features to assign values at each timestep, trying to minimize the difference between the input data and the reconstruction. This is essentially equivalent to the following: let $x \\in \\mathbb{R}^N$ be our input timeseries, and let $f: \\mathbb{R}^N \\to \\mathbb{R}^M$ and $g: \\mathbb{R}^M \\to \\mathbb{R}^N$, where $M \\leq N$. Then we are using the autoencoder to find $f(x)$ and $g(x)$ such that $x \\approx g(f(x))$, that is, we try to minimize $|x - g(f(x))|_2^2$.\n",
        "\n",
        "<center><img src=\"img/Transformer_Autoencoder_Network_Architecture.png\" alt=\"Transformer Autoencoder Architecture\" width=\"575\"/></center>\n",
        "\n",
        "Unfortunately, this isn't the problem we're trying to solve. However, we can train the transformer encoder on this task, as it's similar enough to our classification task, then use the learned parameters as an initialization for the transformer encoder in our classification model. This is what's known as **transfer learning**, and it consists of **pre-training** a model on a task, then deploying for a similar task, using an **adaptive layer** to adapt its output on one task to equivalent outputs for another task, and **fine-tuning** the transferred model to mitigate some of the differences between tasks. Please note that, while the transformer encoder architecture will be the same for both the autoencoder and the encoder-decoder networks, the dense decoder will have different architectures, as the dimensionality of the output is different.\n",
        "\n",
        "<center><img src=\"img/Transfer_Learning_Approach.png\" alt=\"Transfer Learning Approach\" width=\"750\"/></center>\n",
        "\n",
        "### Building the autoencoder\n",
        "\n",
        "The autoencoder we are going to use was provided to us via the starter code for the [NSF HDR A3D3: Detecting Anomalous Gravitational Wave Signals Challenge](https://www.codabench.org/competitions/2626/). We simply cleaned up the code and added L1 regularization.\n",
        "\n",
        "Our model processes a tensor of shape `(batch size, sequence length, features)`, where `sequence length` is the number of time steps and `features` is each input timeseries sample. The output is a tensor of shape `(batch size, sequence length, features)`, where `sequence length` is the number of time steps and `features` is each output timeseries sample.\n",
        "\n",
        "The model includes the following components:\n",
        "\n",
        "- `Transformer Encoder`: includes residual connections, layer normalization, dropout, L1 regularization and multi-head attention layers. The projection layers are implemented using `keras.layers.Conv1D`. This layer can be stacked multiple times.\n",
        "\n",
        "- `Dense Decoder`: after the transformer encoder, the dense decoder is used. It flattens the input, applies several dense layers with residual connections, dropout, and layer normalization, and then reshapes the output back to the original input shape.\n",
        "\n",
        "The final layer of the model is a dense layer that outputs a tensor of the same shape as the input.\n"
      ]
    },
    {
      "cell_type": "code",
      "execution_count": null,
      "metadata": {
        "colab": {
          "base_uri": "https://localhost:8080/",
          "height": 408
        },
        "id": "TruSmroqE13V",
        "outputId": "6bb2f3c2-6652-49a2-9d59-bfc93f515103"
      },
      "outputs": [],
      "source": [
        "class Autoencoder:\n",
        "    \"\"\"This class represents an autoencoder that takes input of shape (batch\n",
        "    size, sequence length, features) and outputs a reconstructed version of the\n",
        "    same input with shape (batch size, sequence length, features). It consists\n",
        "    of an encoder that contains one or multiple transformer blocks and a dense\n",
        "    decoder, with a final dense layer that ensures the output has the correct\n",
        "    shape. The implementation includes residual connections, layer\n",
        "    normalization, dropout, L1 regularization, multi-head attention layers, 1D\n",
        "    convolutional layers, and dense feed-forward layers using ReLu activation.\n",
        "    For training, the model uses MSE loss and an Adam optimizer.\n",
        "\n",
        "    Attributes\n",
        "    ----------\n",
        "    encoder : keras.Model\n",
        "        The transformer encoder part of the autoencoder\n",
        "    decoder : keras.Model\n",
        "        The dense feed-forward decoder part of the autoencoder\n",
        "    autoencoder : keras.Model\n",
        "        The full autoencoder\n",
        "    \n",
        "    Methods\n",
        "    -------\n",
        "    build_encoder(self, inputs, head_size, num_heads, ff_dim, l1=0,\n",
        "                  epsilon=1e-6, dropout=0)\n",
        "        Builds the transformer encoder part of the autoencoder\n",
        "    build_decoder(self, inputs, ff_dim, output_dim, l1=0, dropout=0)\n",
        "        Builds the dense feed-forward decoder part of the autoencoder\n",
        "    build_model(self, input_shape, head_size, num_heads, projection_dim,\n",
        "                ff_dim, num_transformer_blocks, l1=0, epsilon=1e-6, dropout=0)\n",
        "        Builds the autoencoder\n",
        "    save(self, path='')\n",
        "        Saves the autoencoder\n",
        "    save_encoder(self, path='')\n",
        "        Saves the encoder\n",
        "    save_decoder(self, path='')\n",
        "        Saves the decoder\n",
        "    load(self, path='')\n",
        "        Loads the autoencoder\n",
        "    load_encoder(self, path='')\n",
        "        Loads the encoder\n",
        "    load_decoder(self, path='')\n",
        "        Loads the decoder\n",
        "    fit(self, x_train, **kwargs)\n",
        "        Fits the autoencoder to some timeseries data\n",
        "    \"\"\"\n",
        "    def __init__(self):\n",
        "        super().__init__()\n",
        "        self.encoder = None         # The model's encoder\n",
        "        self.decoder = None         # The model's decoder\n",
        "        self.autoencoder = None     # The full model\n",
        "    \n",
        "\n",
        "    def build_encoder(self, input_shape, num_transformer_blocks, head_size,\n",
        "                      num_heads, projection_dim, l1=0, epsilon=1e-6,\n",
        "                      dropout=0):\n",
        "        \"\"\"Builds the transformer encoder part of the autoencoder\n",
        "\n",
        "        Parameters\n",
        "        ----------\n",
        "        input_shape : int tuple\n",
        "            The shape of the input without including batch size\n",
        "        num_transformer_blocks : int\n",
        "            Number of transformer blocks for the encoder\n",
        "        head_size : int\n",
        "            The size of each attention head\n",
        "        num_heads : int\n",
        "            The number of attention heads\n",
        "        projection_dim : int\n",
        "            Number of internal units for the 1D convolutional projection\n",
        "        l1 : float, optional\n",
        "            The L1 regularization coefficient (default is 0)\n",
        "        epsilon : float, optional\n",
        "            The layer normalization coefficient (default is 1e-6)\n",
        "        dropout : float, optional\n",
        "            The dropout probability (default is 0)\n",
        "\n",
        "        Returns\n",
        "        -------\n",
        "        int tuple\n",
        "            Shape of the outputs\n",
        "        \"\"\"\n",
        "\n",
        "        # Creates the placeholder inputs\n",
        "        inputs = keras.Input(shape=input_shape)\n",
        "        outputs = inputs    # To make the loop work\n",
        "\n",
        "        # Creates one transformer block per the number of blocks specified\n",
        "        for _ in range(num_transformer_blocks):\n",
        "            x = layers.MultiHeadAttention(key_dim=head_size,\n",
        "                                          num_heads=num_heads, dropout=dropout,\n",
        "                                          kernel_regularizer=L1(l1))(outputs,\n",
        "                                                                     outputs)\n",
        "            x = layers.Dropout(dropout)(x)\n",
        "            x = layers.LayerNormalization(epsilon=epsilon)(x)\n",
        "            res = x + outputs   # Residual layer\n",
        "\n",
        "            x = layers.Conv1D(filters=projection_dim, kernel_size=1,\n",
        "                          kernel_regularizer=L1(l1), activation=\"relu\")(res)\n",
        "            x = layers.Dropout(dropout)(x)\n",
        "            x = layers.Conv1D(filters=input_shape[-1], kernel_size=1,\n",
        "                          kernel_regularizer=L1(l1))(x)\n",
        "            x = layers.LayerNormalization(epsilon=epsilon)(x)\n",
        "            outputs = x + res   # Residual layer\n",
        "\n",
        "        # Saves the encoder\n",
        "        self.encoder = keras.Model(inputs, outputs)\n",
        "\n",
        "        # Returns the shape of the outputs\n",
        "        return outputs.shape\n",
        "\n",
        "\n",
        "    def build_decoder(self, input_shape, ff_dim, l1=0, epsilon=1e-6,\n",
        "                      dropout=0):\n",
        "        \"\"\"Builds the dense feed-foward decoder part of the autoencoder\n",
        "\n",
        "        Parameters\n",
        "        ----------\n",
        "        input_shape : int tuple\n",
        "            The shape of the input without including batch size\n",
        "        ff_dim : int\n",
        "            Number of internal units for the dense feed-forward layers\n",
        "        l1 : float, optional\n",
        "            The L1 regularization coefficient (default is 0)\n",
        "        epsilon : float, optional\n",
        "            The layer normalization coefficient (default is 1e-6)\n",
        "        dropout : float, optional\n",
        "            The dropout probability (default is 0)\n",
        "\n",
        "        Returns\n",
        "        -------\n",
        "        int tuple\n",
        "            Shape of the outputs\n",
        "        \"\"\"\n",
        "\n",
        "        # Creates the placeholder inputs\n",
        "        inputs = keras.Input(shape=input_shape)\n",
        "\n",
        "        # Flatten the input to apply dense layers\n",
        "        x = layers.Flatten()(inputs)\n",
        "        x = layers.Dense(ff_dim, kernel_regularizer=L1(l1), activation=\"relu\")(\n",
        "                         x)\n",
        "        x = layers.Dropout(dropout)(x)\n",
        "        x = layers.LayerNormalization(epsilon=epsilon)(x)\n",
        "        # Aligns dimensions for residual\n",
        "        res = layers.Dense(ff_dim, kernel_regularizer=L1(l1))(x)\n",
        "\n",
        "        x = layers.Dense(ff_dim, kernel_regularizer=L1(l1), activation=\"relu\")(\n",
        "                         x)\n",
        "        x = layers.Dropout(dropout)(x)\n",
        "        x = layers.LayerNormalization(epsilon=epsilon)(x)\n",
        "        x = x + res             # Residual layer\n",
        "\n",
        "        x = layers.Dense(ff_dim, kernel_regularizer=L1(l1), activation=\"relu\")(\n",
        "                         x)\n",
        "        x = layers.Dropout(dropout)(x)\n",
        "        # Projects to a flattened input shape\n",
        "        x = layers.Dense(np.prod(inputs.shape[1:]), kernel_regularizer=L1(l1))(\n",
        "                         x)\n",
        "        x = layers.LayerNormalization(epsilon=epsilon)(x)\n",
        "\n",
        "        # Reshapes to the input shape\n",
        "        x = layers.Reshape(inputs.shape[1:])(x)\n",
        "        outputs = x + inputs    # Residual layer\n",
        "\n",
        "        # Saves the decoder\n",
        "        self.decoder = keras.Model(inputs, outputs)\n",
        "\n",
        "        # Returns the shape of the outputs\n",
        "        return outputs.shape\n",
        "\n",
        "\n",
        "    def build_model(self, input_shape, head_size, num_heads, projection_dim,\n",
        "                    ff_dim, num_transformer_blocks, l1=0, epsilon=1e-6,\n",
        "                    dropout=0):\n",
        "        \"\"\"Builds the autoencoder\n",
        "\n",
        "        Parameters\n",
        "        ----------\n",
        "        input_shape : int tuple\n",
        "            The shape of the input without including batch size\n",
        "        head_size : int\n",
        "            The size of each attention head\n",
        "        num_heads : int\n",
        "            The number of attention heads\n",
        "        projection_dim : int\n",
        "            Number of internal units for the 1D convolutional projection\n",
        "        ff_dim : int\n",
        "            Number of internal units for the dense feed-forward layers\n",
        "        num_transformer_blocks : int\n",
        "            Number of transformer blocks for the encoder\n",
        "        l1 : float, optional\n",
        "            The L1 regularization coefficient (default is 0)\n",
        "        epsilon : float, optional\n",
        "            The layer normalization coefficient (default is 1e-6)\n",
        "        dropout : float, optional\n",
        "            The dropout probability (default is 0)\n",
        "        \"\"\"\n",
        "\n",
        "        # Encoder\n",
        "        if not self.encoder:\n",
        "            output_shape = self.build_encoder(input_shape,\n",
        "                                              num_transformer_blocks,\n",
        "                                              head_size, num_heads,\n",
        "                                              projection_dim, l1, epsilon,\n",
        "                                              dropout)[1:]\n",
        "\n",
        "        # Decoder\n",
        "        if not self.decoder:\n",
        "            self.build_decoder(output_shape, ff_dim, l1, epsilon,\n",
        "                               dropout)\n",
        "\n",
        "        # Runs placeholder inputs through the model\n",
        "        inputs = keras.Input(shape=input_shape)\n",
        "        x = self.encoder(x)\n",
        "        x = self.decoder(x)\n",
        "        outputs = layers.Dense(input_shape[-1])(x)  # Output layer\n",
        "\n",
        "        # Defines and compiles the autoencoder\n",
        "        self.autoencoder = keras.Model(inputs, outputs)\n",
        "        self.autoencoder.compile(loss='mse',\n",
        "                                 optimizer=Adam(learning_rate=1e-4))\n",
        "\n",
        "\n",
        "    def __call__(self, inputs, batch_size=64):\n",
        "        \"\"\"Performs a forward pass through the autoencoder\n",
        "\n",
        "        Parameters\n",
        "        ----------\n",
        "        inputs : Any\n",
        "            The inputs to process\n",
        "        batch_size : int, optional\n",
        "            Batch size for the processing (default is 64)\n",
        "\n",
        "        Returns\n",
        "        -------\n",
        "        Any\n",
        "            Result of the forward pass\n",
        "        \"\"\"\n",
        "\n",
        "        return self.autoencoder.predict(inputs, batch_size=batch_size)\n",
        "\n",
        "\n",
        "    def save(self, path=''):\n",
        "        \"\"\"Saves the autoencoder\n",
        "\n",
        "        Parameters\n",
        "        ----------\n",
        "        path : str, optional\n",
        "            The path to the folder in which to save the autoencoder (default is\n",
        "            '')\n",
        "        \"\"\"\n",
        "\n",
        "        self.autoencoder.save(os.path.join(path, 'autoencoder.keras'))\n",
        "\n",
        "\n",
        "    def save_encoder(self, path=''):\n",
        "        \"\"\"Saves the encoder\n",
        "\n",
        "        Parameters\n",
        "        ----------\n",
        "        path : str, optional\n",
        "            The path to the folder in which to save the encoder (default is '')\n",
        "        \"\"\"\n",
        "        \n",
        "        self.encoder.save(os.path.join(path, 'transformer_encoder.keras'))\n",
        "\n",
        "\n",
        "    def save_decoder(self, path=''):\n",
        "        \"\"\"Saves the decoder\n",
        "\n",
        "        Parameters\n",
        "        ----------\n",
        "        path : str, optional\n",
        "            The path to the folder in which to save the decoder (default is '')\n",
        "        \"\"\"\n",
        "        \n",
        "        self.decoder.save(os.path.join(path, 'dense_decoder.keras'))\n",
        "\n",
        "\n",
        "    def load(self, path=''):\n",
        "        \"\"\"Loads the autoencoder\n",
        "\n",
        "        Parameters\n",
        "        ----------\n",
        "        path : str, optional\n",
        "            The path to the folder from which to load the autoencoder (default\n",
        "            is '')\n",
        "        \"\"\"\n",
        "\n",
        "        self.autoencoder = load_model(os.path.join(path,\n",
        "                                                   'autoencoder.keras'))\n",
        "\n",
        "\n",
        "    def load_encoder(self, path=''):\n",
        "        \"\"\"Loads the encoder\n",
        "\n",
        "        Parameters\n",
        "        ----------\n",
        "        path : str, optional\n",
        "            The path to the folder from which to load the encoder (default is\n",
        "            '')\n",
        "        \"\"\"\n",
        "\n",
        "        self.encoder = load_model(os.path.join(path,\n",
        "                                               'transformer_encoder.keras'))\n",
        "\n",
        "\n",
        "    def load_decoder(self, path=''):\n",
        "        \"\"\"Loads the decoder\n",
        "\n",
        "        Parameters\n",
        "        ----------\n",
        "        path : str, optional\n",
        "            The path to the folder from which to load the decoder (default is\n",
        "            '')\n",
        "        \"\"\"\n",
        "\n",
        "        self.decoder = load_model(os.path.join(path, 'dense_decoder.keras'))\n",
        "\n",
        "\n",
        "    def fit(self, x_train, **kwargs):\n",
        "        \"\"\"Fits the autoencoder to some timeseries data\n",
        "\n",
        "        Parameters\n",
        "        ----------\n",
        "        x_train : Any\n",
        "            Training timeseries data\n",
        "        **validation_split : float\n",
        "            Proportion of data to be used for the validation set\n",
        "        **epochs : int\n",
        "            Number of epochs to train\n",
        "        **batch_size : int\n",
        "            Batch size to use during training\n",
        "        **callbacks : keras.callbacks list\n",
        "            Collection of callbacks to use during training\n",
        "\n",
        "        Returns\n",
        "        -------\n",
        "        dict\n",
        "            A dictionary with lists of performance metrics\n",
        "        \"\"\"\n",
        "\n",
        "        return self.autoencoder.fit(x_train, x_train, **kwargs)"
      ]
    },
    {
      "cell_type": "markdown",
      "metadata": {},
      "source": [
        "Now that we have defined our Autoencoder class, let's train it on our data:"
      ]
    },
    {
      "cell_type": "code",
      "execution_count": null,
      "metadata": {},
      "outputs": [],
      "source": [
        "# Hyperparameters for the autoencoder\n",
        "input_shape = x_train.shape[1:]\n",
        "head_size = 64\n",
        "num_heads = 2\n",
        "projection_dim = 64\n",
        "ff_dim = 64\n",
        "num_transformer_blocks = 2\n",
        "l1 = 0.1\n",
        "epsilon = 1e-6\n",
        "dropout = 0.1\n",
        "\n",
        "# Builds the model\n",
        "autoencoder = Autoencoder()\n",
        "autoencoder.build_model(\n",
        "    input_shape=input_shape,\n",
        "    head_size=head_size,\n",
        "    num_heads=num_heads,\n",
        "    projection_dim=projection_dim,\n",
        "    ff_dim=ff_dim,\n",
        "    num_transformer_blocks=num_transformer_blocks,\n",
        "    l1=l1,\n",
        "    epsilon=epsilon,\n",
        "    dropout=dropout\n",
        ")\n",
        "\n",
        "# Fits the autoencoder to the training data\n",
        "history = autoencoder.fit(\n",
        "    x_train,\n",
        "    validation_split=0.2,\n",
        "    epochs=50,\n",
        "    batch_size=32,\n",
        "    callbacks=[keras.callbacks.EarlyStopping(patience=10, restore_best_weights=True)]\n",
        ")"
      ]
    },
    {
      "cell_type": "code",
      "execution_count": 3,
      "metadata": {
        "colab": {
          "base_uri": "https://localhost:8080/",
          "height": 452
        },
        "id": "5cNCvQu5Gfww",
        "outputId": "2fe03496-4a57-40c8-ca35-ba2c0bf4f17b"
      },
      "outputs": [
        {
          "ename": "NameError",
          "evalue": "name 'plt' is not defined",
          "output_type": "error",
          "traceback": [
            "\u001b[1;31m---------------------------------------------------------------------------\u001b[0m",
            "\u001b[1;31mNameError\u001b[0m                                 Traceback (most recent call last)",
            "Cell \u001b[1;32mIn[3], line 1\u001b[0m\n\u001b[1;32m----> 1\u001b[0m \u001b[43mplt\u001b[49m\u001b[38;5;241m.\u001b[39mfigure()\n\u001b[0;32m      2\u001b[0m plt\u001b[38;5;241m.\u001b[39mplot(x_test[\u001b[38;5;241m0\u001b[39m, :, \u001b[38;5;241m0\u001b[39m])\n\u001b[0;32m      3\u001b[0m plt\u001b[38;5;241m.\u001b[39mplot(x_test[\u001b[38;5;241m0\u001b[39m, :, \u001b[38;5;241m1\u001b[39m])\n",
            "\u001b[1;31mNameError\u001b[0m: name 'plt' is not defined"
          ]
        }
      ],
      "source": [
        "plt.figure()\n",
        "plt.plot(x_test[0, :, 0])\n",
        "plt.plot(x_test[0, :, 1])\n",
        "plt.title(\"Before autoencoder\")\n",
        "plt.legend([\"sample 1\", \"sample 2\"], loc=\"best\")\n",
        "plt.show()\n",
        "plt.close()"
      ]
    },
    {
      "cell_type": "code",
      "execution_count": null,
      "metadata": {
        "id": "6DpkaGijejBf"
      },
      "outputs": [],
      "source": [
        "# Save the entire model as a SavedModel.\n",
        "__file__=''\n",
        "!mkdir -p saved_model\n",
        "autoencoder.save('')"
      ]
    },
    {
      "cell_type": "code",
      "execution_count": null,
      "metadata": {
        "colab": {
          "base_uri": "https://localhost:8080/",
          "height": 211
        },
        "id": "0_p5UYXb1-P6",
        "outputId": "a867c4b4-3210-4371-e5b7-35b420048d53"
      },
      "outputs": [
        {
          "ename": "NameError",
          "evalue": "name 'plt' is not defined",
          "output_type": "error",
          "traceback": [
            "\u001b[0;31m---------------------------------------------------------------------------\u001b[0m",
            "\u001b[0;31mNameError\u001b[0m                                 Traceback (most recent call last)",
            "\u001b[0;32m<ipython-input-1-25b82b63a13b>\u001b[0m in \u001b[0;36m<cell line: 1>\u001b[0;34m()\u001b[0m\n\u001b[0;32m----> 1\u001b[0;31m \u001b[0mplt\u001b[0m\u001b[0;34m.\u001b[0m\u001b[0mfigure\u001b[0m\u001b[0;34m(\u001b[0m\u001b[0;34m)\u001b[0m\u001b[0;34m\u001b[0m\u001b[0;34m\u001b[0m\u001b[0m\n\u001b[0m\u001b[1;32m      2\u001b[0m \u001b[0mplt\u001b[0m\u001b[0;34m.\u001b[0m\u001b[0mplot\u001b[0m\u001b[0;34m(\u001b[0m\u001b[0mx_test\u001b[0m\u001b[0;34m[\u001b[0m\u001b[0;36m0\u001b[0m\u001b[0;34m,\u001b[0m \u001b[0;34m:\u001b[0m\u001b[0;34m,\u001b[0m \u001b[0;36m0\u001b[0m\u001b[0;34m]\u001b[0m\u001b[0;34m)\u001b[0m\u001b[0;34m\u001b[0m\u001b[0;34m\u001b[0m\u001b[0m\n\u001b[1;32m      3\u001b[0m \u001b[0mplt\u001b[0m\u001b[0;34m.\u001b[0m\u001b[0mplot\u001b[0m\u001b[0;34m(\u001b[0m\u001b[0mautoencoder\u001b[0m\u001b[0;34m.\u001b[0m\u001b[0mpredict\u001b[0m\u001b[0;34m(\u001b[0m\u001b[0mx_test\u001b[0m\u001b[0;34m[\u001b[0m\u001b[0;36m0\u001b[0m\u001b[0;34m,\u001b[0m \u001b[0;34m:\u001b[0m\u001b[0;34m,\u001b[0m \u001b[0;36m0\u001b[0m\u001b[0;34m]\u001b[0m\u001b[0;34m)\u001b[0m\u001b[0;34m)\u001b[0m\u001b[0;34m\u001b[0m\u001b[0;34m\u001b[0m\u001b[0m\n\u001b[1;32m      4\u001b[0m \u001b[0mplt\u001b[0m\u001b[0;34m.\u001b[0m\u001b[0mtitle\u001b[0m\u001b[0;34m(\u001b[0m\u001b[0;34m\"Autoencoder in action 1\"\u001b[0m\u001b[0;34m)\u001b[0m\u001b[0;34m\u001b[0m\u001b[0;34m\u001b[0m\u001b[0m\n\u001b[1;32m      5\u001b[0m \u001b[0mplt\u001b[0m\u001b[0;34m.\u001b[0m\u001b[0mlegend\u001b[0m\u001b[0;34m(\u001b[0m\u001b[0;34m[\u001b[0m\u001b[0;34m\"original\"\u001b[0m\u001b[0;34m,\u001b[0m \u001b[0;34m\"reconstructed\"\u001b[0m\u001b[0;34m]\u001b[0m\u001b[0;34m,\u001b[0m \u001b[0mloc\u001b[0m\u001b[0;34m=\u001b[0m\u001b[0;34m\"best\"\u001b[0m\u001b[0;34m)\u001b[0m\u001b[0;34m\u001b[0m\u001b[0;34m\u001b[0m\u001b[0m\n",
            "\u001b[0;31mNameError\u001b[0m: name 'plt' is not defined"
          ]
        }
      ],
      "source": [
        "plt.figure()\n",
        "plt.plot(x_test[0, :, 0])\n",
        "plt.plot(autoencoder.predict(x_test[0, :, 0]))\n",
        "plt.title(\"Autoencoder in action 1\")\n",
        "plt.legend([\"original\", \"reconstructed\"], loc=\"best\")\n",
        "plt.show()\n",
        "plt.close()\n",
        "\n",
        "plt.figure()\n",
        "plt.plot(x_test[0, :, 1])\n",
        "plt.plot(autoencoder.predict(x_test[0, :, 1]))\n",
        "plt.title(\"Autoencoder in action 2\")\n",
        "plt.legend([\"original\", \"reconstructed\"], loc=\"best\")\n",
        "plt.show()\n",
        "plt.close()"
      ]
    },
    {
      "cell_type": "code",
      "execution_count": null,
      "metadata": {
        "colab": {
          "base_uri": "https://localhost:8080/",
          "height": 476
        },
        "id": "m-SDthZeWaVm",
        "outputId": "738d9ed5-8036-41ba-dbb3-4d35838feadc"
      },
      "outputs": [
        {
          "data": {
            "image/png": "[encoded data removed]",
            "text/plain": [
              "<Figure size 640x480 with 1 Axes>"
            ]
          },
          "metadata": {},
          "output_type": "display_data"
        }
      ],
      "source": [
        "# This is just an example; you would probably like to train the model for more epochs\n",
        "metric = \"loss\"\n",
        "plt.figure()\n",
        "plt.plot(history.history[metric])\n",
        "plt.plot(history.history[\"val_\" + metric])\n",
        "plt.title(\"Model \" + metric)\n",
        "plt.ylabel(metric, fontsize=\"large\")\n",
        "plt.xlabel(\"epoch\", fontsize=\"large\")\n",
        "plt.legend([\"train\", \"val\"], loc=\"best\")\n",
        "plt.show()\n",
        "plt.close()"
      ]
    },
    {
      "cell_type": "code",
      "execution_count": null,
      "metadata": {
        "colab": {
          "base_uri": "https://localhost:8080/",
          "height": 522
        },
        "id": "2Ry2LkTGCPeL",
        "outputId": "5163b14c-29bb-44ed-eb0b-ed2f6ded11a7"
      },
      "outputs": [
        {
          "name": "stdout",
          "output_type": "stream",
          "text": [
            "\u001b[1m1875/1875\u001b[0m \u001b[32m━━━━━━━━━━━━━━━━━━━━\u001b[0m\u001b[37m\u001b[0m \u001b[1m5s\u001b[0m 2ms/step\n",
            "\u001b[1m3125/3125\u001b[0m \u001b[32m━━━━━━━━━━━━━━━━━━━━\u001b[0m\u001b[37m\u001b[0m \u001b[1m6s\u001b[0m 2ms/step\n"
          ]
        },
        {
          "data": {
            "image/png": "[encoded data removed]",
            "text/plain": [
              "<Figure size 640x480 with 1 Axes>"
            ]
          },
          "metadata": {},
          "output_type": "display_data"
        }
      ],
      "source": [
        "def make_plot_roc_curves(qcd, bsm):\n",
        "\n",
        "    true_val = np.concatenate((np.ones(bsm.shape[0]), np.zeros(qcd.shape[0])))\n",
        "    pred_val = np.concatenate((bsm, qcd))\n",
        "\n",
        "    fpr_loss, tpr_loss, threshold_loss = roc_curve(true_val, pred_val)\n",
        "\n",
        "    auc_loss = auc(fpr_loss, tpr_loss)\n",
        "\n",
        "\n",
        "    qcd[::-1].sort()\n",
        "\n",
        "    plt.plot(fpr_loss, tpr_loss, '-', label=f'MSE (auc = %.1f%%)'%(auc_loss*100.),\n",
        "        linewidth=1.5)\n",
        "    plt.plot(np.linspace(0, 1),np.linspace(0, 1), '--', color='0.75')\n",
        "\n",
        "    plt.semilogx()\n",
        "    plt.semilogy()\n",
        "    plt.ylabel('True Positive Rate')\n",
        "    plt.xlabel('False Positive Rate')\n",
        "    plt.grid(True)\n",
        "    plt.legend()\n",
        "    plt.tight_layout()\n",
        "    plt.show()\n",
        "\n",
        "# evaluate on test background and signal samples\n",
        "background_test = autoencoder.predict(x_test)\n",
        "signal_test = autoencoder.predict(bbh)\n",
        "\n",
        "make_plot_roc_curves(background_test, signal_test)"
      ]
    },
    {
      "cell_type": "code",
      "execution_count": null,
      "metadata": {
        "colab": {
          "base_uri": "https://localhost:8080/",
          "height": 447
        },
        "id": "OJVPQXqvUmGJ",
        "outputId": "0aec51b8-fc0f-4dc5-91b6-5bde035b485c"
      },
      "outputs": [
        {
          "data": {
            "text/plain": [
              "<matplotlib.legend.Legend at 0x7f9e197fdfc0>"
            ]
          },
          "execution_count": 10,
          "metadata": {},
          "output_type": "execute_result"
        },
        {
          "data": {
            "image/png": "[encoded data removed]",
            "text/plain": [
              "<Figure size 640x480 with 1 Axes>"
            ]
          },
          "metadata": {},
          "output_type": "display_data"
        }
      ],
      "source": [
        "plt.hist(background_test, density=True, bins=100, alpha=0.5, label='Background')\n",
        "plt.hist(signal_test, density=True, bins=100, alpha=0.5, label='Signal')\n",
        "plt.semilogy()\n",
        "plt.legend()"
      ]
    },
    {
      "cell_type": "code",
      "execution_count": null,
      "metadata": {
        "id": "-AtNVHpbNfAd"
      },
      "outputs": [],
      "source": [
        "cov_matrix_list = []\n",
        "for i in range(background.shape[0]):\n",
        "    cov_matrix_list.append(np.cov(background[i]))\n",
        "\n",
        "cov_matrix = np.stack(cov_matrix_list)[:, :, :, np.newaxis]"
      ]
    },
    {
      "cell_type": "code",
      "execution_count": null,
      "metadata": {
        "colab": {
          "base_uri": "https://localhost:8080/",
          "height": 845
        },
        "id": "Nc6sROXGr1uL",
        "outputId": "bddd9273-1dc4-4e98-fea0-e0dbbcef14b0"
      },
      "outputs": [
        {
          "name": "stdout",
          "output_type": "stream",
          "text": [
            "Incoming shape: (None, 200, 200, 1)\n",
            "Epoch 1/20:\n",
            "Training metrics: loss = 0.2527904891173045, accuracy = 0.8774166666666626, TP = 34232.0, TN = 71058.0, FP = 8929.0, FN = 5781.0\n",
            "Validation metrics: loss = 0.1605173025383498, accuracy = 0.9384550462399445, TP = 9326.0, TN = 18828.0, FP = 1185.0, FN = 661.0\n",
            "Epoch 2/20:\n",
            "Training metrics: loss = 0.11067365287840385, accuracy = 0.9579916666666755, TP = 37508.0, TN = 77451.0, FP = 2536.0, FN = 2505.0\n",
            "Validation metrics: loss = 0.11231467220733665, accuracy = 0.9596992714572802, TP = 9474.0, TN = 19317.0, FP = 696.0, FN = 513.0\n",
            "Epoch 3/20:\n",
            "Training metrics: loss = 0.08566587781161081, accuracy = 0.9686083333333476, TP = 38141.0, TN = 78092.0, FP = 1895.0, FN = 1872.0\n",
            "Validation metrics: loss = 0.09607136278931515, accuracy = 0.9656960731630374, TP = 9514.0, TN = 19457.0, FP = 556.0, FN = 473.0\n",
            "Epoch 4/20:\n",
            "Training metrics: loss = 0.07433319678703944, accuracy = 0.9726083333333496, TP = 38406.0, TN = 78307.0, FP = 1680.0, FN = 1607.0\n",
            "Validation metrics: loss = 0.08868523701818883, accuracy = 0.9677505330490395, TP = 9542.0, TN = 19491.0, FP = 522.0, FN = 445.0\n",
            "Epoch 5/20:\n",
            "Training metrics: loss = 0.0676170315583547, accuracy = 0.97520000000002, TP = 38569.0, TN = 78455.0, FP = 1532.0, FN = 1444.0\n",
            "Validation metrics: loss = 0.08547252027599858, accuracy = 0.9693496801705753, TP = 9553.0, TN = 19528.0, FP = 485.0, FN = 434.0\n",
            "Epoch 6/20:\n",
            "Training metrics: loss = 0.06314537490134432, accuracy = 0.9769083333333539, TP = 38675.0, TN = 78554.0, FP = 1433.0, FN = 1338.0\n",
            "Validation metrics: loss = 0.08422176882243364, accuracy = 0.9701159381663115, TP = 9577.0, TN = 19527.0, FP = 486.0, FN = 410.0\n",
            "Epoch 7/20:\n",
            "Training metrics: loss = 0.05982933985888965, accuracy = 0.9778916666666874, TP = 38756.0, TN = 78591.0, FP = 1396.0, FN = 1257.0\n",
            "Validation metrics: loss = 0.08310069534570177, accuracy = 0.9703824626865664, TP = 9583.0, TN = 19529.0, FP = 484.0, FN = 404.0\n",
            "Epoch 8/20:\n",
            "Training metrics: loss = 0.057179137553274556, accuracy = 0.9787250000000208, TP = 38812.0, TN = 78635.0, FP = 1352.0, FN = 1201.0\n",
            "Validation metrics: loss = 0.08257755554164026, accuracy = 0.9703824626865666, TP = 9583.0, TN = 19529.0, FP = 484.0, FN = 404.0\n",
            "Epoch 9/20:\n"
          ]
        },
        {
          "ename": "KeyboardInterrupt",
          "evalue": "",
          "output_type": "error",
          "traceback": [
            "\u001b[0;31m---------------------------------------------------------------------------\u001b[0m",
            "\u001b[0;31mKeyboardInterrupt\u001b[0m                         Traceback (most recent call last)",
            "\u001b[0;32m<ipython-input-7-cbb701c6440e>\u001b[0m in \u001b[0;36m<cell line: 0>\u001b[0;34m()\u001b[0m\n\u001b[1;32m    165\u001b[0m \u001b[0;34m\u001b[0m\u001b[0m\n\u001b[1;32m    166\u001b[0m \u001b[0;31m# Assuming x_train is your input data\u001b[0m\u001b[0;34m\u001b[0m\u001b[0;34m\u001b[0m\u001b[0m\n\u001b[0;32m--> 167\u001b[0;31m training_loss, val_loss = predictor.fit(\n\u001b[0m\u001b[1;32m    168\u001b[0m     \u001b[0mx_train\u001b[0m\u001b[0;34m,\u001b[0m\u001b[0;34m\u001b[0m\u001b[0;34m\u001b[0m\u001b[0m\n\u001b[1;32m    169\u001b[0m     \u001b[0my_train\u001b[0m\u001b[0;34m,\u001b[0m\u001b[0;34m\u001b[0m\u001b[0;34m\u001b[0m\u001b[0m\n",
            "\u001b[0;32m<ipython-input-7-cbb701c6440e>\u001b[0m in \u001b[0;36mfit\u001b[0;34m(self, x_train, y_train, epochs, validation_split, **kwargs)\u001b[0m\n\u001b[1;32m    100\u001b[0m           \u001b[0mcov_matrix_list\u001b[0m \u001b[0;34m=\u001b[0m \u001b[0;34m[\u001b[0m\u001b[0;34m]\u001b[0m\u001b[0;34m\u001b[0m\u001b[0;34m\u001b[0m\u001b[0m\n\u001b[1;32m    101\u001b[0m           \u001b[0;32mfor\u001b[0m \u001b[0mi\u001b[0m \u001b[0;32min\u001b[0m \u001b[0mrange\u001b[0m\u001b[0;34m(\u001b[0m\u001b[0mbatch_x\u001b[0m\u001b[0;34m.\u001b[0m\u001b[0mshape\u001b[0m\u001b[0;34m[\u001b[0m\u001b[0;36m0\u001b[0m\u001b[0;34m]\u001b[0m\u001b[0;34m)\u001b[0m\u001b[0;34m:\u001b[0m\u001b[0;34m\u001b[0m\u001b[0;34m\u001b[0m\u001b[0m\n\u001b[0;32m--> 102\u001b[0;31m             \u001b[0mcov_matrix_list\u001b[0m\u001b[0;34m.\u001b[0m\u001b[0mappend\u001b[0m\u001b[0;34m(\u001b[0m\u001b[0mnp\u001b[0m\u001b[0;34m.\u001b[0m\u001b[0mcov\u001b[0m\u001b[0;34m(\u001b[0m\u001b[0mbatch_x\u001b[0m\u001b[0;34m[\u001b[0m\u001b[0mi\u001b[0m\u001b[0;34m]\u001b[0m\u001b[0;34m)\u001b[0m\u001b[0;34m)\u001b[0m\u001b[0;34m\u001b[0m\u001b[0;34m\u001b[0m\u001b[0m\n\u001b[0m\u001b[1;32m    103\u001b[0m \u001b[0;34m\u001b[0m\u001b[0m\n\u001b[1;32m    104\u001b[0m           \u001b[0mcov_matrix\u001b[0m \u001b[0;34m=\u001b[0m \u001b[0mnp\u001b[0m\u001b[0;34m.\u001b[0m\u001b[0mstack\u001b[0m\u001b[0;34m(\u001b[0m\u001b[0mcov_matrix_list\u001b[0m\u001b[0;34m)\u001b[0m\u001b[0;34m[\u001b[0m\u001b[0;34m:\u001b[0m\u001b[0;34m,\u001b[0m \u001b[0;34m:\u001b[0m\u001b[0;34m,\u001b[0m \u001b[0;34m:\u001b[0m\u001b[0;34m,\u001b[0m \u001b[0mnp\u001b[0m\u001b[0;34m.\u001b[0m\u001b[0mnewaxis\u001b[0m\u001b[0;34m]\u001b[0m\u001b[0;34m\u001b[0m\u001b[0;34m\u001b[0m\u001b[0m\n",
            "\u001b[0;32m/usr/local/lib/python3.11/dist-packages/numpy/lib/function_base.py\u001b[0m in \u001b[0;36mcov\u001b[0;34m(m, y, rowvar, bias, ddof, fweights, aweights, dtype)\u001b[0m\n\u001b[1;32m   2722\u001b[0m             \u001b[0mw\u001b[0m \u001b[0;34m*=\u001b[0m \u001b[0maweights\u001b[0m\u001b[0;34m\u001b[0m\u001b[0;34m\u001b[0m\u001b[0m\n\u001b[1;32m   2723\u001b[0m \u001b[0;34m\u001b[0m\u001b[0m\n\u001b[0;32m-> 2724\u001b[0;31m     \u001b[0mavg\u001b[0m\u001b[0;34m,\u001b[0m \u001b[0mw_sum\u001b[0m \u001b[0;34m=\u001b[0m \u001b[0maverage\u001b[0m\u001b[0;34m(\u001b[0m\u001b[0mX\u001b[0m\u001b[0;34m,\u001b[0m \u001b[0maxis\u001b[0m\u001b[0;34m=\u001b[0m\u001b[0;36m1\u001b[0m\u001b[0;34m,\u001b[0m \u001b[0mweights\u001b[0m\u001b[0;34m=\u001b[0m\u001b[0mw\u001b[0m\u001b[0;34m,\u001b[0m \u001b[0mreturned\u001b[0m\u001b[0;34m=\u001b[0m\u001b[0;32mTrue\u001b[0m\u001b[0;34m)\u001b[0m\u001b[0;34m\u001b[0m\u001b[0;34m\u001b[0m\u001b[0m\n\u001b[0m\u001b[1;32m   2725\u001b[0m     \u001b[0mw_sum\u001b[0m \u001b[0;34m=\u001b[0m \u001b[0mw_sum\u001b[0m\u001b[0;34m[\u001b[0m\u001b[0;36m0\u001b[0m\u001b[0;34m]\u001b[0m\u001b[0;34m\u001b[0m\u001b[0;34m\u001b[0m\u001b[0m\n\u001b[1;32m   2726\u001b[0m \u001b[0;34m\u001b[0m\u001b[0m\n",
            "\u001b[0;32m/usr/local/lib/python3.11/dist-packages/numpy/lib/function_base.py\u001b[0m in \u001b[0;36maverage\u001b[0;34m(a, axis, weights, returned, keepdims)\u001b[0m\n\u001b[1;32m    518\u001b[0m \u001b[0;34m\u001b[0m\u001b[0m\n\u001b[1;32m    519\u001b[0m     \u001b[0;32mif\u001b[0m \u001b[0mweights\u001b[0m \u001b[0;32mis\u001b[0m \u001b[0;32mNone\u001b[0m\u001b[0;34m:\u001b[0m\u001b[0;34m\u001b[0m\u001b[0;34m\u001b[0m\u001b[0m\n\u001b[0;32m--> 520\u001b[0;31m         \u001b[0mavg\u001b[0m \u001b[0;34m=\u001b[0m \u001b[0ma\u001b[0m\u001b[0;34m.\u001b[0m\u001b[0mmean\u001b[0m\u001b[0;34m(\u001b[0m\u001b[0maxis\u001b[0m\u001b[0;34m,\u001b[0m \u001b[0;34m**\u001b[0m\u001b[0mkeepdims_kw\u001b[0m\u001b[0;34m)\u001b[0m\u001b[0;34m\u001b[0m\u001b[0;34m\u001b[0m\u001b[0m\n\u001b[0m\u001b[1;32m    521\u001b[0m         \u001b[0mavg_as_array\u001b[0m \u001b[0;34m=\u001b[0m \u001b[0mnp\u001b[0m\u001b[0;34m.\u001b[0m\u001b[0masanyarray\u001b[0m\u001b[0;34m(\u001b[0m\u001b[0mavg\u001b[0m\u001b[0;34m)\u001b[0m\u001b[0;34m\u001b[0m\u001b[0;34m\u001b[0m\u001b[0m\n\u001b[1;32m    522\u001b[0m         \u001b[0mscl\u001b[0m \u001b[0;34m=\u001b[0m \u001b[0mavg_as_array\u001b[0m\u001b[0;34m.\u001b[0m\u001b[0mdtype\u001b[0m\u001b[0;34m.\u001b[0m\u001b[0mtype\u001b[0m\u001b[0;34m(\u001b[0m\u001b[0ma\u001b[0m\u001b[0;34m.\u001b[0m\u001b[0msize\u001b[0m\u001b[0;34m/\u001b[0m\u001b[0mavg_as_array\u001b[0m\u001b[0;34m.\u001b[0m\u001b[0msize\u001b[0m\u001b[0;34m)\u001b[0m\u001b[0;34m\u001b[0m\u001b[0;34m\u001b[0m\u001b[0m\n",
            "\u001b[0;32m/usr/local/lib/python3.11/dist-packages/numpy/core/_methods.py\u001b[0m in \u001b[0;36m_mean\u001b[0;34m(a, axis, dtype, out, keepdims, where)\u001b[0m\n\u001b[1;32m    110\u001b[0m     \u001b[0;31m# Cast bool, unsigned int, and int to float64 by default\u001b[0m\u001b[0;34m\u001b[0m\u001b[0;34m\u001b[0m\u001b[0m\n\u001b[1;32m    111\u001b[0m     \u001b[0;32mif\u001b[0m \u001b[0mdtype\u001b[0m \u001b[0;32mis\u001b[0m \u001b[0;32mNone\u001b[0m\u001b[0;34m:\u001b[0m\u001b[0;34m\u001b[0m\u001b[0;34m\u001b[0m\u001b[0m\n\u001b[0;32m--> 112\u001b[0;31m         \u001b[0;32mif\u001b[0m \u001b[0missubclass\u001b[0m\u001b[0;34m(\u001b[0m\u001b[0marr\u001b[0m\u001b[0;34m.\u001b[0m\u001b[0mdtype\u001b[0m\u001b[0;34m.\u001b[0m\u001b[0mtype\u001b[0m\u001b[0;34m,\u001b[0m \u001b[0;34m(\u001b[0m\u001b[0mnt\u001b[0m\u001b[0;34m.\u001b[0m\u001b[0minteger\u001b[0m\u001b[0;34m,\u001b[0m \u001b[0mnt\u001b[0m\u001b[0;34m.\u001b[0m\u001b[0mbool_\u001b[0m\u001b[0;34m)\u001b[0m\u001b[0;34m)\u001b[0m\u001b[0;34m:\u001b[0m\u001b[0;34m\u001b[0m\u001b[0;34m\u001b[0m\u001b[0m\n\u001b[0m\u001b[1;32m    113\u001b[0m             \u001b[0mdtype\u001b[0m \u001b[0;34m=\u001b[0m \u001b[0mmu\u001b[0m\u001b[0;34m.\u001b[0m\u001b[0mdtype\u001b[0m\u001b[0;34m(\u001b[0m\u001b[0;34m'f8'\u001b[0m\u001b[0;34m)\u001b[0m\u001b[0;34m\u001b[0m\u001b[0;34m\u001b[0m\u001b[0m\n\u001b[1;32m    114\u001b[0m         \u001b[0;32melif\u001b[0m \u001b[0missubclass\u001b[0m\u001b[0;34m(\u001b[0m\u001b[0marr\u001b[0m\u001b[0;34m.\u001b[0m\u001b[0mdtype\u001b[0m\u001b[0;34m.\u001b[0m\u001b[0mtype\u001b[0m\u001b[0;34m,\u001b[0m \u001b[0mnt\u001b[0m\u001b[0;34m.\u001b[0m\u001b[0mfloat16\u001b[0m\u001b[0;34m)\u001b[0m\u001b[0;34m:\u001b[0m\u001b[0;34m\u001b[0m\u001b[0;34m\u001b[0m\u001b[0m\n",
            "\u001b[0;31mKeyboardInterrupt\u001b[0m: "
          ]
        }
      ],
      "source": [
        "class Covariance_Model:\n",
        "    def __init__(self):\n",
        "        super().__init__()\n",
        "\n",
        "    def conv_encoder(self, inputs, ff_dim, kernel_size, strides=1, dropout=0):\n",
        "        x = layers.Conv2D(filters=16, kernel_size=kernel_size, strides=strides, activation=\"relu\")(inputs)\n",
        "        x = layers.Dropout(dropout)(x)\n",
        "        x = layers.MaxPool2D((3, 3))(x)\n",
        "        x = layers.LayerNormalization(epsilon=1e-6)(x)\n",
        "        x = layers.Conv2D(filters=8, kernel_size=kernel_size, strides=strides, activation=\"relu\")(inputs)\n",
        "        x = layers.Dropout(dropout)(x)\n",
        "        x = layers.MaxPool2D((3, 3))(x)\n",
        "        x = layers.LayerNormalization(epsilon=1e-6)(x)\n",
        "        x = layers.Conv2D(filters=1, kernel_size=x.shape[1], activation='sigmoid')(x)\n",
        "        x = layers.Flatten()(x)\n",
        "\n",
        "        return x\n",
        "\n",
        "    def dense_predictor(self, inputs, pred_dim, dropout=0):\n",
        "        # Flattens the input to apply dense layers\n",
        "        x = layers.Flatten()(inputs)\n",
        "\n",
        "        current_units = int(np.power(2, np.ceil(np.log2(x.shape[-1]))))\n",
        "\n",
        "        while(current_units > pred_dim):\n",
        "          current_units //= 2\n",
        "          x = layers.Dense(current_units, activation=\"relu\")(x)\n",
        "          x = layers.Dropout(dropout)(x)\n",
        "          x = layers.LayerNormalization(epsilon=1e-6)(x)\n",
        "\n",
        "        # Calculates probabilities for prediction\n",
        "        x = layers.Dense(1, activation=\"sigmoid\")(x)\n",
        "        return x\n",
        "\n",
        "    def build_model(self, input_shape, kernel_size, ff_dim, pred_dim, strides=1, dropout=0, mlp_dropout=0):\n",
        "        inputs = keras.Input(shape=input_shape)\n",
        "\n",
        "        # Encoder\n",
        "        x = inputs\n",
        "\n",
        "        outputs = self.conv_encoder(x, ff_dim=ff_dim, kernel_size=kernel_size, strides=strides)\n",
        "\n",
        "        print(f\"Incoming shape: {x.shape}\")\n",
        "\n",
        "        # Predictor\n",
        "        # outputs = self.dense_predictor(x, pred_dim, dropout)\n",
        "\n",
        "        metrics = [tf.keras.metrics.BinaryAccuracy(name='accuracy'),\n",
        "                   keras.metrics.TruePositives(name='tp'),\n",
        "                   keras.metrics.FalsePositives(name='fp'),\n",
        "                   keras.metrics.TrueNegatives(name='tn'),\n",
        "                   keras.metrics.FalseNegatives(name='fn')]\n",
        "\n",
        "        self.model = keras.Model(inputs, outputs)\n",
        "        self.model.compile(loss='binary_crossentropy', optimizer=keras.optimizers.Adam(learning_rate=1e-4),\n",
        "                           metrics=metrics)\n",
        "\n",
        "    def predict(self, X, batch_size=32):\n",
        "        return np.where(self.model.predict(X, batch_size=batch_size) >= 0.5, 1, 0)\n",
        "\n",
        "    def __call__(self, inputs, batch_size=64):\n",
        "        return self.model.predict(inputs, batch_size=batch_size)\n",
        "\n",
        "    def save(self, path):\n",
        "        self.model.save(os.path.join(os.path.dirname(__file__), 'model.keras'))\n",
        "\n",
        "    def load(self):\n",
        "        self.model = keras.models.load_model(os.path.join(os.path.dirname(__file__), 'model.keras'))\n",
        "\n",
        "    def fit(self, x_train, y_train, epochs=1, validation_split=0.0, **kwargs):\n",
        "      if validation_split > 0:\n",
        "        x_train, x_val, y_train, y_val = train_test_split(\n",
        "            data, labels, test_size=validation_split, random_state=42)\n",
        "\n",
        "      if 'batch_size' in kwargs:\n",
        "        batch_size = kwargs['batch_size']\n",
        "      else:\n",
        "        batch_size = 1\n",
        "\n",
        "      for i in range(epochs):\n",
        "        print(f\"Epoch {i + 1}/{epochs}:\")\n",
        "        num_batches = int(np.ceil(x_train.shape[0]/batch_size))\n",
        "        training_metrics = np.zeros(6)\n",
        "        batch_index = 0\n",
        "        training_loss = 0.0\n",
        "        training_accuracy = 0.0\n",
        "        training_tp = 0.0\n",
        "        training_tn = 0.0\n",
        "        training_fp = 0.0\n",
        "        training_fn = 0.0\n",
        "        val_loss = 0.0\n",
        "        val_accuracy = 0.0\n",
        "        val_tp = 0.0\n",
        "        val_tn = 0.0\n",
        "        val_fp = 0.0\n",
        "        val_fn = 0.0\n",
        "\n",
        "        for batch_number in range(num_batches):\n",
        "          batch_x, batch_y = x_train[batch_index:min(batch_index + batch_size, x_train.shape[0])], y_train[batch_index:min(batch_index + batch_size, y_train.shape[0])]\n",
        "          cov_matrix_list = []\n",
        "          for i in range(batch_x.shape[0]):\n",
        "            cov_matrix_list.append(np.cov(batch_x[i]))\n",
        "\n",
        "          cov_matrix = np.stack(cov_matrix_list)[:, :, :, np.newaxis]\n",
        "\n",
        "          # print(f\"Processing batch {batch_number + 1}/{num_batches}\")\n",
        "          training_metrics = self.model.train_on_batch(cov_matrix, batch_y, class_weight={0:0.67, 1:1.33}, return_dict=True)\n",
        "          training_loss += training_metrics['loss']/num_batches\n",
        "          training_accuracy += training_metrics['accuracy']/num_batches\n",
        "          training_tp += training_metrics['tp']\n",
        "          training_tn += training_metrics['tn']\n",
        "          training_fp += training_metrics['fp']\n",
        "          training_fn += training_metrics['fn']\n",
        "          batch_index += batch_size\n",
        "\n",
        "          self.model.reset_metrics()\n",
        "\n",
        "        print(f\"Training metrics: loss = {training_loss}, accuracy = {training_accuracy}, TP = {training_tp}, TN = {training_tn}, FP = {training_fp}, FN = {training_fn}\")\n",
        "\n",
        "        num_batches = int(np.ceil(x_val.shape[0]/batch_size))\n",
        "        val_metrics = np.zeros(6)\n",
        "        batch_index = 0\n",
        "        for batch_number in range(num_batches):\n",
        "          batch_x, batch_y = x_val[batch_index:min(batch_index + batch_size, x_val.shape[0])], y_val[batch_index:min(batch_index + batch_size, y_val.shape[0])]\n",
        "          cov_matrix_list = []\n",
        "          for i in range(batch_x.shape[0]):\n",
        "            cov_matrix_list.append(np.cov(batch_x[i]))\n",
        "\n",
        "          cov_matrix = np.stack(cov_matrix_list)[:, :, :, np.newaxis]\n",
        "\n",
        "          val_metrics = self.model.test_on_batch(cov_matrix, batch_y, return_dict=True)\n",
        "          val_loss += val_metrics['loss']/num_batches\n",
        "          val_accuracy += val_metrics['accuracy']/num_batches\n",
        "          val_tp += val_metrics['tp']\n",
        "          val_tn += val_metrics['tn']\n",
        "          val_fp += val_metrics['fp']\n",
        "          val_fn += val_metrics['fn']\n",
        "          batch_index += batch_size\n",
        "\n",
        "          self.model.reset_metrics()\n",
        "\n",
        "        print(f\"Validation metrics: loss = {val_loss}, accuracy = {val_accuracy}, TP = {val_tp}, TN = {val_tn}, FP = {val_fp}, FN = {val_fn}\")\n",
        "\n",
        "      return training_metrics, val_metrics\n",
        "\n",
        "# Example usage:\n",
        "input_shape = (x_train.shape[1], x_train.shape[1], 1)\n",
        "kernel_size = 20\n",
        "strides = 5\n",
        "ff_dim = 64\n",
        "pred_dim = 64\n",
        "dropout = 0.1\n",
        "fine_tuning_split = 0.0\n",
        "\n",
        "# build the model\n",
        "predictor = Covariance_Model()\n",
        "predictor.build_model(\n",
        "    input_shape=input_shape,\n",
        "    kernel_size=kernel_size,\n",
        "    strides=strides,\n",
        "    ff_dim=ff_dim,\n",
        "    pred_dim=pred_dim,\n",
        "    dropout=dropout\n",
        ")\n",
        "\n",
        "# Assuming x_train is your input data\n",
        "training_loss, val_loss = predictor.fit(\n",
        "    x_train,\n",
        "    y_train,\n",
        "    epochs=20,\n",
        "    validation_split=0.2,\n",
        "    batch_size=64,\n",
        "    callbacks=[keras.callbacks.EarlyStopping(patience=10, restore_best_weights=True)]\n",
        ")"
      ]
    },
    {
      "cell_type": "code",
      "execution_count": null,
      "metadata": {
        "id": "zwv6Z2bGZ9BS"
      },
      "outputs": [],
      "source": [
        "__file__='saved_model'\n",
        "!mkdir -p saved_model\n",
        "predictor.save('')"
      ]
    },
    {
      "cell_type": "code",
      "execution_count": null,
      "metadata": {
        "colab": {
          "base_uri": "https://localhost:8080/",
          "height": 634
        },
        "id": "k8i-1qzHwUU1",
        "outputId": "0b3b1a90-6627-45b9-8678-d3536b0d9317"
      },
      "outputs": [
        {
          "name": "stdout",
          "output_type": "stream",
          "text": [
            "Epoch 1/20:\n",
            "Training metrics: loss = 0.2670959119722248, accuracy = 0.875104166666666, TP = 13491.0, TN = 28514.0, FP = 3509.0, FN = 2486.0\n",
            "Validation metrics: loss = 0.20641123681267104, accuracy = 0.9153333333333308, TP = 3632.0, TN = 7352.0, FP = 625.0, FN = 391.0\n",
            "Epoch 2/20:\n",
            "Training metrics: loss = 0.1525178507709256, accuracy = 0.9376666666666672, TP = 14503.0, TN = 30505.0, FP = 1518.0, FN = 1474.0\n",
            "Validation metrics: loss = 0.16667548692226405, accuracy = 0.9351666666666644, TP = 3728.0, TN = 7494.0, FP = 483.0, FN = 295.0\n",
            "Epoch 3/20:\n",
            "Training metrics: loss = 0.12152374543249612, accuracy = 0.9512083333333368, TP = 14781.0, TN = 30877.0, FP = 1146.0, FN = 1196.0\n",
            "Validation metrics: loss = 0.14706255718568947, accuracy = 0.9430833333333319, TP = 3776.0, TN = 7541.0, FP = 436.0, FN = 247.0\n",
            "Epoch 4/20:\n",
            "Training metrics: loss = 0.10293059866068267, accuracy = 0.9585000000000062, TP = 14967.0, TN = 31041.0, FP = 982.0, FN = 1010.0\n",
            "Validation metrics: loss = 0.13287504547834408, accuracy = 0.9492499999999995, TP = 3806.0, TN = 7585.0, FP = 392.0, FN = 217.0\n",
            "Epoch 5/20:\n",
            "Training metrics: loss = 0.09010548834285395, accuracy = 0.9643125000000079, TP = 15123.0, TN = 31164.0, FP = 859.0, FN = 854.0\n",
            "Validation metrics: loss = 0.12315765105187901, accuracy = 0.9533333333333329, TP = 3823.0, TN = 7617.0, FP = 360.0, FN = 200.0\n",
            "Epoch 6/20:\n"
          ]
        },
        {
          "ename": "KeyboardInterrupt",
          "evalue": "",
          "output_type": "error",
          "traceback": [
            "\u001b[0;31m---------------------------------------------------------------------------\u001b[0m",
            "\u001b[0;31mKeyboardInterrupt\u001b[0m                         Traceback (most recent call last)",
            "\u001b[0;32m<ipython-input-6-63ff61b45c4c>\u001b[0m in \u001b[0;36m<cell line: 0>\u001b[0;34m()\u001b[0m\n\u001b[1;32m    200\u001b[0m \u001b[0;34m\u001b[0m\u001b[0m\n\u001b[1;32m    201\u001b[0m \u001b[0;31m# Assuming x_train is your input data\u001b[0m\u001b[0;34m\u001b[0m\u001b[0;34m\u001b[0m\u001b[0m\n\u001b[0;32m--> 202\u001b[0;31m training_loss, val_loss = predictor.fit(\n\u001b[0m\u001b[1;32m    203\u001b[0m     \u001b[0mx_train\u001b[0m\u001b[0;34m,\u001b[0m\u001b[0;34m\u001b[0m\u001b[0;34m\u001b[0m\u001b[0m\n\u001b[1;32m    204\u001b[0m     \u001b[0my_train\u001b[0m\u001b[0;34m,\u001b[0m\u001b[0;34m\u001b[0m\u001b[0;34m\u001b[0m\u001b[0m\n",
            "\u001b[0;32m<ipython-input-6-63ff61b45c4c>\u001b[0m in \u001b[0;36mfit\u001b[0;34m(self, x_train, y_train, epochs, validation_split, **kwargs)\u001b[0m\n\u001b[1;32m    109\u001b[0m           \u001b[0mX\u001b[0m \u001b[0;34m=\u001b[0m \u001b[0mnp\u001b[0m\u001b[0;34m.\u001b[0m\u001b[0mmoveaxis\u001b[0m\u001b[0;34m(\u001b[0m\u001b[0mX\u001b[0m\u001b[0;34m,\u001b[0m \u001b[0;34m-\u001b[0m\u001b[0;36m1\u001b[0m\u001b[0;34m,\u001b[0m \u001b[0;34m-\u001b[0m\u001b[0;36m3\u001b[0m\u001b[0;34m)\u001b[0m\u001b[0;34m\u001b[0m\u001b[0;34m\u001b[0m\u001b[0m\n\u001b[1;32m    110\u001b[0m \u001b[0;34m\u001b[0m\u001b[0m\n\u001b[0;32m--> 111\u001b[0;31m           \u001b[0mU\u001b[0m\u001b[0;34m,\u001b[0m \u001b[0mSigma\u001b[0m\u001b[0;34m,\u001b[0m \u001b[0mV\u001b[0m \u001b[0;34m=\u001b[0m \u001b[0mnp\u001b[0m\u001b[0;34m.\u001b[0m\u001b[0mlinalg\u001b[0m\u001b[0;34m.\u001b[0m\u001b[0msvd\u001b[0m\u001b[0;34m(\u001b[0m\u001b[0mX\u001b[0m\u001b[0;34m)\u001b[0m\u001b[0;34m\u001b[0m\u001b[0;34m\u001b[0m\u001b[0m\n\u001b[0m\u001b[1;32m    112\u001b[0m           \u001b[0mV\u001b[0m \u001b[0;34m=\u001b[0m \u001b[0mV\u001b[0m\u001b[0;34m.\u001b[0m\u001b[0mT\u001b[0m\u001b[0;34m\u001b[0m\u001b[0;34m\u001b[0m\u001b[0m\n\u001b[1;32m    113\u001b[0m \u001b[0;34m\u001b[0m\u001b[0m\n",
            "\u001b[0;32m/usr/local/lib/python3.11/dist-packages/numpy/linalg/linalg.py\u001b[0m in \u001b[0;36msvd\u001b[0;34m(a, full_matrices, compute_uv, hermitian)\u001b[0m\n\u001b[1;32m   1679\u001b[0m \u001b[0;34m\u001b[0m\u001b[0m\n\u001b[1;32m   1680\u001b[0m         \u001b[0msignature\u001b[0m \u001b[0;34m=\u001b[0m \u001b[0;34m'D->DdD'\u001b[0m \u001b[0;32mif\u001b[0m \u001b[0misComplexType\u001b[0m\u001b[0;34m(\u001b[0m\u001b[0mt\u001b[0m\u001b[0;34m)\u001b[0m \u001b[0;32melse\u001b[0m \u001b[0;34m'd->ddd'\u001b[0m\u001b[0;34m\u001b[0m\u001b[0;34m\u001b[0m\u001b[0m\n\u001b[0;32m-> 1681\u001b[0;31m         \u001b[0mu\u001b[0m\u001b[0;34m,\u001b[0m \u001b[0ms\u001b[0m\u001b[0;34m,\u001b[0m \u001b[0mvh\u001b[0m \u001b[0;34m=\u001b[0m \u001b[0mgufunc\u001b[0m\u001b[0;34m(\u001b[0m\u001b[0ma\u001b[0m\u001b[0;34m,\u001b[0m \u001b[0msignature\u001b[0m\u001b[0;34m=\u001b[0m\u001b[0msignature\u001b[0m\u001b[0;34m,\u001b[0m \u001b[0mextobj\u001b[0m\u001b[0;34m=\u001b[0m\u001b[0mextobj\u001b[0m\u001b[0;34m)\u001b[0m\u001b[0;34m\u001b[0m\u001b[0;34m\u001b[0m\u001b[0m\n\u001b[0m\u001b[1;32m   1682\u001b[0m         \u001b[0mu\u001b[0m \u001b[0;34m=\u001b[0m \u001b[0mu\u001b[0m\u001b[0;34m.\u001b[0m\u001b[0mastype\u001b[0m\u001b[0;34m(\u001b[0m\u001b[0mresult_t\u001b[0m\u001b[0;34m,\u001b[0m \u001b[0mcopy\u001b[0m\u001b[0;34m=\u001b[0m\u001b[0;32mFalse\u001b[0m\u001b[0;34m)\u001b[0m\u001b[0;34m\u001b[0m\u001b[0;34m\u001b[0m\u001b[0m\n\u001b[1;32m   1683\u001b[0m         \u001b[0ms\u001b[0m \u001b[0;34m=\u001b[0m \u001b[0ms\u001b[0m\u001b[0;34m.\u001b[0m\u001b[0mastype\u001b[0m\u001b[0;34m(\u001b[0m\u001b[0m_realType\u001b[0m\u001b[0;34m(\u001b[0m\u001b[0mresult_t\u001b[0m\u001b[0;34m)\u001b[0m\u001b[0;34m,\u001b[0m \u001b[0mcopy\u001b[0m\u001b[0;34m=\u001b[0m\u001b[0;32mFalse\u001b[0m\u001b[0;34m)\u001b[0m\u001b[0;34m\u001b[0m\u001b[0;34m\u001b[0m\u001b[0m\n",
            "\u001b[0;31mKeyboardInterrupt\u001b[0m: "
          ]
        }
      ],
      "source": [
        "class SSA_Model:\n",
        "    def __init__(self):\n",
        "        super().__init__()\n",
        "\n",
        "    def conv_encoder(self, inputs, ff_dim, kernel_size, strides=1, dropout=0):\n",
        "        x = layers.Conv2D(filters=16, kernel_size=kernel_size, strides=strides, activation=\"relu\")(inputs)\n",
        "        x = layers.Dropout(dropout)(x)\n",
        "        x = layers.MaxPool2D((3, 3))(x)\n",
        "        x = layers.LayerNormalization(epsilon=1e-6)(x)\n",
        "        x = layers.Conv2D(filters=8, kernel_size=kernel_size, strides=strides, activation=\"relu\")(inputs)\n",
        "        x = layers.Dropout(dropout)(x)\n",
        "        x = layers.MaxPool2D((3, 3))(x)\n",
        "        x = layers.LayerNormalization(epsilon=1e-6)(x)\n",
        "        x = layers.Conv2D(filters=1, kernel_size=(x.shape[1], x.shape[2]), activation='sigmoid')(x)\n",
        "        x = layers.Flatten()(x)\n",
        "\n",
        "        return x\n",
        "\n",
        "    def dense_predictor(self, inputs, pred_dim, dropout=0):\n",
        "        # Flattens the input to apply dense layers\n",
        "        x = layers.Flatten()(inputs)\n",
        "\n",
        "        current_units = int(np.power(2, np.ceil(np.log2(x.shape[-1]))))\n",
        "\n",
        "        while(current_units > pred_dim):\n",
        "          current_units //= 2\n",
        "          x = layers.Dense(current_units, activation=\"relu\")(x)\n",
        "          x = layers.Dropout(dropout)(x)\n",
        "          x = layers.LayerNormalization(epsilon=1e-6)(x)\n",
        "\n",
        "        # Calculates probabilities for prediction\n",
        "        x = layers.Dense(1, activation=\"sigmoid\")(x)\n",
        "        return x\n",
        "\n",
        "    def build_model(self, input_shape, kernel_size, ff_dim, pred_dim, strides=1, dropout=0, mlp_dropout=0):\n",
        "        inputs = keras.Input(shape=input_shape)\n",
        "\n",
        "        # Encoder\n",
        "        x = inputs\n",
        "\n",
        "        outputs = self.conv_encoder(x, ff_dim=ff_dim, kernel_size=kernel_size, strides=strides)\n",
        "\n",
        "        # Predictor\n",
        "        # outputs = self.dense_predictor(x, pred_dim, dropout)\n",
        "\n",
        "        metrics = [tf.keras.metrics.BinaryAccuracy(name='accuracy'),\n",
        "                   keras.metrics.TruePositives(name='tp'),\n",
        "                   keras.metrics.FalsePositives(name='fp'),\n",
        "                   keras.metrics.TrueNegatives(name='tn'),\n",
        "                   keras.metrics.FalseNegatives(name='fn')]\n",
        "\n",
        "        self.model = keras.Model(inputs, outputs)\n",
        "        self.model.compile(loss='binary_crossentropy', optimizer=keras.optimizers.Adam(learning_rate=1e-4),\n",
        "                           metrics=metrics)\n",
        "\n",
        "    def predict(self, X, batch_size=32):\n",
        "        return np.where(self.model.predict(X, batch_size=batch_size) >= 0.5, 1, 0)\n",
        "\n",
        "    def __call__(self, inputs, batch_size=64):\n",
        "        return self.model.predict(inputs, batch_size=batch_size)\n",
        "\n",
        "    def save(self, path):\n",
        "        self.model.save(os.path.join(os.path.dirname(__file__), 'model.keras'))\n",
        "\n",
        "    def load(self):\n",
        "        self.model = keras.models.load_model(os.path.join(os.path.dirname(__file__), 'model.keras'))\n",
        "\n",
        "    def fit(self, x_train, y_train, epochs=1, validation_split=0.0, **kwargs):\n",
        "      L = 100 # The window length.\n",
        "      K = x_train.shape[1] - L + 1\n",
        "\n",
        "      if validation_split > 0:\n",
        "        x_train, x_val, y_train, y_val = train_test_split(\n",
        "            data, labels, test_size=validation_split, random_state=42)\n",
        "\n",
        "      if 'batch_size' in kwargs:\n",
        "        batch_size = kwargs['batch_size']\n",
        "      else:\n",
        "        batch_size = 1\n",
        "\n",
        "      if 'num_components' in kwargs:\n",
        "        num_components = kwargs['num_components']\n",
        "      else:\n",
        "        num_components = 8\n",
        "\n",
        "      for i in range(epochs):\n",
        "        print(f\"Epoch {i + 1}/{epochs}:\")\n",
        "        num_batches = int(np.ceil(x_train.shape[0]/batch_size))\n",
        "        training_metrics = np.zeros(6)\n",
        "        batch_index = 0\n",
        "        training_loss = 0.0\n",
        "        training_accuracy = 0.0\n",
        "        training_tp = 0.0\n",
        "        training_tn = 0.0\n",
        "        training_fp = 0.0\n",
        "        training_fn = 0.0\n",
        "        val_loss = 0.0\n",
        "        val_accuracy = 0.0\n",
        "        val_tp = 0.0\n",
        "        val_tn = 0.0\n",
        "        val_fp = 0.0\n",
        "        val_fn = 0.0\n",
        "\n",
        "        for batch_number in range(num_batches):\n",
        "          batch_x, batch_y = x_train[batch_index:min(batch_index + batch_size, x_train.shape[0])], y_train[batch_index:min(batch_index + batch_size, y_train.shape[0])]\n",
        "\n",
        "          X = np.stack([batch_x[:, i:i+L] for i in range(0,K)], axis=1)\n",
        "\n",
        "          X = np.moveaxis(X, -1, -3)\n",
        "\n",
        "          U, Sigma, V = np.linalg.svd(X)\n",
        "          V = V.T\n",
        "\n",
        "          svd_matrix_list = []\n",
        "\n",
        "          for j in range(batch_x.shape[0]):\n",
        "            batch_svd = []\n",
        "            for z in range(0,num_components):\n",
        "              batch_svd.extend([Sigma[j, 0, z] * np.outer(U[j, 0, :,z], V[:,z, 0, j]), Sigma[j, 1, z] * np.outer(U[j, 1, :,z], V[:,z, 1, j])])\n",
        "            svd_matrix_list.append(np.array(batch_svd))\n",
        "\n",
        "          svd_matrix = np.stack(svd_matrix_list)\n",
        "\n",
        "\n",
        "          svd_matrix = np.moveaxis(svd_matrix, -3, -1)\n",
        "\n",
        "          # print(f\"Processing batch {batch_number + 1}/{num_batches}\")\n",
        "          training_metrics = self.model.train_on_batch(svd_matrix, batch_y, class_weight={0:0.67, 1:1.33}, return_dict=True)\n",
        "          training_loss += training_metrics['loss']/num_batches\n",
        "          training_accuracy += training_metrics['accuracy']/num_batches\n",
        "          training_tp += training_metrics['tp']\n",
        "          training_tn += training_metrics['tn']\n",
        "          training_fp += training_metrics['fp']\n",
        "          training_fn += training_metrics['fn']\n",
        "          batch_index += batch_size\n",
        "\n",
        "          self.model.reset_metrics()\n",
        "\n",
        "        print(f\"Training metrics: loss = {training_loss}, accuracy = {training_accuracy}, TP = {training_tp}, TN = {training_tn}, FP = {training_fp}, FN = {training_fn}\")\n",
        "\n",
        "        num_batches = int(np.ceil(x_val.shape[0]/batch_size))\n",
        "        val_metrics = np.zeros(6)\n",
        "        batch_index = 0\n",
        "        for batch_number in range(num_batches):\n",
        "          batch_x, batch_y = x_val[batch_index:min(batch_index + batch_size, x_val.shape[0])], y_val[batch_index:min(batch_index + batch_size, y_val.shape[0])]\n",
        "\n",
        "          X = np.stack([batch_x[:, i:i+L] for i in range(0,K)], axis=1)\n",
        "\n",
        "          X = np.moveaxis(X, -1, -3)\n",
        "\n",
        "          U, Sigma, V = np.linalg.svd(X)\n",
        "          V = V.T\n",
        "\n",
        "          svd_matrix_list = []\n",
        "\n",
        "          for j in range(batch_x.shape[0]):\n",
        "            batch_svd = []\n",
        "            for z in range(0,num_components):\n",
        "              batch_svd.extend([Sigma[j, 0, z] * np.outer(U[j, 0, :,z], V[:,z, 0, j]), Sigma[j, 1, z] * np.outer(U[j, 1, :,z], V[:,z, 1, j])])\n",
        "            svd_matrix_list.append(np.array(batch_svd))\n",
        "\n",
        "          svd_matrix = np.stack(svd_matrix_list)\n",
        "\n",
        "          svd_matrix = np.moveaxis(svd_matrix, -3, -1)\n",
        "\n",
        "          val_metrics = self.model.test_on_batch(svd_matrix, batch_y, return_dict=True)\n",
        "          val_loss += val_metrics['loss']/num_batches\n",
        "          val_accuracy += val_metrics['accuracy']/num_batches\n",
        "          val_tp += val_metrics['tp']\n",
        "          val_tn += val_metrics['tn']\n",
        "          val_fp += val_metrics['fp']\n",
        "          val_fn += val_metrics['fn']\n",
        "          batch_index += batch_size\n",
        "\n",
        "          self.model.reset_metrics()\n",
        "\n",
        "        print(f\"Validation metrics: loss = {val_loss}, accuracy = {val_accuracy}, TP = {val_tp}, TN = {val_tn}, FP = {val_fp}, FN = {val_fn}\")\n",
        "\n",
        "      return training_metrics, val_metrics\n",
        "\n",
        "# Example usage:\n",
        "input_shape = (101, 100, 16)\n",
        "kernel_size = 10\n",
        "strides = 2\n",
        "ff_dim = 64\n",
        "pred_dim = 64\n",
        "dropout = 0.1\n",
        "fine_tuning_split = 0.0\n",
        "\n",
        "# build the model\n",
        "predictor = SSA_Model()\n",
        "predictor.build_model(\n",
        "    input_shape=input_shape,\n",
        "    kernel_size=kernel_size,\n",
        "    strides=strides,\n",
        "    ff_dim=ff_dim,\n",
        "    pred_dim=pred_dim,\n",
        "    dropout=dropout\n",
        ")\n",
        "\n",
        "# Assuming x_train is your input data\n",
        "training_loss, val_loss = predictor.fit(\n",
        "    x_train,\n",
        "    y_train,\n",
        "    epochs=20,\n",
        "    validation_split=0.2,\n",
        "    batch_size=32,\n",
        "    callbacks=[keras.callbacks.EarlyStopping(patience=10, restore_best_weights=True)]\n",
        ")"
      ]
    },
    {
      "cell_type": "code",
      "execution_count": null,
      "metadata": {
        "id": "yDE9gTNN-tUb"
      },
      "outputs": [],
      "source": [
        "__file__='saved_model'\n",
        "!mkdir -p saved_model\n",
        "predictor.save('')"
      ]
    },
    {
      "cell_type": "code",
      "execution_count": null,
      "metadata": {
        "colab": {
          "base_uri": "https://localhost:8080/",
          "height": 1000
        },
        "id": "Zo1Tb73NnSMe",
        "outputId": "de277463-a32d-4675-db1c-2a0b5c6eb9a8"
      },
      "outputs": [
        {
          "data": {
            "text/html": [
              "<pre style=\"white-space:pre;overflow-x:auto;line-height:normal;font-family:Menlo,'DejaVu Sans Mono',consolas,'Courier New',monospace\"><span style=\"font-weight: bold\">Model: \"functional_1\"</span>\n",
              "</pre>\n"
            ],
            "text/plain": [
              "\u001b[1mModel: \"functional_1\"\u001b[0m\n"
            ]
          },
          "metadata": {},
          "output_type": "display_data"
        },
        {
          "data": {
            "text/html": [
              "<pre style=\"white-space:pre;overflow-x:auto;line-height:normal;font-family:Menlo,'DejaVu Sans Mono',consolas,'Courier New',monospace\">┏━━━━━━━━━━━━━━━━━━━━━━━━━━━┳━━━━━━━━━━━━━━━━━━━━━━━━┳━━━━━━━━━━━━━━━━┳━━━━━━━━━━━━━━━━━━━━━━━━┓\n",
              "┃<span style=\"font-weight: bold\"> Layer (type)              </span>┃<span style=\"font-weight: bold\"> Output Shape           </span>┃<span style=\"font-weight: bold\">        Param # </span>┃<span style=\"font-weight: bold\"> Connected to           </span>┃\n",
              "┡━━━━━━━━━━━━━━━━━━━━━━━━━━━╇━━━━━━━━━━━━━━━━━━━━━━━━╇━━━━━━━━━━━━━━━━╇━━━━━━━━━━━━━━━━━━━━━━━━┩\n",
              "│ input_layer (<span style=\"color: #0087ff; text-decoration-color: #0087ff\">InputLayer</span>)  │ (<span style=\"color: #00d7ff; text-decoration-color: #00d7ff\">None</span>, <span style=\"color: #00af00; text-decoration-color: #00af00\">200</span>, <span style=\"color: #00af00; text-decoration-color: #00af00\">2</span>)         │              <span style=\"color: #00af00; text-decoration-color: #00af00\">0</span> │ -                      │\n",
              "├───────────────────────────┼────────────────────────┼────────────────┼────────────────────────┤\n",
              "│ multi_head_attention      │ (<span style=\"color: #00d7ff; text-decoration-color: #00d7ff\">None</span>, <span style=\"color: #00af00; text-decoration-color: #00af00\">200</span>, <span style=\"color: #00af00; text-decoration-color: #00af00\">2</span>)         │          <span style=\"color: #00af00; text-decoration-color: #00af00\">1,410</span> │ input_layer[<span style=\"color: #00af00; text-decoration-color: #00af00\">0</span>][<span style=\"color: #00af00; text-decoration-color: #00af00\">0</span>],     │\n",
              "│ (<span style=\"color: #0087ff; text-decoration-color: #0087ff\">MultiHeadAttention</span>)      │                        │                │ input_layer[<span style=\"color: #00af00; text-decoration-color: #00af00\">0</span>][<span style=\"color: #00af00; text-decoration-color: #00af00\">0</span>]      │\n",
              "├───────────────────────────┼────────────────────────┼────────────────┼────────────────────────┤\n",
              "│ dropout_1 (<span style=\"color: #0087ff; text-decoration-color: #0087ff\">Dropout</span>)       │ (<span style=\"color: #00d7ff; text-decoration-color: #00d7ff\">None</span>, <span style=\"color: #00af00; text-decoration-color: #00af00\">200</span>, <span style=\"color: #00af00; text-decoration-color: #00af00\">2</span>)         │              <span style=\"color: #00af00; text-decoration-color: #00af00\">0</span> │ multi_head_attention[<span style=\"color: #00af00; text-decoration-color: #00af00\">…</span> │\n",
              "├───────────────────────────┼────────────────────────┼────────────────┼────────────────────────┤\n",
              "│ layer_normalization       │ (<span style=\"color: #00d7ff; text-decoration-color: #00d7ff\">None</span>, <span style=\"color: #00af00; text-decoration-color: #00af00\">200</span>, <span style=\"color: #00af00; text-decoration-color: #00af00\">2</span>)         │              <span style=\"color: #00af00; text-decoration-color: #00af00\">4</span> │ dropout_1[<span style=\"color: #00af00; text-decoration-color: #00af00\">0</span>][<span style=\"color: #00af00; text-decoration-color: #00af00\">0</span>]        │\n",
              "│ (<span style=\"color: #0087ff; text-decoration-color: #0087ff\">LayerNormalization</span>)      │                        │                │                        │\n",
              "├───────────────────────────┼────────────────────────┼────────────────┼────────────────────────┤\n",
              "│ add (<span style=\"color: #0087ff; text-decoration-color: #0087ff\">Add</span>)                 │ (<span style=\"color: #00d7ff; text-decoration-color: #00d7ff\">None</span>, <span style=\"color: #00af00; text-decoration-color: #00af00\">200</span>, <span style=\"color: #00af00; text-decoration-color: #00af00\">2</span>)         │              <span style=\"color: #00af00; text-decoration-color: #00af00\">0</span> │ layer_normalization[<span style=\"color: #00af00; text-decoration-color: #00af00\">0</span>… │\n",
              "│                           │                        │                │ input_layer[<span style=\"color: #00af00; text-decoration-color: #00af00\">0</span>][<span style=\"color: #00af00; text-decoration-color: #00af00\">0</span>]      │\n",
              "├───────────────────────────┼────────────────────────┼────────────────┼────────────────────────┤\n",
              "│ conv1d (<span style=\"color: #0087ff; text-decoration-color: #0087ff\">Conv1D</span>)           │ (<span style=\"color: #00d7ff; text-decoration-color: #00d7ff\">None</span>, <span style=\"color: #00af00; text-decoration-color: #00af00\">200</span>, <span style=\"color: #00af00; text-decoration-color: #00af00\">64</span>)        │            <span style=\"color: #00af00; text-decoration-color: #00af00\">192</span> │ add[<span style=\"color: #00af00; text-decoration-color: #00af00\">0</span>][<span style=\"color: #00af00; text-decoration-color: #00af00\">0</span>]              │\n",
              "├───────────────────────────┼────────────────────────┼────────────────┼────────────────────────┤\n",
              "│ dropout_2 (<span style=\"color: #0087ff; text-decoration-color: #0087ff\">Dropout</span>)       │ (<span style=\"color: #00d7ff; text-decoration-color: #00d7ff\">None</span>, <span style=\"color: #00af00; text-decoration-color: #00af00\">200</span>, <span style=\"color: #00af00; text-decoration-color: #00af00\">64</span>)        │              <span style=\"color: #00af00; text-decoration-color: #00af00\">0</span> │ conv1d[<span style=\"color: #00af00; text-decoration-color: #00af00\">0</span>][<span style=\"color: #00af00; text-decoration-color: #00af00\">0</span>]           │\n",
              "├───────────────────────────┼────────────────────────┼────────────────┼────────────────────────┤\n",
              "│ conv1d_1 (<span style=\"color: #0087ff; text-decoration-color: #0087ff\">Conv1D</span>)         │ (<span style=\"color: #00d7ff; text-decoration-color: #00d7ff\">None</span>, <span style=\"color: #00af00; text-decoration-color: #00af00\">200</span>, <span style=\"color: #00af00; text-decoration-color: #00af00\">2</span>)         │            <span style=\"color: #00af00; text-decoration-color: #00af00\">130</span> │ dropout_2[<span style=\"color: #00af00; text-decoration-color: #00af00\">0</span>][<span style=\"color: #00af00; text-decoration-color: #00af00\">0</span>]        │\n",
              "├───────────────────────────┼────────────────────────┼────────────────┼────────────────────────┤\n",
              "│ layer_normalization_1     │ (<span style=\"color: #00d7ff; text-decoration-color: #00d7ff\">None</span>, <span style=\"color: #00af00; text-decoration-color: #00af00\">200</span>, <span style=\"color: #00af00; text-decoration-color: #00af00\">2</span>)         │              <span style=\"color: #00af00; text-decoration-color: #00af00\">4</span> │ conv1d_1[<span style=\"color: #00af00; text-decoration-color: #00af00\">0</span>][<span style=\"color: #00af00; text-decoration-color: #00af00\">0</span>]         │\n",
              "│ (<span style=\"color: #0087ff; text-decoration-color: #0087ff\">LayerNormalization</span>)      │                        │                │                        │\n",
              "├───────────────────────────┼────────────────────────┼────────────────┼────────────────────────┤\n",
              "│ add_1 (<span style=\"color: #0087ff; text-decoration-color: #0087ff\">Add</span>)               │ (<span style=\"color: #00d7ff; text-decoration-color: #00d7ff\">None</span>, <span style=\"color: #00af00; text-decoration-color: #00af00\">200</span>, <span style=\"color: #00af00; text-decoration-color: #00af00\">2</span>)         │              <span style=\"color: #00af00; text-decoration-color: #00af00\">0</span> │ layer_normalization_1… │\n",
              "│                           │                        │                │ add[<span style=\"color: #00af00; text-decoration-color: #00af00\">0</span>][<span style=\"color: #00af00; text-decoration-color: #00af00\">0</span>]              │\n",
              "├───────────────────────────┼────────────────────────┼────────────────┼────────────────────────┤\n",
              "│ multi_head_attention_1    │ (<span style=\"color: #00d7ff; text-decoration-color: #00d7ff\">None</span>, <span style=\"color: #00af00; text-decoration-color: #00af00\">200</span>, <span style=\"color: #00af00; text-decoration-color: #00af00\">2</span>)         │          <span style=\"color: #00af00; text-decoration-color: #00af00\">1,410</span> │ add_1[<span style=\"color: #00af00; text-decoration-color: #00af00\">0</span>][<span style=\"color: #00af00; text-decoration-color: #00af00\">0</span>],           │\n",
              "│ (<span style=\"color: #0087ff; text-decoration-color: #0087ff\">MultiHeadAttention</span>)      │                        │                │ add_1[<span style=\"color: #00af00; text-decoration-color: #00af00\">0</span>][<span style=\"color: #00af00; text-decoration-color: #00af00\">0</span>]            │\n",
              "├───────────────────────────┼────────────────────────┼────────────────┼────────────────────────┤\n",
              "│ dropout_4 (<span style=\"color: #0087ff; text-decoration-color: #0087ff\">Dropout</span>)       │ (<span style=\"color: #00d7ff; text-decoration-color: #00d7ff\">None</span>, <span style=\"color: #00af00; text-decoration-color: #00af00\">200</span>, <span style=\"color: #00af00; text-decoration-color: #00af00\">2</span>)         │              <span style=\"color: #00af00; text-decoration-color: #00af00\">0</span> │ multi_head_attention_… │\n",
              "├───────────────────────────┼────────────────────────┼────────────────┼────────────────────────┤\n",
              "│ layer_normalization_2     │ (<span style=\"color: #00d7ff; text-decoration-color: #00d7ff\">None</span>, <span style=\"color: #00af00; text-decoration-color: #00af00\">200</span>, <span style=\"color: #00af00; text-decoration-color: #00af00\">2</span>)         │              <span style=\"color: #00af00; text-decoration-color: #00af00\">4</span> │ dropout_4[<span style=\"color: #00af00; text-decoration-color: #00af00\">0</span>][<span style=\"color: #00af00; text-decoration-color: #00af00\">0</span>]        │\n",
              "│ (<span style=\"color: #0087ff; text-decoration-color: #0087ff\">LayerNormalization</span>)      │                        │                │                        │\n",
              "├───────────────────────────┼────────────────────────┼────────────────┼────────────────────────┤\n",
              "│ add_2 (<span style=\"color: #0087ff; text-decoration-color: #0087ff\">Add</span>)               │ (<span style=\"color: #00d7ff; text-decoration-color: #00d7ff\">None</span>, <span style=\"color: #00af00; text-decoration-color: #00af00\">200</span>, <span style=\"color: #00af00; text-decoration-color: #00af00\">2</span>)         │              <span style=\"color: #00af00; text-decoration-color: #00af00\">0</span> │ layer_normalization_2… │\n",
              "│                           │                        │                │ add_1[<span style=\"color: #00af00; text-decoration-color: #00af00\">0</span>][<span style=\"color: #00af00; text-decoration-color: #00af00\">0</span>]            │\n",
              "├───────────────────────────┼────────────────────────┼────────────────┼────────────────────────┤\n",
              "│ conv1d_2 (<span style=\"color: #0087ff; text-decoration-color: #0087ff\">Conv1D</span>)         │ (<span style=\"color: #00d7ff; text-decoration-color: #00d7ff\">None</span>, <span style=\"color: #00af00; text-decoration-color: #00af00\">200</span>, <span style=\"color: #00af00; text-decoration-color: #00af00\">64</span>)        │            <span style=\"color: #00af00; text-decoration-color: #00af00\">192</span> │ add_2[<span style=\"color: #00af00; text-decoration-color: #00af00\">0</span>][<span style=\"color: #00af00; text-decoration-color: #00af00\">0</span>]            │\n",
              "├───────────────────────────┼────────────────────────┼────────────────┼────────────────────────┤\n",
              "│ dropout_5 (<span style=\"color: #0087ff; text-decoration-color: #0087ff\">Dropout</span>)       │ (<span style=\"color: #00d7ff; text-decoration-color: #00d7ff\">None</span>, <span style=\"color: #00af00; text-decoration-color: #00af00\">200</span>, <span style=\"color: #00af00; text-decoration-color: #00af00\">64</span>)        │              <span style=\"color: #00af00; text-decoration-color: #00af00\">0</span> │ conv1d_2[<span style=\"color: #00af00; text-decoration-color: #00af00\">0</span>][<span style=\"color: #00af00; text-decoration-color: #00af00\">0</span>]         │\n",
              "├───────────────────────────┼────────────────────────┼────────────────┼────────────────────────┤\n",
              "│ conv1d_3 (<span style=\"color: #0087ff; text-decoration-color: #0087ff\">Conv1D</span>)         │ (<span style=\"color: #00d7ff; text-decoration-color: #00d7ff\">None</span>, <span style=\"color: #00af00; text-decoration-color: #00af00\">200</span>, <span style=\"color: #00af00; text-decoration-color: #00af00\">2</span>)         │            <span style=\"color: #00af00; text-decoration-color: #00af00\">130</span> │ dropout_5[<span style=\"color: #00af00; text-decoration-color: #00af00\">0</span>][<span style=\"color: #00af00; text-decoration-color: #00af00\">0</span>]        │\n",
              "├───────────────────────────┼────────────────────────┼────────────────┼────────────────────────┤\n",
              "│ layer_normalization_3     │ (<span style=\"color: #00d7ff; text-decoration-color: #00d7ff\">None</span>, <span style=\"color: #00af00; text-decoration-color: #00af00\">200</span>, <span style=\"color: #00af00; text-decoration-color: #00af00\">2</span>)         │              <span style=\"color: #00af00; text-decoration-color: #00af00\">4</span> │ conv1d_3[<span style=\"color: #00af00; text-decoration-color: #00af00\">0</span>][<span style=\"color: #00af00; text-decoration-color: #00af00\">0</span>]         │\n",
              "│ (<span style=\"color: #0087ff; text-decoration-color: #0087ff\">LayerNormalization</span>)      │                        │                │                        │\n",
              "├───────────────────────────┼────────────────────────┼────────────────┼────────────────────────┤\n",
              "│ add_3 (<span style=\"color: #0087ff; text-decoration-color: #0087ff\">Add</span>)               │ (<span style=\"color: #00d7ff; text-decoration-color: #00d7ff\">None</span>, <span style=\"color: #00af00; text-decoration-color: #00af00\">200</span>, <span style=\"color: #00af00; text-decoration-color: #00af00\">2</span>)         │              <span style=\"color: #00af00; text-decoration-color: #00af00\">0</span> │ layer_normalization_3… │\n",
              "│                           │                        │                │ add_2[<span style=\"color: #00af00; text-decoration-color: #00af00\">0</span>][<span style=\"color: #00af00; text-decoration-color: #00af00\">0</span>]            │\n",
              "├───────────────────────────┼────────────────────────┼────────────────┼────────────────────────┤\n",
              "│ flatten (<span style=\"color: #0087ff; text-decoration-color: #0087ff\">Flatten</span>)         │ (<span style=\"color: #00d7ff; text-decoration-color: #00d7ff\">None</span>, <span style=\"color: #00af00; text-decoration-color: #00af00\">400</span>)            │              <span style=\"color: #00af00; text-decoration-color: #00af00\">0</span> │ add_3[<span style=\"color: #00af00; text-decoration-color: #00af00\">0</span>][<span style=\"color: #00af00; text-decoration-color: #00af00\">0</span>]            │\n",
              "├───────────────────────────┼────────────────────────┼────────────────┼────────────────────────┤\n",
              "│ dense (<span style=\"color: #0087ff; text-decoration-color: #0087ff\">Dense</span>)             │ (<span style=\"color: #00d7ff; text-decoration-color: #00d7ff\">None</span>, <span style=\"color: #00af00; text-decoration-color: #00af00\">64</span>)             │         <span style=\"color: #00af00; text-decoration-color: #00af00\">25,664</span> │ flatten[<span style=\"color: #00af00; text-decoration-color: #00af00\">0</span>][<span style=\"color: #00af00; text-decoration-color: #00af00\">0</span>]          │\n",
              "├───────────────────────────┼────────────────────────┼────────────────┼────────────────────────┤\n",
              "│ dropout_6 (<span style=\"color: #0087ff; text-decoration-color: #0087ff\">Dropout</span>)       │ (<span style=\"color: #00d7ff; text-decoration-color: #00d7ff\">None</span>, <span style=\"color: #00af00; text-decoration-color: #00af00\">64</span>)             │              <span style=\"color: #00af00; text-decoration-color: #00af00\">0</span> │ dense[<span style=\"color: #00af00; text-decoration-color: #00af00\">0</span>][<span style=\"color: #00af00; text-decoration-color: #00af00\">0</span>]            │\n",
              "├───────────────────────────┼────────────────────────┼────────────────┼────────────────────────┤\n",
              "│ layer_normalization_4     │ (<span style=\"color: #00d7ff; text-decoration-color: #00d7ff\">None</span>, <span style=\"color: #00af00; text-decoration-color: #00af00\">64</span>)             │            <span style=\"color: #00af00; text-decoration-color: #00af00\">128</span> │ dropout_6[<span style=\"color: #00af00; text-decoration-color: #00af00\">0</span>][<span style=\"color: #00af00; text-decoration-color: #00af00\">0</span>]        │\n",
              "│ (<span style=\"color: #0087ff; text-decoration-color: #0087ff\">LayerNormalization</span>)      │                        │                │                        │\n",
              "├───────────────────────────┼────────────────────────┼────────────────┼────────────────────────┤\n",
              "│ dense_2 (<span style=\"color: #0087ff; text-decoration-color: #0087ff\">Dense</span>)           │ (<span style=\"color: #00d7ff; text-decoration-color: #00d7ff\">None</span>, <span style=\"color: #00af00; text-decoration-color: #00af00\">64</span>)             │          <span style=\"color: #00af00; text-decoration-color: #00af00\">4,160</span> │ layer_normalization_4… │\n",
              "├───────────────────────────┼────────────────────────┼────────────────┼────────────────────────┤\n",
              "│ dropout_7 (<span style=\"color: #0087ff; text-decoration-color: #0087ff\">Dropout</span>)       │ (<span style=\"color: #00d7ff; text-decoration-color: #00d7ff\">None</span>, <span style=\"color: #00af00; text-decoration-color: #00af00\">64</span>)             │              <span style=\"color: #00af00; text-decoration-color: #00af00\">0</span> │ dense_2[<span style=\"color: #00af00; text-decoration-color: #00af00\">0</span>][<span style=\"color: #00af00; text-decoration-color: #00af00\">0</span>]          │\n",
              "├───────────────────────────┼────────────────────────┼────────────────┼────────────────────────┤\n",
              "│ layer_normalization_5     │ (<span style=\"color: #00d7ff; text-decoration-color: #00d7ff\">None</span>, <span style=\"color: #00af00; text-decoration-color: #00af00\">64</span>)             │            <span style=\"color: #00af00; text-decoration-color: #00af00\">128</span> │ dropout_7[<span style=\"color: #00af00; text-decoration-color: #00af00\">0</span>][<span style=\"color: #00af00; text-decoration-color: #00af00\">0</span>]        │\n",
              "│ (<span style=\"color: #0087ff; text-decoration-color: #0087ff\">LayerNormalization</span>)      │                        │                │                        │\n",
              "├───────────────────────────┼────────────────────────┼────────────────┼────────────────────────┤\n",
              "│ dense_1 (<span style=\"color: #0087ff; text-decoration-color: #0087ff\">Dense</span>)           │ (<span style=\"color: #00d7ff; text-decoration-color: #00d7ff\">None</span>, <span style=\"color: #00af00; text-decoration-color: #00af00\">64</span>)             │          <span style=\"color: #00af00; text-decoration-color: #00af00\">4,160</span> │ layer_normalization_4… │\n",
              "├───────────────────────────┼────────────────────────┼────────────────┼────────────────────────┤\n",
              "│ add_4 (<span style=\"color: #0087ff; text-decoration-color: #0087ff\">Add</span>)               │ (<span style=\"color: #00d7ff; text-decoration-color: #00d7ff\">None</span>, <span style=\"color: #00af00; text-decoration-color: #00af00\">64</span>)             │              <span style=\"color: #00af00; text-decoration-color: #00af00\">0</span> │ layer_normalization_5… │\n",
              "│                           │                        │                │ dense_1[<span style=\"color: #00af00; text-decoration-color: #00af00\">0</span>][<span style=\"color: #00af00; text-decoration-color: #00af00\">0</span>]          │\n",
              "├───────────────────────────┼────────────────────────┼────────────────┼────────────────────────┤\n",
              "│ dense_3 (<span style=\"color: #0087ff; text-decoration-color: #0087ff\">Dense</span>)           │ (<span style=\"color: #00d7ff; text-decoration-color: #00d7ff\">None</span>, <span style=\"color: #00af00; text-decoration-color: #00af00\">64</span>)             │          <span style=\"color: #00af00; text-decoration-color: #00af00\">4,160</span> │ add_4[<span style=\"color: #00af00; text-decoration-color: #00af00\">0</span>][<span style=\"color: #00af00; text-decoration-color: #00af00\">0</span>]            │\n",
              "├───────────────────────────┼────────────────────────┼────────────────┼────────────────────────┤\n",
              "│ dropout_8 (<span style=\"color: #0087ff; text-decoration-color: #0087ff\">Dropout</span>)       │ (<span style=\"color: #00d7ff; text-decoration-color: #00d7ff\">None</span>, <span style=\"color: #00af00; text-decoration-color: #00af00\">64</span>)             │              <span style=\"color: #00af00; text-decoration-color: #00af00\">0</span> │ dense_3[<span style=\"color: #00af00; text-decoration-color: #00af00\">0</span>][<span style=\"color: #00af00; text-decoration-color: #00af00\">0</span>]          │\n",
              "├───────────────────────────┼────────────────────────┼────────────────┼────────────────────────┤\n",
              "│ dense_4 (<span style=\"color: #0087ff; text-decoration-color: #0087ff\">Dense</span>)           │ (<span style=\"color: #00d7ff; text-decoration-color: #00d7ff\">None</span>, <span style=\"color: #00af00; text-decoration-color: #00af00\">400</span>)            │         <span style=\"color: #00af00; text-decoration-color: #00af00\">26,000</span> │ dropout_8[<span style=\"color: #00af00; text-decoration-color: #00af00\">0</span>][<span style=\"color: #00af00; text-decoration-color: #00af00\">0</span>]        │\n",
              "├───────────────────────────┼────────────────────────┼────────────────┼────────────────────────┤\n",
              "│ layer_normalization_6     │ (<span style=\"color: #00d7ff; text-decoration-color: #00d7ff\">None</span>, <span style=\"color: #00af00; text-decoration-color: #00af00\">400</span>)            │            <span style=\"color: #00af00; text-decoration-color: #00af00\">800</span> │ dense_4[<span style=\"color: #00af00; text-decoration-color: #00af00\">0</span>][<span style=\"color: #00af00; text-decoration-color: #00af00\">0</span>]          │\n",
              "│ (<span style=\"color: #0087ff; text-decoration-color: #0087ff\">LayerNormalization</span>)      │                        │                │                        │\n",
              "├───────────────────────────┼────────────────────────┼────────────────┼────────────────────────┤\n",
              "│ reshape (<span style=\"color: #0087ff; text-decoration-color: #0087ff\">Reshape</span>)         │ (<span style=\"color: #00d7ff; text-decoration-color: #00d7ff\">None</span>, <span style=\"color: #00af00; text-decoration-color: #00af00\">200</span>, <span style=\"color: #00af00; text-decoration-color: #00af00\">2</span>)         │              <span style=\"color: #00af00; text-decoration-color: #00af00\">0</span> │ layer_normalization_6… │\n",
              "├───────────────────────────┼────────────────────────┼────────────────┼────────────────────────┤\n",
              "│ add_5 (<span style=\"color: #0087ff; text-decoration-color: #0087ff\">Add</span>)               │ (<span style=\"color: #00d7ff; text-decoration-color: #00d7ff\">None</span>, <span style=\"color: #00af00; text-decoration-color: #00af00\">200</span>, <span style=\"color: #00af00; text-decoration-color: #00af00\">2</span>)         │              <span style=\"color: #00af00; text-decoration-color: #00af00\">0</span> │ reshape[<span style=\"color: #00af00; text-decoration-color: #00af00\">0</span>][<span style=\"color: #00af00; text-decoration-color: #00af00\">0</span>],         │\n",
              "│                           │                        │                │ add_3[<span style=\"color: #00af00; text-decoration-color: #00af00\">0</span>][<span style=\"color: #00af00; text-decoration-color: #00af00\">0</span>]            │\n",
              "├───────────────────────────┼────────────────────────┼────────────────┼────────────────────────┤\n",
              "│ dense_5 (<span style=\"color: #0087ff; text-decoration-color: #0087ff\">Dense</span>)           │ (<span style=\"color: #00d7ff; text-decoration-color: #00d7ff\">None</span>, <span style=\"color: #00af00; text-decoration-color: #00af00\">200</span>, <span style=\"color: #00af00; text-decoration-color: #00af00\">2</span>)         │              <span style=\"color: #00af00; text-decoration-color: #00af00\">6</span> │ add_5[<span style=\"color: #00af00; text-decoration-color: #00af00\">0</span>][<span style=\"color: #00af00; text-decoration-color: #00af00\">0</span>]            │\n",
              "└───────────────────────────┴────────────────────────┴────────────────┴────────────────────────┘\n",
              "</pre>\n"
            ],
            "text/plain": [
              "┏━━━━━━━━━━━━━━━━━━━━━━━━━━━┳━━━━━━━━━━━━━━━━━━━━━━━━┳━━━━━━━━━━━━━━━━┳━━━━━━━━━━━━━━━━━━━━━━━━┓\n",
              "┃\u001b[1m \u001b[0m\u001b[1mLayer (type)             \u001b[0m\u001b[1m \u001b[0m┃\u001b[1m \u001b[0m\u001b[1mOutput Shape          \u001b[0m\u001b[1m \u001b[0m┃\u001b[1m \u001b[0m\u001b[1m       Param #\u001b[0m\u001b[1m \u001b[0m┃\u001b[1m \u001b[0m\u001b[1mConnected to          \u001b[0m\u001b[1m \u001b[0m┃\n",
              "┡━━━━━━━━━━━━━━━━━━━━━━━━━━━╇━━━━━━━━━━━━━━━━━━━━━━━━╇━━━━━━━━━━━━━━━━╇━━━━━━━━━━━━━━━━━━━━━━━━┩\n",
              "│ input_layer (\u001b[38;5;33mInputLayer\u001b[0m)  │ (\u001b[38;5;45mNone\u001b[0m, \u001b[38;5;34m200\u001b[0m, \u001b[38;5;34m2\u001b[0m)         │              \u001b[38;5;34m0\u001b[0m │ -                      │\n",
              "├───────────────────────────┼────────────────────────┼────────────────┼────────────────────────┤\n",
              "│ multi_head_attention      │ (\u001b[38;5;45mNone\u001b[0m, \u001b[38;5;34m200\u001b[0m, \u001b[38;5;34m2\u001b[0m)         │          \u001b[38;5;34m1,410\u001b[0m │ input_layer[\u001b[38;5;34m0\u001b[0m][\u001b[38;5;34m0\u001b[0m],     │\n",
              "│ (\u001b[38;5;33mMultiHeadAttention\u001b[0m)      │                        │                │ input_layer[\u001b[38;5;34m0\u001b[0m][\u001b[38;5;34m0\u001b[0m]      │\n",
              "├───────────────────────────┼────────────────────────┼────────────────┼────────────────────────┤\n",
              "│ dropout_1 (\u001b[38;5;33mDropout\u001b[0m)       │ (\u001b[38;5;45mNone\u001b[0m, \u001b[38;5;34m200\u001b[0m, \u001b[38;5;34m2\u001b[0m)         │              \u001b[38;5;34m0\u001b[0m │ multi_head_attention[\u001b[38;5;34m…\u001b[0m │\n",
              "├───────────────────────────┼────────────────────────┼────────────────┼────────────────────────┤\n",
              "│ layer_normalization       │ (\u001b[38;5;45mNone\u001b[0m, \u001b[38;5;34m200\u001b[0m, \u001b[38;5;34m2\u001b[0m)         │              \u001b[38;5;34m4\u001b[0m │ dropout_1[\u001b[38;5;34m0\u001b[0m][\u001b[38;5;34m0\u001b[0m]        │\n",
              "│ (\u001b[38;5;33mLayerNormalization\u001b[0m)      │                        │                │                        │\n",
              "├───────────────────────────┼────────────────────────┼────────────────┼────────────────────────┤\n",
              "│ add (\u001b[38;5;33mAdd\u001b[0m)                 │ (\u001b[38;5;45mNone\u001b[0m, \u001b[38;5;34m200\u001b[0m, \u001b[38;5;34m2\u001b[0m)         │              \u001b[38;5;34m0\u001b[0m │ layer_normalization[\u001b[38;5;34m0\u001b[0m… │\n",
              "│                           │                        │                │ input_layer[\u001b[38;5;34m0\u001b[0m][\u001b[38;5;34m0\u001b[0m]      │\n",
              "├───────────────────────────┼────────────────────────┼────────────────┼────────────────────────┤\n",
              "│ conv1d (\u001b[38;5;33mConv1D\u001b[0m)           │ (\u001b[38;5;45mNone\u001b[0m, \u001b[38;5;34m200\u001b[0m, \u001b[38;5;34m64\u001b[0m)        │            \u001b[38;5;34m192\u001b[0m │ add[\u001b[38;5;34m0\u001b[0m][\u001b[38;5;34m0\u001b[0m]              │\n",
              "├───────────────────────────┼────────────────────────┼────────────────┼────────────────────────┤\n",
              "│ dropout_2 (\u001b[38;5;33mDropout\u001b[0m)       │ (\u001b[38;5;45mNone\u001b[0m, \u001b[38;5;34m200\u001b[0m, \u001b[38;5;34m64\u001b[0m)        │              \u001b[38;5;34m0\u001b[0m │ conv1d[\u001b[38;5;34m0\u001b[0m][\u001b[38;5;34m0\u001b[0m]           │\n",
              "├───────────────────────────┼────────────────────────┼────────────────┼────────────────────────┤\n",
              "│ conv1d_1 (\u001b[38;5;33mConv1D\u001b[0m)         │ (\u001b[38;5;45mNone\u001b[0m, \u001b[38;5;34m200\u001b[0m, \u001b[38;5;34m2\u001b[0m)         │            \u001b[38;5;34m130\u001b[0m │ dropout_2[\u001b[38;5;34m0\u001b[0m][\u001b[38;5;34m0\u001b[0m]        │\n",
              "├───────────────────────────┼────────────────────────┼────────────────┼────────────────────────┤\n",
              "│ layer_normalization_1     │ (\u001b[38;5;45mNone\u001b[0m, \u001b[38;5;34m200\u001b[0m, \u001b[38;5;34m2\u001b[0m)         │              \u001b[38;5;34m4\u001b[0m │ conv1d_1[\u001b[38;5;34m0\u001b[0m][\u001b[38;5;34m0\u001b[0m]         │\n",
              "│ (\u001b[38;5;33mLayerNormalization\u001b[0m)      │                        │                │                        │\n",
              "├───────────────────────────┼────────────────────────┼────────────────┼────────────────────────┤\n",
              "│ add_1 (\u001b[38;5;33mAdd\u001b[0m)               │ (\u001b[38;5;45mNone\u001b[0m, \u001b[38;5;34m200\u001b[0m, \u001b[38;5;34m2\u001b[0m)         │              \u001b[38;5;34m0\u001b[0m │ layer_normalization_1… │\n",
              "│                           │                        │                │ add[\u001b[38;5;34m0\u001b[0m][\u001b[38;5;34m0\u001b[0m]              │\n",
              "├───────────────────────────┼────────────────────────┼────────────────┼────────────────────────┤\n",
              "│ multi_head_attention_1    │ (\u001b[38;5;45mNone\u001b[0m, \u001b[38;5;34m200\u001b[0m, \u001b[38;5;34m2\u001b[0m)         │          \u001b[38;5;34m1,410\u001b[0m │ add_1[\u001b[38;5;34m0\u001b[0m][\u001b[38;5;34m0\u001b[0m],           │\n",
              "│ (\u001b[38;5;33mMultiHeadAttention\u001b[0m)      │                        │                │ add_1[\u001b[38;5;34m0\u001b[0m][\u001b[38;5;34m0\u001b[0m]            │\n",
              "├───────────────────────────┼────────────────────────┼────────────────┼────────────────────────┤\n",
              "│ dropout_4 (\u001b[38;5;33mDropout\u001b[0m)       │ (\u001b[38;5;45mNone\u001b[0m, \u001b[38;5;34m200\u001b[0m, \u001b[38;5;34m2\u001b[0m)         │              \u001b[38;5;34m0\u001b[0m │ multi_head_attention_… │\n",
              "├───────────────────────────┼────────────────────────┼────────────────┼────────────────────────┤\n",
              "│ layer_normalization_2     │ (\u001b[38;5;45mNone\u001b[0m, \u001b[38;5;34m200\u001b[0m, \u001b[38;5;34m2\u001b[0m)         │              \u001b[38;5;34m4\u001b[0m │ dropout_4[\u001b[38;5;34m0\u001b[0m][\u001b[38;5;34m0\u001b[0m]        │\n",
              "│ (\u001b[38;5;33mLayerNormalization\u001b[0m)      │                        │                │                        │\n",
              "├───────────────────────────┼────────────────────────┼────────────────┼────────────────────────┤\n",
              "│ add_2 (\u001b[38;5;33mAdd\u001b[0m)               │ (\u001b[38;5;45mNone\u001b[0m, \u001b[38;5;34m200\u001b[0m, \u001b[38;5;34m2\u001b[0m)         │              \u001b[38;5;34m0\u001b[0m │ layer_normalization_2… │\n",
              "│                           │                        │                │ add_1[\u001b[38;5;34m0\u001b[0m][\u001b[38;5;34m0\u001b[0m]            │\n",
              "├───────────────────────────┼────────────────────────┼────────────────┼────────────────────────┤\n",
              "│ conv1d_2 (\u001b[38;5;33mConv1D\u001b[0m)         │ (\u001b[38;5;45mNone\u001b[0m, \u001b[38;5;34m200\u001b[0m, \u001b[38;5;34m64\u001b[0m)        │            \u001b[38;5;34m192\u001b[0m │ add_2[\u001b[38;5;34m0\u001b[0m][\u001b[38;5;34m0\u001b[0m]            │\n",
              "├───────────────────────────┼────────────────────────┼────────────────┼────────────────────────┤\n",
              "│ dropout_5 (\u001b[38;5;33mDropout\u001b[0m)       │ (\u001b[38;5;45mNone\u001b[0m, \u001b[38;5;34m200\u001b[0m, \u001b[38;5;34m64\u001b[0m)        │              \u001b[38;5;34m0\u001b[0m │ conv1d_2[\u001b[38;5;34m0\u001b[0m][\u001b[38;5;34m0\u001b[0m]         │\n",
              "├───────────────────────────┼────────────────────────┼────────────────┼────────────────────────┤\n",
              "│ conv1d_3 (\u001b[38;5;33mConv1D\u001b[0m)         │ (\u001b[38;5;45mNone\u001b[0m, \u001b[38;5;34m200\u001b[0m, \u001b[38;5;34m2\u001b[0m)         │            \u001b[38;5;34m130\u001b[0m │ dropout_5[\u001b[38;5;34m0\u001b[0m][\u001b[38;5;34m0\u001b[0m]        │\n",
              "├───────────────────────────┼────────────────────────┼────────────────┼────────────────────────┤\n",
              "│ layer_normalization_3     │ (\u001b[38;5;45mNone\u001b[0m, \u001b[38;5;34m200\u001b[0m, \u001b[38;5;34m2\u001b[0m)         │              \u001b[38;5;34m4\u001b[0m │ conv1d_3[\u001b[38;5;34m0\u001b[0m][\u001b[38;5;34m0\u001b[0m]         │\n",
              "│ (\u001b[38;5;33mLayerNormalization\u001b[0m)      │                        │                │                        │\n",
              "├───────────────────────────┼────────────────────────┼────────────────┼────────────────────────┤\n",
              "│ add_3 (\u001b[38;5;33mAdd\u001b[0m)               │ (\u001b[38;5;45mNone\u001b[0m, \u001b[38;5;34m200\u001b[0m, \u001b[38;5;34m2\u001b[0m)         │              \u001b[38;5;34m0\u001b[0m │ layer_normalization_3… │\n",
              "│                           │                        │                │ add_2[\u001b[38;5;34m0\u001b[0m][\u001b[38;5;34m0\u001b[0m]            │\n",
              "├───────────────────────────┼────────────────────────┼────────────────┼────────────────────────┤\n",
              "│ flatten (\u001b[38;5;33mFlatten\u001b[0m)         │ (\u001b[38;5;45mNone\u001b[0m, \u001b[38;5;34m400\u001b[0m)            │              \u001b[38;5;34m0\u001b[0m │ add_3[\u001b[38;5;34m0\u001b[0m][\u001b[38;5;34m0\u001b[0m]            │\n",
              "├───────────────────────────┼────────────────────────┼────────────────┼────────────────────────┤\n",
              "│ dense (\u001b[38;5;33mDense\u001b[0m)             │ (\u001b[38;5;45mNone\u001b[0m, \u001b[38;5;34m64\u001b[0m)             │         \u001b[38;5;34m25,664\u001b[0m │ flatten[\u001b[38;5;34m0\u001b[0m][\u001b[38;5;34m0\u001b[0m]          │\n",
              "├───────────────────────────┼────────────────────────┼────────────────┼────────────────────────┤\n",
              "│ dropout_6 (\u001b[38;5;33mDropout\u001b[0m)       │ (\u001b[38;5;45mNone\u001b[0m, \u001b[38;5;34m64\u001b[0m)             │              \u001b[38;5;34m0\u001b[0m │ dense[\u001b[38;5;34m0\u001b[0m][\u001b[38;5;34m0\u001b[0m]            │\n",
              "├───────────────────────────┼────────────────────────┼────────────────┼────────────────────────┤\n",
              "│ layer_normalization_4     │ (\u001b[38;5;45mNone\u001b[0m, \u001b[38;5;34m64\u001b[0m)             │            \u001b[38;5;34m128\u001b[0m │ dropout_6[\u001b[38;5;34m0\u001b[0m][\u001b[38;5;34m0\u001b[0m]        │\n",
              "│ (\u001b[38;5;33mLayerNormalization\u001b[0m)      │                        │                │                        │\n",
              "├───────────────────────────┼────────────────────────┼────────────────┼────────────────────────┤\n",
              "│ dense_2 (\u001b[38;5;33mDense\u001b[0m)           │ (\u001b[38;5;45mNone\u001b[0m, \u001b[38;5;34m64\u001b[0m)             │          \u001b[38;5;34m4,160\u001b[0m │ layer_normalization_4… │\n",
              "├───────────────────────────┼────────────────────────┼────────────────┼────────────────────────┤\n",
              "│ dropout_7 (\u001b[38;5;33mDropout\u001b[0m)       │ (\u001b[38;5;45mNone\u001b[0m, \u001b[38;5;34m64\u001b[0m)             │              \u001b[38;5;34m0\u001b[0m │ dense_2[\u001b[38;5;34m0\u001b[0m][\u001b[38;5;34m0\u001b[0m]          │\n",
              "├───────────────────────────┼────────────────────────┼────────────────┼────────────────────────┤\n",
              "│ layer_normalization_5     │ (\u001b[38;5;45mNone\u001b[0m, \u001b[38;5;34m64\u001b[0m)             │            \u001b[38;5;34m128\u001b[0m │ dropout_7[\u001b[38;5;34m0\u001b[0m][\u001b[38;5;34m0\u001b[0m]        │\n",
              "│ (\u001b[38;5;33mLayerNormalization\u001b[0m)      │                        │                │                        │\n",
              "├───────────────────────────┼────────────────────────┼────────────────┼────────────────────────┤\n",
              "│ dense_1 (\u001b[38;5;33mDense\u001b[0m)           │ (\u001b[38;5;45mNone\u001b[0m, \u001b[38;5;34m64\u001b[0m)             │          \u001b[38;5;34m4,160\u001b[0m │ layer_normalization_4… │\n",
              "├───────────────────────────┼────────────────────────┼────────────────┼────────────────────────┤\n",
              "│ add_4 (\u001b[38;5;33mAdd\u001b[0m)               │ (\u001b[38;5;45mNone\u001b[0m, \u001b[38;5;34m64\u001b[0m)             │              \u001b[38;5;34m0\u001b[0m │ layer_normalization_5… │\n",
              "│                           │                        │                │ dense_1[\u001b[38;5;34m0\u001b[0m][\u001b[38;5;34m0\u001b[0m]          │\n",
              "├───────────────────────────┼────────────────────────┼────────────────┼────────────────────────┤\n",
              "│ dense_3 (\u001b[38;5;33mDense\u001b[0m)           │ (\u001b[38;5;45mNone\u001b[0m, \u001b[38;5;34m64\u001b[0m)             │          \u001b[38;5;34m4,160\u001b[0m │ add_4[\u001b[38;5;34m0\u001b[0m][\u001b[38;5;34m0\u001b[0m]            │\n",
              "├───────────────────────────┼────────────────────────┼────────────────┼────────────────────────┤\n",
              "│ dropout_8 (\u001b[38;5;33mDropout\u001b[0m)       │ (\u001b[38;5;45mNone\u001b[0m, \u001b[38;5;34m64\u001b[0m)             │              \u001b[38;5;34m0\u001b[0m │ dense_3[\u001b[38;5;34m0\u001b[0m][\u001b[38;5;34m0\u001b[0m]          │\n",
              "├───────────────────────────┼────────────────────────┼────────────────┼────────────────────────┤\n",
              "│ dense_4 (\u001b[38;5;33mDense\u001b[0m)           │ (\u001b[38;5;45mNone\u001b[0m, \u001b[38;5;34m400\u001b[0m)            │         \u001b[38;5;34m26,000\u001b[0m │ dropout_8[\u001b[38;5;34m0\u001b[0m][\u001b[38;5;34m0\u001b[0m]        │\n",
              "├───────────────────────────┼────────────────────────┼────────────────┼────────────────────────┤\n",
              "│ layer_normalization_6     │ (\u001b[38;5;45mNone\u001b[0m, \u001b[38;5;34m400\u001b[0m)            │            \u001b[38;5;34m800\u001b[0m │ dense_4[\u001b[38;5;34m0\u001b[0m][\u001b[38;5;34m0\u001b[0m]          │\n",
              "│ (\u001b[38;5;33mLayerNormalization\u001b[0m)      │                        │                │                        │\n",
              "├───────────────────────────┼────────────────────────┼────────────────┼────────────────────────┤\n",
              "│ reshape (\u001b[38;5;33mReshape\u001b[0m)         │ (\u001b[38;5;45mNone\u001b[0m, \u001b[38;5;34m200\u001b[0m, \u001b[38;5;34m2\u001b[0m)         │              \u001b[38;5;34m0\u001b[0m │ layer_normalization_6… │\n",
              "├───────────────────────────┼────────────────────────┼────────────────┼────────────────────────┤\n",
              "│ add_5 (\u001b[38;5;33mAdd\u001b[0m)               │ (\u001b[38;5;45mNone\u001b[0m, \u001b[38;5;34m200\u001b[0m, \u001b[38;5;34m2\u001b[0m)         │              \u001b[38;5;34m0\u001b[0m │ reshape[\u001b[38;5;34m0\u001b[0m][\u001b[38;5;34m0\u001b[0m],         │\n",
              "│                           │                        │                │ add_3[\u001b[38;5;34m0\u001b[0m][\u001b[38;5;34m0\u001b[0m]            │\n",
              "├───────────────────────────┼────────────────────────┼────────────────┼────────────────────────┤\n",
              "│ dense_5 (\u001b[38;5;33mDense\u001b[0m)           │ (\u001b[38;5;45mNone\u001b[0m, \u001b[38;5;34m200\u001b[0m, \u001b[38;5;34m2\u001b[0m)         │              \u001b[38;5;34m6\u001b[0m │ add_5[\u001b[38;5;34m0\u001b[0m][\u001b[38;5;34m0\u001b[0m]            │\n",
              "└───────────────────────────┴────────────────────────┴────────────────┴────────────────────────┘\n"
            ]
          },
          "metadata": {},
          "output_type": "display_data"
        },
        {
          "data": {
            "text/html": [
              "<pre style=\"white-space:pre;overflow-x:auto;line-height:normal;font-family:Menlo,'DejaVu Sans Mono',consolas,'Courier New',monospace\"><span style=\"font-weight: bold\"> Total params: </span><span style=\"color: #00af00; text-decoration-color: #00af00\">206,060</span> (804.93 KB)\n",
              "</pre>\n"
            ],
            "text/plain": [
              "\u001b[1m Total params: \u001b[0m\u001b[38;5;34m206,060\u001b[0m (804.93 KB)\n"
            ]
          },
          "metadata": {},
          "output_type": "display_data"
        },
        {
          "data": {
            "text/html": [
              "<pre style=\"white-space:pre;overflow-x:auto;line-height:normal;font-family:Menlo,'DejaVu Sans Mono',consolas,'Courier New',monospace\"><span style=\"font-weight: bold\"> Trainable params: </span><span style=\"color: #00af00; text-decoration-color: #00af00\">68,686</span> (268.30 KB)\n",
              "</pre>\n"
            ],
            "text/plain": [
              "\u001b[1m Trainable params: \u001b[0m\u001b[38;5;34m68,686\u001b[0m (268.30 KB)\n"
            ]
          },
          "metadata": {},
          "output_type": "display_data"
        },
        {
          "data": {
            "text/html": [
              "<pre style=\"white-space:pre;overflow-x:auto;line-height:normal;font-family:Menlo,'DejaVu Sans Mono',consolas,'Courier New',monospace\"><span style=\"font-weight: bold\"> Non-trainable params: </span><span style=\"color: #00af00; text-decoration-color: #00af00\">0</span> (0.00 B)\n",
              "</pre>\n"
            ],
            "text/plain": [
              "\u001b[1m Non-trainable params: \u001b[0m\u001b[38;5;34m0\u001b[0m (0.00 B)\n"
            ]
          },
          "metadata": {},
          "output_type": "display_data"
        },
        {
          "data": {
            "text/html": [
              "<pre style=\"white-space:pre;overflow-x:auto;line-height:normal;font-family:Menlo,'DejaVu Sans Mono',consolas,'Courier New',monospace\"><span style=\"font-weight: bold\"> Optimizer params: </span><span style=\"color: #00af00; text-decoration-color: #00af00\">137,374</span> (536.62 KB)\n",
              "</pre>\n"
            ],
            "text/plain": [
              "\u001b[1m Optimizer params: \u001b[0m\u001b[38;5;34m137,374\u001b[0m (536.62 KB)\n"
            ]
          },
          "metadata": {},
          "output_type": "display_data"
        }
      ],
      "source": [
        "__file__='/content/drive/MyDrive/Colab Notebooks/'\n",
        "pretrained_model = Autoencoder()\n",
        "pretrained_model.load()\n",
        "\n",
        "# Check its architecture\n",
        "pretrained_model.ae.summary()\n",
        "\n",
        "pretrained_model.ae.save_weights('autoencoder_weights.weights.h5')"
      ]
    },
    {
      "cell_type": "code",
      "execution_count": null,
      "metadata": {
        "colab": {
          "base_uri": "https://localhost:8080/",
          "height": 873
        },
        "id": "8fpAC1108REX",
        "outputId": "96173c5e-d80f-42ff-fc76-b257e44d493c"
      },
      "outputs": [
        {
          "name": "stderr",
          "output_type": "stream",
          "text": [
            "/usr/local/lib/python3.11/dist-packages/keras/src/saving/saving_lib.py:757: UserWarning: Skipping variable loading for optimizer 'adam', because it has 2 variables whereas the saved optimizer has 102 variables. \n",
            "  saveable.load_own_variables(weights_store.get(inner_path))\n",
            "/usr/local/lib/python3.11/dist-packages/keras/src/saving/saving_lib.py:629: UserWarning: A total of 7 objects could not be loaded. Example error message for object <Dense name=dense_6, built=True>:\n",
            "\n",
            "The shape of the target variable and the shape of the target value in `variable.assign(value)` must match. variable.shape=(400, 256), Received: value.shape=(400, 64). Target variable: <Variable path=dense_6/kernel, shape=(400, 256), dtype=float32, value=[[-0.00643272  0.01929118 -0.00534128 ...  0.04798409  0.0935115\n",
            "   0.04703196]\n",
            " [-0.02188373 -0.00243694  0.06306403 ... -0.03265082 -0.02013429\n",
            "  -0.06983075]\n",
            " [-0.04878021 -0.00781693  0.05577386 ...  0.05225589 -0.07130202\n",
            "  -0.08663586]\n",
            " ...\n",
            " [ 0.0887601  -0.05606027  0.0018191  ...  0.0163532   0.00090381\n",
            "   0.06927351]\n",
            " [-0.0228217   0.08168387 -0.0662044  ... -0.05830066 -0.0790357\n",
            "  -0.07485632]\n",
            " [ 0.0152386  -0.01952013  0.00036311 ...  0.07991474 -0.0281475\n",
            "   0.08049593]]>\n",
            "\n",
            "List of objects that could not be loaded:\n",
            "[<Dense name=dense_6, built=True>, <LayerNormalization name=layer_normalization_11, built=True>, <Dense name=dense_7, built=True>, <LayerNormalization name=layer_normalization_12, built=True>, <Dense name=dense_8, built=True>, <LayerNormalization name=layer_normalization_13, built=True>, <Dense name=dense_9, built=True>]\n",
            "  warnings.warn(msg)\n"
          ]
        },
        {
          "name": "stdout",
          "output_type": "stream",
          "text": [
            "Epoch 1/4\n",
            "\u001b[1m7500/7500\u001b[0m \u001b[32m━━━━━━━━━━━━━━━━━━━━\u001b[0m\u001b[37m\u001b[0m \u001b[1m91s\u001b[0m 10ms/step - accuracy: 0.7230 - f1_score: 0.5008 - fn: 19446.0957 - fp: 10519.0547 - loss: 0.5307 - tn: 69456.9375 - tp: 20609.9062 - val_accuracy: 0.8710 - val_f1_score: 0.5011 - val_fn: 5173.0000 - val_fp: 2565.0000 - val_loss: 0.3012 - val_tn: 37377.0000 - val_tp: 14885.0000\n",
            "Epoch 2/4\n",
            "\u001b[1m7500/7500\u001b[0m \u001b[32m━━━━━━━━━━━━━━━━━━━━\u001b[0m\u001b[37m\u001b[0m \u001b[1m131s\u001b[0m 10ms/step - accuracy: 0.8668 - f1_score: 0.4987 - fn: 9403.7266 - fp: 6271.7949 - loss: 0.3034 - tn: 73869.0469 - tp: 30487.4238 - val_accuracy: 0.9068 - val_f1_score: 0.5011 - val_fn: 3319.0000 - val_fp: 2276.0000 - val_loss: 0.2271 - val_tn: 37666.0000 - val_tp: 16739.0000\n",
            "Epoch 3/4\n",
            "\u001b[1m7500/7500\u001b[0m \u001b[32m━━━━━━━━━━━━━━━━━━━━\u001b[0m\u001b[37m\u001b[0m \u001b[1m72s\u001b[0m 10ms/step - accuracy: 0.9016 - f1_score: 0.4998 - fn: 7103.6992 - fp: 4565.6475 - loss: 0.2366 - tn: 75464.7344 - tp: 32897.9102 - val_accuracy: 0.9211 - val_f1_score: 0.5011 - val_fn: 3193.0000 - val_fp: 1542.0000 - val_loss: 0.1997 - val_tn: 38400.0000 - val_tp: 16865.0000\n",
            "Epoch 4/4\n",
            "\u001b[1m7500/7500\u001b[0m \u001b[32m━━━━━━━━━━━━━━━━━━━━\u001b[0m\u001b[37m\u001b[0m \u001b[1m83s\u001b[0m 10ms/step - accuracy: 0.9195 - f1_score: 0.5005 - fn: 5947.8369 - fp: 3663.5076 - loss: 0.1996 - tn: 76305.5000 - tp: 34115.1523 - val_accuracy: 0.9276 - val_f1_score: 0.5011 - val_fn: 2997.0000 - val_fp: 1348.0000 - val_loss: 0.1852 - val_tn: 38594.0000 - val_tp: 17061.0000\n",
            "\u001b[1m7500/7500\u001b[0m \u001b[32m━━━━━━━━━━━━━━━━━━━━\u001b[0m\u001b[37m\u001b[0m \u001b[1m74s\u001b[0m 10ms/step - accuracy: 0.9310 - f1_score: 0.5009 - fn: 5184.5166 - fp: 3136.2859 - loss: 0.1749 - tn: 76803.3672 - tp: 34907.8281 - val_accuracy: 0.9326 - val_f1_score: 0.5011 - val_fn: 2650.0000 - val_fp: 1393.0000 - val_loss: 0.1735 - val_tn: 38549.0000 - val_tp: 17408.0000\n"
          ]
        },
        {
          "ename": "TypeError",
          "evalue": "'list' object cannot be interpreted as an integer",
          "output_type": "error",
          "traceback": [
            "\u001b[0;31m---------------------------------------------------------------------------\u001b[0m",
            "\u001b[0;31mTypeError\u001b[0m                                 Traceback (most recent call last)",
            "\u001b[0;32m/content/drive/MyDrive/Colab Notebooks/\u001b[0m in \u001b[0;36m<cell line: 0>\u001b[0;34m()\u001b[0m\n\u001b[1;32m    120\u001b[0m \u001b[0;34m\u001b[0m\u001b[0m\n\u001b[1;32m    121\u001b[0m \u001b[0;31m# Assuming x_train is your input data\u001b[0m\u001b[0;34m\u001b[0m\u001b[0;34m\u001b[0m\u001b[0m\n\u001b[0;32m--> 122\u001b[0;31m history = predictor.fit(\n\u001b[0m\u001b[1;32m    123\u001b[0m     \u001b[0mx_train\u001b[0m\u001b[0;34m,\u001b[0m\u001b[0;34m\u001b[0m\u001b[0;34m\u001b[0m\u001b[0m\n\u001b[1;32m    124\u001b[0m     \u001b[0my_train\u001b[0m\u001b[0;34m,\u001b[0m\u001b[0;34m\u001b[0m\u001b[0;34m\u001b[0m\u001b[0m\n",
            "\u001b[0;32m/content/drive/MyDrive/Colab Notebooks/\u001b[0m in \u001b[0;36mfit\u001b[0;34m(self, x_train, y_train, epochs, tuning_split, validation_split, **kwargs)\u001b[0m\n\u001b[1;32m     87\u001b[0m                                       validation_data=(x_val, y_val), **kwargs)\n\u001b[1;32m     88\u001b[0m         \u001b[0mhistory\u001b[0m \u001b[0;34m=\u001b[0m \u001b[0;34m{\u001b[0m\u001b[0;34m}\u001b[0m\u001b[0;34m\u001b[0m\u001b[0;34m\u001b[0m\u001b[0m\n\u001b[0;32m---> 89\u001b[0;31m         \u001b[0mhistory\u001b[0m\u001b[0;34m[\u001b[0m\u001b[0;34m'loss'\u001b[0m\u001b[0;34m]\u001b[0m \u001b[0;34m=\u001b[0m \u001b[0mnp\u001b[0m\u001b[0;34m.\u001b[0m\u001b[0mconcatenate\u001b[0m\u001b[0;34m(\u001b[0m\u001b[0mhistory_1\u001b[0m\u001b[0;34m.\u001b[0m\u001b[0mhistory\u001b[0m\u001b[0;34m[\u001b[0m\u001b[0;34m'loss'\u001b[0m\u001b[0;34m]\u001b[0m\u001b[0;34m,\u001b[0m \u001b[0mhistory_2\u001b[0m\u001b[0;34m.\u001b[0m\u001b[0mhistory\u001b[0m\u001b[0;34m[\u001b[0m\u001b[0;34m'loss'\u001b[0m\u001b[0;34m]\u001b[0m\u001b[0;34m)\u001b[0m\u001b[0;34m\u001b[0m\u001b[0;34m\u001b[0m\u001b[0m\n\u001b[0m\u001b[1;32m     90\u001b[0m         \u001b[0mhistory\u001b[0m\u001b[0;34m[\u001b[0m\u001b[0;34m'val_loss'\u001b[0m\u001b[0;34m]\u001b[0m \u001b[0;34m=\u001b[0m \u001b[0mnp\u001b[0m\u001b[0;34m.\u001b[0m\u001b[0mconcatenate\u001b[0m\u001b[0;34m(\u001b[0m\u001b[0mhistory_1\u001b[0m\u001b[0;34m.\u001b[0m\u001b[0mhistory\u001b[0m\u001b[0;34m[\u001b[0m\u001b[0;34m'val_loss'\u001b[0m\u001b[0;34m]\u001b[0m\u001b[0;34m,\u001b[0m \u001b[0mhistory_2\u001b[0m\u001b[0;34m.\u001b[0m\u001b[0mhistory\u001b[0m\u001b[0;34m[\u001b[0m\u001b[0;34m'val_loss'\u001b[0m\u001b[0;34m]\u001b[0m\u001b[0;34m)\u001b[0m\u001b[0;34m\u001b[0m\u001b[0;34m\u001b[0m\u001b[0m\n\u001b[1;32m     91\u001b[0m       \u001b[0;32melse\u001b[0m\u001b[0;34m:\u001b[0m\u001b[0;34m\u001b[0m\u001b[0;34m\u001b[0m\u001b[0m\n",
            "\u001b[0;31mTypeError\u001b[0m: 'list' object cannot be interpreted as an integer"
          ]
        }
      ],
      "source": [
        "class Model:\n",
        "    def __init__(self):\n",
        "        super().__init__()\n",
        "        self.encoder_layers = 0\n",
        "        self.predictor_layers = 0\n",
        "\n",
        "    def transformer_encoder(self, inputs, head_size, num_heads, ff_dim, dropout=0):\n",
        "        x = layers.MultiHeadAttention(\n",
        "            key_dim=head_size, num_heads=num_heads, dropout=dropout, trainable=False,\n",
        "        )(inputs, inputs)\n",
        "        x = layers.Dropout(dropout, trainable=False)(x)\n",
        "        x = layers.LayerNormalization(epsilon=1e-6, trainable=False)(x)\n",
        "        res = x + inputs\n",
        "\n",
        "        x = layers.Conv1D(filters=ff_dim, kernel_size=1, activation=\"relu\", trainable=False)(res)\n",
        "        x = layers.Dropout(dropout, trainable=False)(x)\n",
        "        x = layers.Conv1D(filters=inputs.shape[-1], kernel_size=1, trainable=False)(x)\n",
        "        x = layers.LayerNormalization(epsilon=1e-6, trainable=False)(x)\n",
        "\n",
        "        self.encoder_layers += 9\n",
        "        return x + res\n",
        "\n",
        "    def dense_predictor(self, inputs, pred_dim, dropout=0):\n",
        "        # Flattens the input to apply dense layers\n",
        "        x = layers.Flatten()(inputs)\n",
        "        self.predictor_layers += 1\n",
        "\n",
        "        current_units = int(np.power(2, np.ceil(np.log2(x.shape[-1]))))\n",
        "\n",
        "        while(current_units > pred_dim):\n",
        "          current_units //= 2\n",
        "          x = layers.Dense(current_units, activation=\"leaky_relu\")(x)\n",
        "          x = layers.Dropout(dropout)(x)\n",
        "          x = layers.LayerNormalization(epsilon=1e-6)(x)\n",
        "          self.predictor_layers += 3\n",
        "\n",
        "        # Calculates probabilities for prediction\n",
        "        x = layers.Dense(1, activation=\"sigmoid\")(x)\n",
        "        self.predictor_layers += 1\n",
        "        return x\n",
        "\n",
        "    def build_model(self, input_shape, head_size, num_heads, ff_dim, pred_dim, num_transformer_blocks, dropout=0, mlp_dropout=0):\n",
        "        inputs = keras.Input(shape=input_shape)\n",
        "\n",
        "        # Encoder\n",
        "        x = inputs\n",
        "        for _ in range(num_transformer_blocks):\n",
        "            x = self.transformer_encoder(x, head_size, num_heads, ff_dim, dropout)\n",
        "\n",
        "        # Predictor\n",
        "        outputs = self.dense_predictor(x, pred_dim, dropout)\n",
        "\n",
        "        metrics = [tf.keras.metrics.BinaryAccuracy(name='accuracy'),\n",
        "                   keras.metrics.TruePositives(name='tp'),\n",
        "                   keras.metrics.FalsePositives(name='fp'),\n",
        "                   keras.metrics.TrueNegatives(name='tn'),\n",
        "                   keras.metrics.FalseNegatives(name='fn'),\n",
        "                   keras.metrics.F1Score(name='f1_score')]\n",
        "\n",
        "        self.model = keras.Model(inputs, outputs)\n",
        "        self.model.compile(loss='binary_crossentropy', optimizer=keras.optimizers.Adam(learning_rate=1e-4),\n",
        "                           metrics=metrics)\n",
        "\n",
        "    def predict(self, X, batch_size=32):\n",
        "        return np.where(self.model.predict(X, batch_size=batch_size) >= 0.5, 1, 0)\n",
        "\n",
        "    def __call__(self, inputs, batch_size=64):\n",
        "        return self.model.predict(inputs, batch_size=batch_size)\n",
        "\n",
        "    def save(self, path):\n",
        "        self.model.save(os.path.join(os.path.dirname(__file__), 'model.keras'))\n",
        "\n",
        "    def load(self):\n",
        "        self.model = keras.models.load_model(os.path.join(os.path.dirname(__file__), 'model.keras'))\n",
        "\n",
        "    def fit(self, x_train, y_train, epochs=1, tuning_split=0.0, validation_split=0.0, **kwargs):\n",
        "      if validation_split > 0:\n",
        "        x_train, x_val, y_train, y_val = train_test_split(\n",
        "            data, labels, test_size=validation_split, random_state=42)\n",
        "\n",
        "      if tuning_split > 0:\n",
        "        history_1 = self.model.fit(x_train, y_train, epochs=int(epochs*(1-tuning_split)),\n",
        "                                 validation_data=(x_val, y_val), **kwargs)\n",
        "        for layer in self.model.layers: layer.trainable = True\n",
        "\n",
        "        history_2 = self.model.fit(x_train, y_train, epochs=int(epochs*tuning_split),\n",
        "                                      validation_data=(x_val, y_val), **kwargs)\n",
        "        history = {}\n",
        "        history['loss'] = np.concatenate(history_1.history['loss'], history_2.history['loss'])\n",
        "        history['val_loss'] = np.concatenate(history_1.history['val_loss'], history_2.history['val_loss'])\n",
        "      else:\n",
        "        history = self.model.fit(x_train, y_train, epochs=epochs,\n",
        "                                 validation_data=(x_val, y_val), **kwargs)\n",
        "      return history\n",
        "\n",
        "# Example usage:\n",
        "input_shape = x_train.shape[1:]\n",
        "head_size = 64\n",
        "num_heads = 2\n",
        "ff_dim = 64\n",
        "pred_dim = 64\n",
        "num_transformer_blocks = 2\n",
        "num_dense_blocks = 1\n",
        "dropout = 0.1\n",
        "fine_tuning_split = 0.2\n",
        "\n",
        "# build the model\n",
        "predictor = Model()\n",
        "predictor.build_model(\n",
        "    input_shape=input_shape,\n",
        "    head_size=head_size,\n",
        "    num_heads=num_heads,\n",
        "    ff_dim=ff_dim,\n",
        "    pred_dim=pred_dim,\n",
        "    num_transformer_blocks=num_transformer_blocks,\n",
        "    dropout=dropout\n",
        ")\n",
        "\n",
        "predictor.model.load_weights('autoencoder_weights.weights.h5', skip_mismatch=True)\n",
        "\n",
        "# Assuming x_train is your input data\n",
        "history = predictor.fit(\n",
        "    x_train,\n",
        "    y_train,\n",
        "    epochs=5,\n",
        "    tuning_split=fine_tuning_split,\n",
        "    validation_split=0.2,\n",
        "    batch_size=32,\n",
        "    callbacks=[keras.callbacks.EarlyStopping(patience=10, restore_best_weights=True)]\n",
        ")"
      ]
    },
    {
      "cell_type": "markdown",
      "metadata": {
        "id": "NrNUdIAlpIJ7"
      },
      "source": [
        "True positive rate: 90.735164973027223685861247020449%\n",
        "\n",
        "True negative rate: 97.205065818204504335891197205066%"
      ]
    },
    {
      "cell_type": "code",
      "execution_count": null,
      "metadata": {
        "id": "GmZH9Sc_ONIz"
      },
      "outputs": [],
      "source": [
        "__file__='saved_model'\n",
        "!mkdir -p saved_model\n",
        "predictor.save('')"
      ]
    },
    {
      "cell_type": "code",
      "execution_count": null,
      "metadata": {
        "colab": {
          "base_uri": "https://localhost:8080/",
          "height": 476
        },
        "id": "58Ll6OHymBa2",
        "outputId": "99899cd3-d81e-48f1-b605-eb579b56269a"
      },
      "outputs": [
        {
          "data": {
            "image/png": "[encoded data removed]",
            "text/plain": [
              "<Figure size 640x480 with 1 Axes>"
            ]
          },
          "metadata": {},
          "output_type": "display_data"
        }
      ],
      "source": [
        "# This is just an example; you would probably like to train the model for more epochs\n",
        "metric = \"loss\"\n",
        "plt.figure()\n",
        "plt.plot(history.history[metric])\n",
        "plt.plot(history.history[\"val_\" + metric])\n",
        "plt.title(\"Model \" + metric)\n",
        "plt.ylabel(metric, fontsize=\"large\")\n",
        "plt.xlabel(\"epoch\", fontsize=\"large\")\n",
        "plt.legend([\"train\", \"val\"], loc=\"best\")\n",
        "plt.show()\n",
        "plt.close()"
      ]
    },
    {
      "cell_type": "code",
      "execution_count": null,
      "metadata": {
        "colab": {
          "base_uri": "https://localhost:8080/"
        },
        "id": "3B-YKFk8mdfH",
        "outputId": "61f4d162-119a-4fbd-ec44-557edee5dcfa"
      },
      "outputs": [
        {
          "name": "stdout",
          "output_type": "stream",
          "text": [
            "\u001b[1m1875/1875\u001b[0m \u001b[32m━━━━━━━━━━━━━━━━━━━━\u001b[0m\u001b[37m\u001b[0m \u001b[1m10s\u001b[0m 6ms/step - accuracy: 0.9389 - f1_score: 0.5009 - fn: 972.1455 - fp: 831.9776 - loss: 0.1652 - tn: 19174.6992 - tp: 9053.1602\n"
          ]
        },
        {
          "data": {
            "text/plain": [
              "{'accuracy': 0.940850019454956,\n",
              " 'f1_score': 0.5010866522789001,\n",
              " 'fn': 1931.0,\n",
              " 'fp': 1618.0,\n",
              " 'loss': 0.16155590116977692,\n",
              " 'tn': 38324.0,\n",
              " 'tp': 18127.0}"
            ]
          },
          "execution_count": 16,
          "metadata": {},
          "output_type": "execute_result"
        }
      ],
      "source": [
        "5predictor.model.evaluate(x_test, y_test, return_dict=True)"
      ]
    },
    {
      "cell_type": "markdown",
      "metadata": {
        "id": "iowS4BEZptVr"
      },
      "source": [
        "True positive rate: 90.567354671452786917937979858411%\n",
        "\n",
        "True negative rate: 97.316108357117820840218316559011%"
      ]
    },
    {
      "cell_type": "code",
      "execution_count": null,
      "metadata": {
        "colab": {
          "base_uri": "https://localhost:8080/",
          "height": 504
        },
        "id": "OpeSNvP0mSu1",
        "outputId": "c237e2dc-a6e2-4d5a-85da-bc9a1b259341"
      },
      "outputs": [
        {
          "name": "stdout",
          "output_type": "stream",
          "text": [
            "\u001b[1m1875/1875\u001b[0m \u001b[32m━━━━━━━━━━━━━━━━━━━━\u001b[0m\u001b[37m\u001b[0m \u001b[1m10s\u001b[0m 4ms/step\n"
          ]
        },
        {
          "data": {
            "image/png": "[encoded data removed]",
            "text/plain": [
              "<Figure size 640x480 with 1 Axes>"
            ]
          },
          "metadata": {},
          "output_type": "display_data"
        }
      ],
      "source": [
        "def make_plot_roc_curves(model, x_test, y_test):\n",
        "\n",
        "    true_val = y_test\n",
        "    pred_val = model.predict(x_test)\n",
        "\n",
        "    fpr_loss, tpr_loss, threshold_loss = roc_curve(true_val, pred_val)\n",
        "\n",
        "    auc_loss = auc(fpr_loss, tpr_loss)\n",
        "\n",
        "\n",
        "    # qcd[::-1].sort()\n",
        "\n",
        "    plt.plot(fpr_loss, tpr_loss, '-', label=f'MSE (auc = %.1f%%)'%(auc_loss*100.),\n",
        "        linewidth=1.5)\n",
        "    plt.plot(np.linspace(0, 1),np.linspace(0, 1), '--', color='0.75')\n",
        "\n",
        "    plt.semilogx()\n",
        "    plt.semilogy()\n",
        "    plt.ylabel('True Positive Rate')\n",
        "    plt.xlabel('False Positive Rate')\n",
        "    plt.grid(True)\n",
        "    plt.legend()\n",
        "    plt.tight_layout()\n",
        "    plt.show()\n",
        "\n",
        "make_plot_roc_curves(predictor, x_test, y_test)"
      ]
    },
    {
      "cell_type": "code",
      "execution_count": null,
      "metadata": {
        "colab": {
          "base_uri": "https://localhost:8080/",
          "height": 447
        },
        "id": "6mtstoTboUYx",
        "outputId": "f30da6fb-d4ec-4134-bbda-56d0fb6f0cec"
      },
      "outputs": [
        {
          "data": {
            "text/plain": [
              "<matplotlib.legend.Legend at 0x7f4f20b0a1d0>"
            ]
          },
          "execution_count": 26,
          "metadata": {},
          "output_type": "execute_result"
        },
        {
          "data": {
            "image/png": "[encoded data removed]",
            "text/plain": [
              "<Figure size 640x480 with 1 Axes>"
            ]
          },
          "metadata": {},
          "output_type": "display_data"
        }
      ],
      "source": [
        "plt.hist(background_test, density=True, bins=100, alpha=0.5, label='Background')\n",
        "plt.hist(signal_test, density=True, bins=100, alpha=0.5, label='Signal')\n",
        "plt.semilogy()\n",
        "plt.legend()"
      ]
    },
    {
      "cell_type": "code",
      "execution_count": null,
      "metadata": {
        "colab": {
          "base_uri": "https://localhost:8080/",
          "height": 1000
        },
        "id": "9OMbtZpxpdlz",
        "outputId": "6ea9830c-b0fb-41f5-8175-c080470a79c2"
      },
      "outputs": [
        {
          "name": "stderr",
          "output_type": "stream",
          "text": [
            "/usr/local/lib/python3.11/dist-packages/keras/src/saving/saving_lib.py:713: UserWarning: Skipping variable loading for optimizer 'adam', because it has 94 variables whereas the saved optimizer has 62 variables. \n",
            "  saveable.load_own_variables(weights_store.get(inner_path))\n"
          ]
        },
        {
          "data": {
            "text/html": [
              "<pre style=\"white-space:pre;overflow-x:auto;line-height:normal;font-family:Menlo,'DejaVu Sans Mono',consolas,'Courier New',monospace\"><span style=\"font-weight: bold\">Model: \"functional_5\"</span>\n",
              "</pre>\n"
            ],
            "text/plain": [
              "\u001b[1mModel: \"functional_5\"\u001b[0m\n"
            ]
          },
          "metadata": {},
          "output_type": "display_data"
        },
        {
          "data": {
            "text/html": [
              "<pre style=\"white-space:pre;overflow-x:auto;line-height:normal;font-family:Menlo,'DejaVu Sans Mono',consolas,'Courier New',monospace\">┏━━━━━━━━━━━━━━━━━━━━━━━━━━━┳━━━━━━━━━━━━━━━━━━━━━━━━┳━━━━━━━━━━━━━━━━┳━━━━━━━━━━━━━━━━━━━━━━━━┓\n",
              "┃<span style=\"font-weight: bold\"> Layer (type)              </span>┃<span style=\"font-weight: bold\"> Output Shape           </span>┃<span style=\"font-weight: bold\">        Param # </span>┃<span style=\"font-weight: bold\"> Connected to           </span>┃\n",
              "┡━━━━━━━━━━━━━━━━━━━━━━━━━━━╇━━━━━━━━━━━━━━━━━━━━━━━━╇━━━━━━━━━━━━━━━━╇━━━━━━━━━━━━━━━━━━━━━━━━┩\n",
              "│ input_layer_2             │ (<span style=\"color: #00d7ff; text-decoration-color: #00d7ff\">None</span>, <span style=\"color: #00af00; text-decoration-color: #00af00\">200</span>, <span style=\"color: #00af00; text-decoration-color: #00af00\">2</span>)         │              <span style=\"color: #00af00; text-decoration-color: #00af00\">0</span> │ -                      │\n",
              "│ (<span style=\"color: #0087ff; text-decoration-color: #0087ff\">InputLayer</span>)              │                        │                │                        │\n",
              "├───────────────────────────┼────────────────────────┼────────────────┼────────────────────────┤\n",
              "│ multi_head_attention_4    │ (<span style=\"color: #00d7ff; text-decoration-color: #00d7ff\">None</span>, <span style=\"color: #00af00; text-decoration-color: #00af00\">200</span>, <span style=\"color: #00af00; text-decoration-color: #00af00\">2</span>)         │          <span style=\"color: #00af00; text-decoration-color: #00af00\">1,410</span> │ input_layer_2[<span style=\"color: #00af00; text-decoration-color: #00af00\">0</span>][<span style=\"color: #00af00; text-decoration-color: #00af00\">0</span>],   │\n",
              "│ (<span style=\"color: #0087ff; text-decoration-color: #0087ff\">MultiHeadAttention</span>)      │                        │                │ input_layer_2[<span style=\"color: #00af00; text-decoration-color: #00af00\">0</span>][<span style=\"color: #00af00; text-decoration-color: #00af00\">0</span>]    │\n",
              "├───────────────────────────┼────────────────────────┼────────────────┼────────────────────────┤\n",
              "│ dropout_21 (<span style=\"color: #0087ff; text-decoration-color: #0087ff\">Dropout</span>)      │ (<span style=\"color: #00d7ff; text-decoration-color: #00d7ff\">None</span>, <span style=\"color: #00af00; text-decoration-color: #00af00\">200</span>, <span style=\"color: #00af00; text-decoration-color: #00af00\">2</span>)         │              <span style=\"color: #00af00; text-decoration-color: #00af00\">0</span> │ multi_head_attention_… │\n",
              "├───────────────────────────┼────────────────────────┼────────────────┼────────────────────────┤\n",
              "│ layer_normalization_14    │ (<span style=\"color: #00d7ff; text-decoration-color: #00d7ff\">None</span>, <span style=\"color: #00af00; text-decoration-color: #00af00\">200</span>, <span style=\"color: #00af00; text-decoration-color: #00af00\">2</span>)         │              <span style=\"color: #00af00; text-decoration-color: #00af00\">4</span> │ dropout_21[<span style=\"color: #00af00; text-decoration-color: #00af00\">0</span>][<span style=\"color: #00af00; text-decoration-color: #00af00\">0</span>]       │\n",
              "│ (<span style=\"color: #0087ff; text-decoration-color: #0087ff\">LayerNormalization</span>)      │                        │                │                        │\n",
              "├───────────────────────────┼────────────────────────┼────────────────┼────────────────────────┤\n",
              "│ add_10 (<span style=\"color: #0087ff; text-decoration-color: #0087ff\">Add</span>)              │ (<span style=\"color: #00d7ff; text-decoration-color: #00d7ff\">None</span>, <span style=\"color: #00af00; text-decoration-color: #00af00\">200</span>, <span style=\"color: #00af00; text-decoration-color: #00af00\">2</span>)         │              <span style=\"color: #00af00; text-decoration-color: #00af00\">0</span> │ layer_normalization_1… │\n",
              "│                           │                        │                │ input_layer_2[<span style=\"color: #00af00; text-decoration-color: #00af00\">0</span>][<span style=\"color: #00af00; text-decoration-color: #00af00\">0</span>]    │\n",
              "├───────────────────────────┼────────────────────────┼────────────────┼────────────────────────┤\n",
              "│ conv1d_8 (<span style=\"color: #0087ff; text-decoration-color: #0087ff\">Conv1D</span>)         │ (<span style=\"color: #00d7ff; text-decoration-color: #00d7ff\">None</span>, <span style=\"color: #00af00; text-decoration-color: #00af00\">200</span>, <span style=\"color: #00af00; text-decoration-color: #00af00\">64</span>)        │            <span style=\"color: #00af00; text-decoration-color: #00af00\">192</span> │ add_10[<span style=\"color: #00af00; text-decoration-color: #00af00\">0</span>][<span style=\"color: #00af00; text-decoration-color: #00af00\">0</span>]           │\n",
              "├───────────────────────────┼────────────────────────┼────────────────┼────────────────────────┤\n",
              "│ dropout_22 (<span style=\"color: #0087ff; text-decoration-color: #0087ff\">Dropout</span>)      │ (<span style=\"color: #00d7ff; text-decoration-color: #00d7ff\">None</span>, <span style=\"color: #00af00; text-decoration-color: #00af00\">200</span>, <span style=\"color: #00af00; text-decoration-color: #00af00\">64</span>)        │              <span style=\"color: #00af00; text-decoration-color: #00af00\">0</span> │ conv1d_8[<span style=\"color: #00af00; text-decoration-color: #00af00\">0</span>][<span style=\"color: #00af00; text-decoration-color: #00af00\">0</span>]         │\n",
              "├───────────────────────────┼────────────────────────┼────────────────┼────────────────────────┤\n",
              "│ conv1d_9 (<span style=\"color: #0087ff; text-decoration-color: #0087ff\">Conv1D</span>)         │ (<span style=\"color: #00d7ff; text-decoration-color: #00d7ff\">None</span>, <span style=\"color: #00af00; text-decoration-color: #00af00\">200</span>, <span style=\"color: #00af00; text-decoration-color: #00af00\">2</span>)         │            <span style=\"color: #00af00; text-decoration-color: #00af00\">130</span> │ dropout_22[<span style=\"color: #00af00; text-decoration-color: #00af00\">0</span>][<span style=\"color: #00af00; text-decoration-color: #00af00\">0</span>]       │\n",
              "├───────────────────────────┼────────────────────────┼────────────────┼────────────────────────┤\n",
              "│ layer_normalization_15    │ (<span style=\"color: #00d7ff; text-decoration-color: #00d7ff\">None</span>, <span style=\"color: #00af00; text-decoration-color: #00af00\">200</span>, <span style=\"color: #00af00; text-decoration-color: #00af00\">2</span>)         │              <span style=\"color: #00af00; text-decoration-color: #00af00\">4</span> │ conv1d_9[<span style=\"color: #00af00; text-decoration-color: #00af00\">0</span>][<span style=\"color: #00af00; text-decoration-color: #00af00\">0</span>]         │\n",
              "│ (<span style=\"color: #0087ff; text-decoration-color: #0087ff\">LayerNormalization</span>)      │                        │                │                        │\n",
              "├───────────────────────────┼────────────────────────┼────────────────┼────────────────────────┤\n",
              "│ add_11 (<span style=\"color: #0087ff; text-decoration-color: #0087ff\">Add</span>)              │ (<span style=\"color: #00d7ff; text-decoration-color: #00d7ff\">None</span>, <span style=\"color: #00af00; text-decoration-color: #00af00\">200</span>, <span style=\"color: #00af00; text-decoration-color: #00af00\">2</span>)         │              <span style=\"color: #00af00; text-decoration-color: #00af00\">0</span> │ layer_normalization_1… │\n",
              "│                           │                        │                │ add_10[<span style=\"color: #00af00; text-decoration-color: #00af00\">0</span>][<span style=\"color: #00af00; text-decoration-color: #00af00\">0</span>]           │\n",
              "├───────────────────────────┼────────────────────────┼────────────────┼────────────────────────┤\n",
              "│ multi_head_attention_5    │ (<span style=\"color: #00d7ff; text-decoration-color: #00d7ff\">None</span>, <span style=\"color: #00af00; text-decoration-color: #00af00\">200</span>, <span style=\"color: #00af00; text-decoration-color: #00af00\">2</span>)         │          <span style=\"color: #00af00; text-decoration-color: #00af00\">1,410</span> │ add_11[<span style=\"color: #00af00; text-decoration-color: #00af00\">0</span>][<span style=\"color: #00af00; text-decoration-color: #00af00\">0</span>],          │\n",
              "│ (<span style=\"color: #0087ff; text-decoration-color: #0087ff\">MultiHeadAttention</span>)      │                        │                │ add_11[<span style=\"color: #00af00; text-decoration-color: #00af00\">0</span>][<span style=\"color: #00af00; text-decoration-color: #00af00\">0</span>]           │\n",
              "├───────────────────────────┼────────────────────────┼────────────────┼────────────────────────┤\n",
              "│ dropout_24 (<span style=\"color: #0087ff; text-decoration-color: #0087ff\">Dropout</span>)      │ (<span style=\"color: #00d7ff; text-decoration-color: #00d7ff\">None</span>, <span style=\"color: #00af00; text-decoration-color: #00af00\">200</span>, <span style=\"color: #00af00; text-decoration-color: #00af00\">2</span>)         │              <span style=\"color: #00af00; text-decoration-color: #00af00\">0</span> │ multi_head_attention_… │\n",
              "├───────────────────────────┼────────────────────────┼────────────────┼────────────────────────┤\n",
              "│ layer_normalization_16    │ (<span style=\"color: #00d7ff; text-decoration-color: #00d7ff\">None</span>, <span style=\"color: #00af00; text-decoration-color: #00af00\">200</span>, <span style=\"color: #00af00; text-decoration-color: #00af00\">2</span>)         │              <span style=\"color: #00af00; text-decoration-color: #00af00\">4</span> │ dropout_24[<span style=\"color: #00af00; text-decoration-color: #00af00\">0</span>][<span style=\"color: #00af00; text-decoration-color: #00af00\">0</span>]       │\n",
              "│ (<span style=\"color: #0087ff; text-decoration-color: #0087ff\">LayerNormalization</span>)      │                        │                │                        │\n",
              "├───────────────────────────┼────────────────────────┼────────────────┼────────────────────────┤\n",
              "│ add_12 (<span style=\"color: #0087ff; text-decoration-color: #0087ff\">Add</span>)              │ (<span style=\"color: #00d7ff; text-decoration-color: #00d7ff\">None</span>, <span style=\"color: #00af00; text-decoration-color: #00af00\">200</span>, <span style=\"color: #00af00; text-decoration-color: #00af00\">2</span>)         │              <span style=\"color: #00af00; text-decoration-color: #00af00\">0</span> │ layer_normalization_1… │\n",
              "│                           │                        │                │ add_11[<span style=\"color: #00af00; text-decoration-color: #00af00\">0</span>][<span style=\"color: #00af00; text-decoration-color: #00af00\">0</span>]           │\n",
              "├───────────────────────────┼────────────────────────┼────────────────┼────────────────────────┤\n",
              "│ conv1d_10 (<span style=\"color: #0087ff; text-decoration-color: #0087ff\">Conv1D</span>)        │ (<span style=\"color: #00d7ff; text-decoration-color: #00d7ff\">None</span>, <span style=\"color: #00af00; text-decoration-color: #00af00\">200</span>, <span style=\"color: #00af00; text-decoration-color: #00af00\">64</span>)        │            <span style=\"color: #00af00; text-decoration-color: #00af00\">192</span> │ add_12[<span style=\"color: #00af00; text-decoration-color: #00af00\">0</span>][<span style=\"color: #00af00; text-decoration-color: #00af00\">0</span>]           │\n",
              "├───────────────────────────┼────────────────────────┼────────────────┼────────────────────────┤\n",
              "│ dropout_25 (<span style=\"color: #0087ff; text-decoration-color: #0087ff\">Dropout</span>)      │ (<span style=\"color: #00d7ff; text-decoration-color: #00d7ff\">None</span>, <span style=\"color: #00af00; text-decoration-color: #00af00\">200</span>, <span style=\"color: #00af00; text-decoration-color: #00af00\">64</span>)        │              <span style=\"color: #00af00; text-decoration-color: #00af00\">0</span> │ conv1d_10[<span style=\"color: #00af00; text-decoration-color: #00af00\">0</span>][<span style=\"color: #00af00; text-decoration-color: #00af00\">0</span>]        │\n",
              "├───────────────────────────┼────────────────────────┼────────────────┼────────────────────────┤\n",
              "│ conv1d_11 (<span style=\"color: #0087ff; text-decoration-color: #0087ff\">Conv1D</span>)        │ (<span style=\"color: #00d7ff; text-decoration-color: #00d7ff\">None</span>, <span style=\"color: #00af00; text-decoration-color: #00af00\">200</span>, <span style=\"color: #00af00; text-decoration-color: #00af00\">2</span>)         │            <span style=\"color: #00af00; text-decoration-color: #00af00\">130</span> │ dropout_25[<span style=\"color: #00af00; text-decoration-color: #00af00\">0</span>][<span style=\"color: #00af00; text-decoration-color: #00af00\">0</span>]       │\n",
              "├───────────────────────────┼────────────────────────┼────────────────┼────────────────────────┤\n",
              "│ layer_normalization_17    │ (<span style=\"color: #00d7ff; text-decoration-color: #00d7ff\">None</span>, <span style=\"color: #00af00; text-decoration-color: #00af00\">200</span>, <span style=\"color: #00af00; text-decoration-color: #00af00\">2</span>)         │              <span style=\"color: #00af00; text-decoration-color: #00af00\">4</span> │ conv1d_11[<span style=\"color: #00af00; text-decoration-color: #00af00\">0</span>][<span style=\"color: #00af00; text-decoration-color: #00af00\">0</span>]        │\n",
              "│ (<span style=\"color: #0087ff; text-decoration-color: #0087ff\">LayerNormalization</span>)      │                        │                │                        │\n",
              "├───────────────────────────┼────────────────────────┼────────────────┼────────────────────────┤\n",
              "│ add_13 (<span style=\"color: #0087ff; text-decoration-color: #0087ff\">Add</span>)              │ (<span style=\"color: #00d7ff; text-decoration-color: #00d7ff\">None</span>, <span style=\"color: #00af00; text-decoration-color: #00af00\">200</span>, <span style=\"color: #00af00; text-decoration-color: #00af00\">2</span>)         │              <span style=\"color: #00af00; text-decoration-color: #00af00\">0</span> │ layer_normalization_1… │\n",
              "│                           │                        │                │ add_12[<span style=\"color: #00af00; text-decoration-color: #00af00\">0</span>][<span style=\"color: #00af00; text-decoration-color: #00af00\">0</span>]           │\n",
              "├───────────────────────────┼────────────────────────┼────────────────┼────────────────────────┤\n",
              "│ flatten_2 (<span style=\"color: #0087ff; text-decoration-color: #0087ff\">Flatten</span>)       │ (<span style=\"color: #00d7ff; text-decoration-color: #00d7ff\">None</span>, <span style=\"color: #00af00; text-decoration-color: #00af00\">400</span>)            │              <span style=\"color: #00af00; text-decoration-color: #00af00\">0</span> │ add_13[<span style=\"color: #00af00; text-decoration-color: #00af00\">0</span>][<span style=\"color: #00af00; text-decoration-color: #00af00\">0</span>]           │\n",
              "├───────────────────────────┼────────────────────────┼────────────────┼────────────────────────┤\n",
              "│ dense_10 (<span style=\"color: #0087ff; text-decoration-color: #0087ff\">Dense</span>)          │ (<span style=\"color: #00d7ff; text-decoration-color: #00d7ff\">None</span>, <span style=\"color: #00af00; text-decoration-color: #00af00\">256</span>)            │        <span style=\"color: #00af00; text-decoration-color: #00af00\">102,656</span> │ flatten_2[<span style=\"color: #00af00; text-decoration-color: #00af00\">0</span>][<span style=\"color: #00af00; text-decoration-color: #00af00\">0</span>]        │\n",
              "├───────────────────────────┼────────────────────────┼────────────────┼────────────────────────┤\n",
              "│ dropout_26 (<span style=\"color: #0087ff; text-decoration-color: #0087ff\">Dropout</span>)      │ (<span style=\"color: #00d7ff; text-decoration-color: #00d7ff\">None</span>, <span style=\"color: #00af00; text-decoration-color: #00af00\">256</span>)            │              <span style=\"color: #00af00; text-decoration-color: #00af00\">0</span> │ dense_10[<span style=\"color: #00af00; text-decoration-color: #00af00\">0</span>][<span style=\"color: #00af00; text-decoration-color: #00af00\">0</span>]         │\n",
              "├───────────────────────────┼────────────────────────┼────────────────┼────────────────────────┤\n",
              "│ layer_normalization_18    │ (<span style=\"color: #00d7ff; text-decoration-color: #00d7ff\">None</span>, <span style=\"color: #00af00; text-decoration-color: #00af00\">256</span>)            │            <span style=\"color: #00af00; text-decoration-color: #00af00\">512</span> │ dropout_26[<span style=\"color: #00af00; text-decoration-color: #00af00\">0</span>][<span style=\"color: #00af00; text-decoration-color: #00af00\">0</span>]       │\n",
              "│ (<span style=\"color: #0087ff; text-decoration-color: #0087ff\">LayerNormalization</span>)      │                        │                │                        │\n",
              "├───────────────────────────┼────────────────────────┼────────────────┼────────────────────────┤\n",
              "│ dense_11 (<span style=\"color: #0087ff; text-decoration-color: #0087ff\">Dense</span>)          │ (<span style=\"color: #00d7ff; text-decoration-color: #00d7ff\">None</span>, <span style=\"color: #00af00; text-decoration-color: #00af00\">128</span>)            │         <span style=\"color: #00af00; text-decoration-color: #00af00\">32,896</span> │ layer_normalization_1… │\n",
              "├───────────────────────────┼────────────────────────┼────────────────┼────────────────────────┤\n",
              "│ dropout_27 (<span style=\"color: #0087ff; text-decoration-color: #0087ff\">Dropout</span>)      │ (<span style=\"color: #00d7ff; text-decoration-color: #00d7ff\">None</span>, <span style=\"color: #00af00; text-decoration-color: #00af00\">128</span>)            │              <span style=\"color: #00af00; text-decoration-color: #00af00\">0</span> │ dense_11[<span style=\"color: #00af00; text-decoration-color: #00af00\">0</span>][<span style=\"color: #00af00; text-decoration-color: #00af00\">0</span>]         │\n",
              "├───────────────────────────┼────────────────────────┼────────────────┼────────────────────────┤\n",
              "│ layer_normalization_19    │ (<span style=\"color: #00d7ff; text-decoration-color: #00d7ff\">None</span>, <span style=\"color: #00af00; text-decoration-color: #00af00\">128</span>)            │            <span style=\"color: #00af00; text-decoration-color: #00af00\">256</span> │ dropout_27[<span style=\"color: #00af00; text-decoration-color: #00af00\">0</span>][<span style=\"color: #00af00; text-decoration-color: #00af00\">0</span>]       │\n",
              "│ (<span style=\"color: #0087ff; text-decoration-color: #0087ff\">LayerNormalization</span>)      │                        │                │                        │\n",
              "├───────────────────────────┼────────────────────────┼────────────────┼────────────────────────┤\n",
              "│ dense_12 (<span style=\"color: #0087ff; text-decoration-color: #0087ff\">Dense</span>)          │ (<span style=\"color: #00d7ff; text-decoration-color: #00d7ff\">None</span>, <span style=\"color: #00af00; text-decoration-color: #00af00\">64</span>)             │          <span style=\"color: #00af00; text-decoration-color: #00af00\">8,256</span> │ layer_normalization_1… │\n",
              "├───────────────────────────┼────────────────────────┼────────────────┼────────────────────────┤\n",
              "│ dropout_28 (<span style=\"color: #0087ff; text-decoration-color: #0087ff\">Dropout</span>)      │ (<span style=\"color: #00d7ff; text-decoration-color: #00d7ff\">None</span>, <span style=\"color: #00af00; text-decoration-color: #00af00\">64</span>)             │              <span style=\"color: #00af00; text-decoration-color: #00af00\">0</span> │ dense_12[<span style=\"color: #00af00; text-decoration-color: #00af00\">0</span>][<span style=\"color: #00af00; text-decoration-color: #00af00\">0</span>]         │\n",
              "├───────────────────────────┼────────────────────────┼────────────────┼────────────────────────┤\n",
              "│ layer_normalization_20    │ (<span style=\"color: #00d7ff; text-decoration-color: #00d7ff\">None</span>, <span style=\"color: #00af00; text-decoration-color: #00af00\">64</span>)             │            <span style=\"color: #00af00; text-decoration-color: #00af00\">128</span> │ dropout_28[<span style=\"color: #00af00; text-decoration-color: #00af00\">0</span>][<span style=\"color: #00af00; text-decoration-color: #00af00\">0</span>]       │\n",
              "│ (<span style=\"color: #0087ff; text-decoration-color: #0087ff\">LayerNormalization</span>)      │                        │                │                        │\n",
              "├───────────────────────────┼────────────────────────┼────────────────┼────────────────────────┤\n",
              "│ dense_13 (<span style=\"color: #0087ff; text-decoration-color: #0087ff\">Dense</span>)          │ (<span style=\"color: #00d7ff; text-decoration-color: #00d7ff\">None</span>, <span style=\"color: #00af00; text-decoration-color: #00af00\">1</span>)              │             <span style=\"color: #00af00; text-decoration-color: #00af00\">65</span> │ layer_normalization_2… │\n",
              "└───────────────────────────┴────────────────────────┴────────────────┴────────────────────────┘\n",
              "</pre>\n"
            ],
            "text/plain": [
              "┏━━━━━━━━━━━━━━━━━━━━━━━━━━━┳━━━━━━━━━━━━━━━━━━━━━━━━┳━━━━━━━━━━━━━━━━┳━━━━━━━━━━━━━━━━━━━━━━━━┓\n",
              "┃\u001b[1m \u001b[0m\u001b[1mLayer (type)             \u001b[0m\u001b[1m \u001b[0m┃\u001b[1m \u001b[0m\u001b[1mOutput Shape          \u001b[0m\u001b[1m \u001b[0m┃\u001b[1m \u001b[0m\u001b[1m       Param #\u001b[0m\u001b[1m \u001b[0m┃\u001b[1m \u001b[0m\u001b[1mConnected to          \u001b[0m\u001b[1m \u001b[0m┃\n",
              "┡━━━━━━━━━━━━━━━━━━━━━━━━━━━╇━━━━━━━━━━━━━━━━━━━━━━━━╇━━━━━━━━━━━━━━━━╇━━━━━━━━━━━━━━━━━━━━━━━━┩\n",
              "│ input_layer_2             │ (\u001b[38;5;45mNone\u001b[0m, \u001b[38;5;34m200\u001b[0m, \u001b[38;5;34m2\u001b[0m)         │              \u001b[38;5;34m0\u001b[0m │ -                      │\n",
              "│ (\u001b[38;5;33mInputLayer\u001b[0m)              │                        │                │                        │\n",
              "├───────────────────────────┼────────────────────────┼────────────────┼────────────────────────┤\n",
              "│ multi_head_attention_4    │ (\u001b[38;5;45mNone\u001b[0m, \u001b[38;5;34m200\u001b[0m, \u001b[38;5;34m2\u001b[0m)         │          \u001b[38;5;34m1,410\u001b[0m │ input_layer_2[\u001b[38;5;34m0\u001b[0m][\u001b[38;5;34m0\u001b[0m],   │\n",
              "│ (\u001b[38;5;33mMultiHeadAttention\u001b[0m)      │                        │                │ input_layer_2[\u001b[38;5;34m0\u001b[0m][\u001b[38;5;34m0\u001b[0m]    │\n",
              "├───────────────────────────┼────────────────────────┼────────────────┼────────────────────────┤\n",
              "│ dropout_21 (\u001b[38;5;33mDropout\u001b[0m)      │ (\u001b[38;5;45mNone\u001b[0m, \u001b[38;5;34m200\u001b[0m, \u001b[38;5;34m2\u001b[0m)         │              \u001b[38;5;34m0\u001b[0m │ multi_head_attention_… │\n",
              "├───────────────────────────┼────────────────────────┼────────────────┼────────────────────────┤\n",
              "│ layer_normalization_14    │ (\u001b[38;5;45mNone\u001b[0m, \u001b[38;5;34m200\u001b[0m, \u001b[38;5;34m2\u001b[0m)         │              \u001b[38;5;34m4\u001b[0m │ dropout_21[\u001b[38;5;34m0\u001b[0m][\u001b[38;5;34m0\u001b[0m]       │\n",
              "│ (\u001b[38;5;33mLayerNormalization\u001b[0m)      │                        │                │                        │\n",
              "├───────────────────────────┼────────────────────────┼────────────────┼────────────────────────┤\n",
              "│ add_10 (\u001b[38;5;33mAdd\u001b[0m)              │ (\u001b[38;5;45mNone\u001b[0m, \u001b[38;5;34m200\u001b[0m, \u001b[38;5;34m2\u001b[0m)         │              \u001b[38;5;34m0\u001b[0m │ layer_normalization_1… │\n",
              "│                           │                        │                │ input_layer_2[\u001b[38;5;34m0\u001b[0m][\u001b[38;5;34m0\u001b[0m]    │\n",
              "├───────────────────────────┼────────────────────────┼────────────────┼────────────────────────┤\n",
              "│ conv1d_8 (\u001b[38;5;33mConv1D\u001b[0m)         │ (\u001b[38;5;45mNone\u001b[0m, \u001b[38;5;34m200\u001b[0m, \u001b[38;5;34m64\u001b[0m)        │            \u001b[38;5;34m192\u001b[0m │ add_10[\u001b[38;5;34m0\u001b[0m][\u001b[38;5;34m0\u001b[0m]           │\n",
              "├───────────────────────────┼────────────────────────┼────────────────┼────────────────────────┤\n",
              "│ dropout_22 (\u001b[38;5;33mDropout\u001b[0m)      │ (\u001b[38;5;45mNone\u001b[0m, \u001b[38;5;34m200\u001b[0m, \u001b[38;5;34m64\u001b[0m)        │              \u001b[38;5;34m0\u001b[0m │ conv1d_8[\u001b[38;5;34m0\u001b[0m][\u001b[38;5;34m0\u001b[0m]         │\n",
              "├───────────────────────────┼────────────────────────┼────────────────┼────────────────────────┤\n",
              "│ conv1d_9 (\u001b[38;5;33mConv1D\u001b[0m)         │ (\u001b[38;5;45mNone\u001b[0m, \u001b[38;5;34m200\u001b[0m, \u001b[38;5;34m2\u001b[0m)         │            \u001b[38;5;34m130\u001b[0m │ dropout_22[\u001b[38;5;34m0\u001b[0m][\u001b[38;5;34m0\u001b[0m]       │\n",
              "├───────────────────────────┼────────────────────────┼────────────────┼────────────────────────┤\n",
              "│ layer_normalization_15    │ (\u001b[38;5;45mNone\u001b[0m, \u001b[38;5;34m200\u001b[0m, \u001b[38;5;34m2\u001b[0m)         │              \u001b[38;5;34m4\u001b[0m │ conv1d_9[\u001b[38;5;34m0\u001b[0m][\u001b[38;5;34m0\u001b[0m]         │\n",
              "│ (\u001b[38;5;33mLayerNormalization\u001b[0m)      │                        │                │                        │\n",
              "├───────────────────────────┼────────────────────────┼────────────────┼────────────────────────┤\n",
              "│ add_11 (\u001b[38;5;33mAdd\u001b[0m)              │ (\u001b[38;5;45mNone\u001b[0m, \u001b[38;5;34m200\u001b[0m, \u001b[38;5;34m2\u001b[0m)         │              \u001b[38;5;34m0\u001b[0m │ layer_normalization_1… │\n",
              "│                           │                        │                │ add_10[\u001b[38;5;34m0\u001b[0m][\u001b[38;5;34m0\u001b[0m]           │\n",
              "├───────────────────────────┼────────────────────────┼────────────────┼────────────────────────┤\n",
              "│ multi_head_attention_5    │ (\u001b[38;5;45mNone\u001b[0m, \u001b[38;5;34m200\u001b[0m, \u001b[38;5;34m2\u001b[0m)         │          \u001b[38;5;34m1,410\u001b[0m │ add_11[\u001b[38;5;34m0\u001b[0m][\u001b[38;5;34m0\u001b[0m],          │\n",
              "│ (\u001b[38;5;33mMultiHeadAttention\u001b[0m)      │                        │                │ add_11[\u001b[38;5;34m0\u001b[0m][\u001b[38;5;34m0\u001b[0m]           │\n",
              "├───────────────────────────┼────────────────────────┼────────────────┼────────────────────────┤\n",
              "│ dropout_24 (\u001b[38;5;33mDropout\u001b[0m)      │ (\u001b[38;5;45mNone\u001b[0m, \u001b[38;5;34m200\u001b[0m, \u001b[38;5;34m2\u001b[0m)         │              \u001b[38;5;34m0\u001b[0m │ multi_head_attention_… │\n",
              "├───────────────────────────┼────────────────────────┼────────────────┼────────────────────────┤\n",
              "│ layer_normalization_16    │ (\u001b[38;5;45mNone\u001b[0m, \u001b[38;5;34m200\u001b[0m, \u001b[38;5;34m2\u001b[0m)         │              \u001b[38;5;34m4\u001b[0m │ dropout_24[\u001b[38;5;34m0\u001b[0m][\u001b[38;5;34m0\u001b[0m]       │\n",
              "│ (\u001b[38;5;33mLayerNormalization\u001b[0m)      │                        │                │                        │\n",
              "├───────────────────────────┼────────────────────────┼────────────────┼────────────────────────┤\n",
              "│ add_12 (\u001b[38;5;33mAdd\u001b[0m)              │ (\u001b[38;5;45mNone\u001b[0m, \u001b[38;5;34m200\u001b[0m, \u001b[38;5;34m2\u001b[0m)         │              \u001b[38;5;34m0\u001b[0m │ layer_normalization_1… │\n",
              "│                           │                        │                │ add_11[\u001b[38;5;34m0\u001b[0m][\u001b[38;5;34m0\u001b[0m]           │\n",
              "├───────────────────────────┼────────────────────────┼────────────────┼────────────────────────┤\n",
              "│ conv1d_10 (\u001b[38;5;33mConv1D\u001b[0m)        │ (\u001b[38;5;45mNone\u001b[0m, \u001b[38;5;34m200\u001b[0m, \u001b[38;5;34m64\u001b[0m)        │            \u001b[38;5;34m192\u001b[0m │ add_12[\u001b[38;5;34m0\u001b[0m][\u001b[38;5;34m0\u001b[0m]           │\n",
              "├───────────────────────────┼────────────────────────┼────────────────┼────────────────────────┤\n",
              "│ dropout_25 (\u001b[38;5;33mDropout\u001b[0m)      │ (\u001b[38;5;45mNone\u001b[0m, \u001b[38;5;34m200\u001b[0m, \u001b[38;5;34m64\u001b[0m)        │              \u001b[38;5;34m0\u001b[0m │ conv1d_10[\u001b[38;5;34m0\u001b[0m][\u001b[38;5;34m0\u001b[0m]        │\n",
              "├───────────────────────────┼────────────────────────┼────────────────┼────────────────────────┤\n",
              "│ conv1d_11 (\u001b[38;5;33mConv1D\u001b[0m)        │ (\u001b[38;5;45mNone\u001b[0m, \u001b[38;5;34m200\u001b[0m, \u001b[38;5;34m2\u001b[0m)         │            \u001b[38;5;34m130\u001b[0m │ dropout_25[\u001b[38;5;34m0\u001b[0m][\u001b[38;5;34m0\u001b[0m]       │\n",
              "├───────────────────────────┼────────────────────────┼────────────────┼────────────────────────┤\n",
              "│ layer_normalization_17    │ (\u001b[38;5;45mNone\u001b[0m, \u001b[38;5;34m200\u001b[0m, \u001b[38;5;34m2\u001b[0m)         │              \u001b[38;5;34m4\u001b[0m │ conv1d_11[\u001b[38;5;34m0\u001b[0m][\u001b[38;5;34m0\u001b[0m]        │\n",
              "│ (\u001b[38;5;33mLayerNormalization\u001b[0m)      │                        │                │                        │\n",
              "├───────────────────────────┼────────────────────────┼────────────────┼────────────────────────┤\n",
              "│ add_13 (\u001b[38;5;33mAdd\u001b[0m)              │ (\u001b[38;5;45mNone\u001b[0m, \u001b[38;5;34m200\u001b[0m, \u001b[38;5;34m2\u001b[0m)         │              \u001b[38;5;34m0\u001b[0m │ layer_normalization_1… │\n",
              "│                           │                        │                │ add_12[\u001b[38;5;34m0\u001b[0m][\u001b[38;5;34m0\u001b[0m]           │\n",
              "├───────────────────────────┼────────────────────────┼────────────────┼────────────────────────┤\n",
              "│ flatten_2 (\u001b[38;5;33mFlatten\u001b[0m)       │ (\u001b[38;5;45mNone\u001b[0m, \u001b[38;5;34m400\u001b[0m)            │              \u001b[38;5;34m0\u001b[0m │ add_13[\u001b[38;5;34m0\u001b[0m][\u001b[38;5;34m0\u001b[0m]           │\n",
              "├───────────────────────────┼────────────────────────┼────────────────┼────────────────────────┤\n",
              "│ dense_10 (\u001b[38;5;33mDense\u001b[0m)          │ (\u001b[38;5;45mNone\u001b[0m, \u001b[38;5;34m256\u001b[0m)            │        \u001b[38;5;34m102,656\u001b[0m │ flatten_2[\u001b[38;5;34m0\u001b[0m][\u001b[38;5;34m0\u001b[0m]        │\n",
              "├───────────────────────────┼────────────────────────┼────────────────┼────────────────────────┤\n",
              "│ dropout_26 (\u001b[38;5;33mDropout\u001b[0m)      │ (\u001b[38;5;45mNone\u001b[0m, \u001b[38;5;34m256\u001b[0m)            │              \u001b[38;5;34m0\u001b[0m │ dense_10[\u001b[38;5;34m0\u001b[0m][\u001b[38;5;34m0\u001b[0m]         │\n",
              "├───────────────────────────┼────────────────────────┼────────────────┼────────────────────────┤\n",
              "│ layer_normalization_18    │ (\u001b[38;5;45mNone\u001b[0m, \u001b[38;5;34m256\u001b[0m)            │            \u001b[38;5;34m512\u001b[0m │ dropout_26[\u001b[38;5;34m0\u001b[0m][\u001b[38;5;34m0\u001b[0m]       │\n",
              "│ (\u001b[38;5;33mLayerNormalization\u001b[0m)      │                        │                │                        │\n",
              "├───────────────────────────┼────────────────────────┼────────────────┼────────────────────────┤\n",
              "│ dense_11 (\u001b[38;5;33mDense\u001b[0m)          │ (\u001b[38;5;45mNone\u001b[0m, \u001b[38;5;34m128\u001b[0m)            │         \u001b[38;5;34m32,896\u001b[0m │ layer_normalization_1… │\n",
              "├───────────────────────────┼────────────────────────┼────────────────┼────────────────────────┤\n",
              "│ dropout_27 (\u001b[38;5;33mDropout\u001b[0m)      │ (\u001b[38;5;45mNone\u001b[0m, \u001b[38;5;34m128\u001b[0m)            │              \u001b[38;5;34m0\u001b[0m │ dense_11[\u001b[38;5;34m0\u001b[0m][\u001b[38;5;34m0\u001b[0m]         │\n",
              "├───────────────────────────┼────────────────────────┼────────────────┼────────────────────────┤\n",
              "│ layer_normalization_19    │ (\u001b[38;5;45mNone\u001b[0m, \u001b[38;5;34m128\u001b[0m)            │            \u001b[38;5;34m256\u001b[0m │ dropout_27[\u001b[38;5;34m0\u001b[0m][\u001b[38;5;34m0\u001b[0m]       │\n",
              "│ (\u001b[38;5;33mLayerNormalization\u001b[0m)      │                        │                │                        │\n",
              "├───────────────────────────┼────────────────────────┼────────────────┼────────────────────────┤\n",
              "│ dense_12 (\u001b[38;5;33mDense\u001b[0m)          │ (\u001b[38;5;45mNone\u001b[0m, \u001b[38;5;34m64\u001b[0m)             │          \u001b[38;5;34m8,256\u001b[0m │ layer_normalization_1… │\n",
              "├───────────────────────────┼────────────────────────┼────────────────┼────────────────────────┤\n",
              "│ dropout_28 (\u001b[38;5;33mDropout\u001b[0m)      │ (\u001b[38;5;45mNone\u001b[0m, \u001b[38;5;34m64\u001b[0m)             │              \u001b[38;5;34m0\u001b[0m │ dense_12[\u001b[38;5;34m0\u001b[0m][\u001b[38;5;34m0\u001b[0m]         │\n",
              "├───────────────────────────┼────────────────────────┼────────────────┼────────────────────────┤\n",
              "│ layer_normalization_20    │ (\u001b[38;5;45mNone\u001b[0m, \u001b[38;5;34m64\u001b[0m)             │            \u001b[38;5;34m128\u001b[0m │ dropout_28[\u001b[38;5;34m0\u001b[0m][\u001b[38;5;34m0\u001b[0m]       │\n",
              "│ (\u001b[38;5;33mLayerNormalization\u001b[0m)      │                        │                │                        │\n",
              "├───────────────────────────┼────────────────────────┼────────────────┼────────────────────────┤\n",
              "│ dense_13 (\u001b[38;5;33mDense\u001b[0m)          │ (\u001b[38;5;45mNone\u001b[0m, \u001b[38;5;34m1\u001b[0m)              │             \u001b[38;5;34m65\u001b[0m │ layer_normalization_2… │\n",
              "└───────────────────────────┴────────────────────────┴────────────────┴────────────────────────┘\n"
            ]
          },
          "metadata": {},
          "output_type": "display_data"
        },
        {
          "data": {
            "text/html": [
              "<pre style=\"white-space:pre;overflow-x:auto;line-height:normal;font-family:Menlo,'DejaVu Sans Mono',consolas,'Courier New',monospace\"><span style=\"font-weight: bold\"> Total params: </span><span style=\"color: #00af00; text-decoration-color: #00af00\">444,749</span> (1.70 MB)\n",
              "</pre>\n"
            ],
            "text/plain": [
              "\u001b[1m Total params: \u001b[0m\u001b[38;5;34m444,749\u001b[0m (1.70 MB)\n"
            ]
          },
          "metadata": {},
          "output_type": "display_data"
        },
        {
          "data": {
            "text/html": [
              "<pre style=\"white-space:pre;overflow-x:auto;line-height:normal;font-family:Menlo,'DejaVu Sans Mono',consolas,'Courier New',monospace\"><span style=\"font-weight: bold\"> Trainable params: </span><span style=\"color: #00af00; text-decoration-color: #00af00\">148,249</span> (579.10 KB)\n",
              "</pre>\n"
            ],
            "text/plain": [
              "\u001b[1m Trainable params: \u001b[0m\u001b[38;5;34m148,249\u001b[0m (579.10 KB)\n"
            ]
          },
          "metadata": {},
          "output_type": "display_data"
        },
        {
          "data": {
            "text/html": [
              "<pre style=\"white-space:pre;overflow-x:auto;line-height:normal;font-family:Menlo,'DejaVu Sans Mono',consolas,'Courier New',monospace\"><span style=\"font-weight: bold\"> Non-trainable params: </span><span style=\"color: #00af00; text-decoration-color: #00af00\">0</span> (0.00 B)\n",
              "</pre>\n"
            ],
            "text/plain": [
              "\u001b[1m Non-trainable params: \u001b[0m\u001b[38;5;34m0\u001b[0m (0.00 B)\n"
            ]
          },
          "metadata": {},
          "output_type": "display_data"
        },
        {
          "data": {
            "text/html": [
              "<pre style=\"white-space:pre;overflow-x:auto;line-height:normal;font-family:Menlo,'DejaVu Sans Mono',consolas,'Courier New',monospace\"><span style=\"font-weight: bold\"> Optimizer params: </span><span style=\"color: #00af00; text-decoration-color: #00af00\">296,500</span> (1.13 MB)\n",
              "</pre>\n"
            ],
            "text/plain": [
              "\u001b[1m Optimizer params: \u001b[0m\u001b[38;5;34m296,500\u001b[0m (1.13 MB)\n"
            ]
          },
          "metadata": {},
          "output_type": "display_data"
        },
        {
          "name": "stdout",
          "output_type": "stream",
          "text": [
            "\u001b[1m1875/1875\u001b[0m \u001b[32m━━━━━━━━━━━━━━━━━━━━\u001b[0m\u001b[37m\u001b[0m \u001b[1m149s\u001b[0m 78ms/step - accuracy: 0.9568 - f1_score: 0.5009 - fn: 719.2601 - fp: 556.4051 - loss: 0.1422 - tn: 19450.2715 - tp: 9306.0449\n"
          ]
        },
        {
          "data": {
            "text/plain": [
              "{'accuracy': 0.958050012588501,\n",
              " 'f1_score': 0.5010866522789001,\n",
              " 'fn': 1422.0,\n",
              " 'fp': 1095.0,\n",
              " 'loss': 0.13774757087230682,\n",
              " 'tn': 38847.0,\n",
              " 'tp': 18636.0}"
            ]
          },
          "execution_count": 10,
          "metadata": {},
          "output_type": "execute_result"
        }
      ],
      "source": [
        "__file__='/content/drive/MyDrive/Colab Notebooks/'\n",
        "model_test = Model()\n",
        "model_test.load()\n",
        "\n",
        "model_test.model.summary()\n",
        "model_test.model.evaluate(x_test, y_test, return_dict=True)"
      ]
    },
    {
      "cell_type": "code",
      "execution_count": null,
      "metadata": {
        "colab": {
          "base_uri": "https://localhost:8080/"
        },
        "id": "EX3EGUIycEDw",
        "outputId": "b2a09d5b-ba7f-42bc-9a77-4d49cf3b920b"
      },
      "outputs": [
        {
          "name": "stdout",
          "output_type": "stream",
          "text": [
            "\u001b[1m3125/3125\u001b[0m \u001b[32m━━━━━━━━━━━━━━━━━━━━\u001b[0m\u001b[37m\u001b[0m \u001b[1m245s\u001b[0m 78ms/step - accuracy: 0.9901 - f1_score: 0.0000e+00 - fn: 0.0000e+00 - fp: 497.9607 - loss: 0.0348 - tn: 49534.0273 - tp: 0.0000e+00\n"
          ]
        },
        {
          "data": {
            "text/plain": [
              "{'accuracy': 0.990119993686676,\n",
              " 'f1_score': 0.0,\n",
              " 'fn': 0.0,\n",
              " 'fp': 988.0,\n",
              " 'loss': 0.0351204015314579,\n",
              " 'tn': 99012.0,\n",
              " 'tp': 0.0}"
            ]
          },
          "execution_count": 12,
          "metadata": {},
          "output_type": "execute_result"
        }
      ],
      "source": [
        "model_test.model.evaluate(background, np.zeros((len(background), 1)), return_dict=True)"
      ]
    },
    {
      "cell_type": "code",
      "execution_count": null,
      "metadata": {
        "colab": {
          "base_uri": "https://localhost:8080/"
        },
        "id": "GYpw338bcQ6i",
        "outputId": "05195434-fe70-446c-9619-96a7cc630172"
      },
      "outputs": [
        {
          "name": "stdout",
          "output_type": "stream",
          "text": [
            "\u001b[1m3125/3125\u001b[0m \u001b[32m━━━━━━━━━━━━━━━━━━━━\u001b[0m\u001b[37m\u001b[0m \u001b[1m244s\u001b[0m 78ms/step - accuracy: 0.9964 - f1_score: 0.0000e+00 - fn: 0.0000e+00 - fp: 172.8999 - loss: 0.0112 - tn: 49859.0898 - tp: 0.0000e+00\n"
          ]
        },
        {
          "data": {
            "text/plain": [
              "{'accuracy': 0.9965199828147888,\n",
              " 'f1_score': 0.0,\n",
              " 'fn': 0.0,\n",
              " 'fp': 348.0,\n",
              " 'loss': 0.011113300919532776,\n",
              " 'tn': 99652.0,\n",
              " 'tp': 0.0}"
            ]
          },
          "execution_count": 13,
          "metadata": {},
          "output_type": "execute_result"
        }
      ],
      "source": [
        "model_test.model.evaluate(bbh, np.zeros((len(bbh), 1)), return_dict=True)"
      ]
    },
    {
      "cell_type": "code",
      "execution_count": null,
      "metadata": {
        "colab": {
          "base_uri": "https://localhost:8080/"
        },
        "id": "HUMJBZVVcTCX",
        "outputId": "fea5bff4-eafd-45e6-f419-0c93e8c3e2b5"
      },
      "outputs": [
        {
          "name": "stdout",
          "output_type": "stream",
          "text": [
            "\u001b[1m3125/3125\u001b[0m \u001b[32m━━━━━━━━━━━━━━━━━━━━\u001b[0m\u001b[37m\u001b[0m \u001b[1m246s\u001b[0m 79ms/step - accuracy: 0.9776 - f1_score: 1.0000 - fn: 1116.0717 - fp: 0.0000e+00 - loss: 0.0769 - tn: 0.0000e+00 - tp: 48915.9180\n"
          ]
        },
        {
          "data": {
            "text/plain": [
              "{'accuracy': 0.9784500002861023,\n",
              " 'f1_score': 1.0,\n",
              " 'fn': 2155.0,\n",
              " 'fp': 0.0,\n",
              " 'loss': 0.07418987154960632,\n",
              " 'tn': 0.0,\n",
              " 'tp': 97845.0}"
            ]
          },
          "execution_count": 14,
          "metadata": {},
          "output_type": "execute_result"
        }
      ],
      "source": [
        "model_test.model.evaluate(sglf, np.ones((len(sglf), 1)), return_dict=True)"
      ]
    },
    {
      "cell_type": "code",
      "execution_count": null,
      "metadata": {
        "colab": {
          "base_uri": "https://localhost:8080/",
          "height": 1000
        },
        "id": "ItGKN8Dhl70X",
        "outputId": "8384b048-86ed-4cac-852f-475815ffa7c7"
      },
      "outputs": [
        {
          "name": "stderr",
          "output_type": "stream",
          "text": [
            "/usr/local/lib/python3.11/dist-packages/keras/src/saving/saving_lib.py:757: UserWarning: Skipping variable loading for optimizer 'adam', because it has 94 variables whereas the saved optimizer has 62 variables. \n",
            "  saveable.load_own_variables(weights_store.get(inner_path))\n"
          ]
        },
        {
          "data": {
            "text/html": [
              "<pre style=\"white-space:pre;overflow-x:auto;line-height:normal;font-family:Menlo,'DejaVu Sans Mono',consolas,'Courier New',monospace\"><span style=\"font-weight: bold\">Model: \"functional_5\"</span>\n",
              "</pre>\n"
            ],
            "text/plain": [
              "\u001b[1mModel: \"functional_5\"\u001b[0m\n"
            ]
          },
          "metadata": {},
          "output_type": "display_data"
        },
        {
          "data": {
            "text/html": [
              "<pre style=\"white-space:pre;overflow-x:auto;line-height:normal;font-family:Menlo,'DejaVu Sans Mono',consolas,'Courier New',monospace\">┏━━━━━━━━━━━━━━━━━━━━━━━━━━━┳━━━━━━━━━━━━━━━━━━━━━━━━┳━━━━━━━━━━━━━━━━┳━━━━━━━━━━━━━━━━━━━━━━━━┓\n",
              "┃<span style=\"font-weight: bold\"> Layer (type)              </span>┃<span style=\"font-weight: bold\"> Output Shape           </span>┃<span style=\"font-weight: bold\">        Param # </span>┃<span style=\"font-weight: bold\"> Connected to           </span>┃\n",
              "┡━━━━━━━━━━━━━━━━━━━━━━━━━━━╇━━━━━━━━━━━━━━━━━━━━━━━━╇━━━━━━━━━━━━━━━━╇━━━━━━━━━━━━━━━━━━━━━━━━┩\n",
              "│ input_layer_2             │ (<span style=\"color: #00d7ff; text-decoration-color: #00d7ff\">None</span>, <span style=\"color: #00af00; text-decoration-color: #00af00\">200</span>, <span style=\"color: #00af00; text-decoration-color: #00af00\">2</span>)         │              <span style=\"color: #00af00; text-decoration-color: #00af00\">0</span> │ -                      │\n",
              "│ (<span style=\"color: #0087ff; text-decoration-color: #0087ff\">InputLayer</span>)              │                        │                │                        │\n",
              "├───────────────────────────┼────────────────────────┼────────────────┼────────────────────────┤\n",
              "│ multi_head_attention_4    │ (<span style=\"color: #00d7ff; text-decoration-color: #00d7ff\">None</span>, <span style=\"color: #00af00; text-decoration-color: #00af00\">200</span>, <span style=\"color: #00af00; text-decoration-color: #00af00\">2</span>)         │          <span style=\"color: #00af00; text-decoration-color: #00af00\">1,410</span> │ input_layer_2[<span style=\"color: #00af00; text-decoration-color: #00af00\">0</span>][<span style=\"color: #00af00; text-decoration-color: #00af00\">0</span>],   │\n",
              "│ (<span style=\"color: #0087ff; text-decoration-color: #0087ff\">MultiHeadAttention</span>)      │                        │                │ input_layer_2[<span style=\"color: #00af00; text-decoration-color: #00af00\">0</span>][<span style=\"color: #00af00; text-decoration-color: #00af00\">0</span>]    │\n",
              "├───────────────────────────┼────────────────────────┼────────────────┼────────────────────────┤\n",
              "│ dropout_21 (<span style=\"color: #0087ff; text-decoration-color: #0087ff\">Dropout</span>)      │ (<span style=\"color: #00d7ff; text-decoration-color: #00d7ff\">None</span>, <span style=\"color: #00af00; text-decoration-color: #00af00\">200</span>, <span style=\"color: #00af00; text-decoration-color: #00af00\">2</span>)         │              <span style=\"color: #00af00; text-decoration-color: #00af00\">0</span> │ multi_head_attention_… │\n",
              "├───────────────────────────┼────────────────────────┼────────────────┼────────────────────────┤\n",
              "│ layer_normalization_14    │ (<span style=\"color: #00d7ff; text-decoration-color: #00d7ff\">None</span>, <span style=\"color: #00af00; text-decoration-color: #00af00\">200</span>, <span style=\"color: #00af00; text-decoration-color: #00af00\">2</span>)         │              <span style=\"color: #00af00; text-decoration-color: #00af00\">4</span> │ dropout_21[<span style=\"color: #00af00; text-decoration-color: #00af00\">0</span>][<span style=\"color: #00af00; text-decoration-color: #00af00\">0</span>]       │\n",
              "│ (<span style=\"color: #0087ff; text-decoration-color: #0087ff\">LayerNormalization</span>)      │                        │                │                        │\n",
              "├───────────────────────────┼────────────────────────┼────────────────┼────────────────────────┤\n",
              "│ add_10 (<span style=\"color: #0087ff; text-decoration-color: #0087ff\">Add</span>)              │ (<span style=\"color: #00d7ff; text-decoration-color: #00d7ff\">None</span>, <span style=\"color: #00af00; text-decoration-color: #00af00\">200</span>, <span style=\"color: #00af00; text-decoration-color: #00af00\">2</span>)         │              <span style=\"color: #00af00; text-decoration-color: #00af00\">0</span> │ layer_normalization_1… │\n",
              "│                           │                        │                │ input_layer_2[<span style=\"color: #00af00; text-decoration-color: #00af00\">0</span>][<span style=\"color: #00af00; text-decoration-color: #00af00\">0</span>]    │\n",
              "├───────────────────────────┼────────────────────────┼────────────────┼────────────────────────┤\n",
              "│ conv1d_8 (<span style=\"color: #0087ff; text-decoration-color: #0087ff\">Conv1D</span>)         │ (<span style=\"color: #00d7ff; text-decoration-color: #00d7ff\">None</span>, <span style=\"color: #00af00; text-decoration-color: #00af00\">200</span>, <span style=\"color: #00af00; text-decoration-color: #00af00\">64</span>)        │            <span style=\"color: #00af00; text-decoration-color: #00af00\">192</span> │ add_10[<span style=\"color: #00af00; text-decoration-color: #00af00\">0</span>][<span style=\"color: #00af00; text-decoration-color: #00af00\">0</span>]           │\n",
              "├───────────────────────────┼────────────────────────┼────────────────┼────────────────────────┤\n",
              "│ dropout_22 (<span style=\"color: #0087ff; text-decoration-color: #0087ff\">Dropout</span>)      │ (<span style=\"color: #00d7ff; text-decoration-color: #00d7ff\">None</span>, <span style=\"color: #00af00; text-decoration-color: #00af00\">200</span>, <span style=\"color: #00af00; text-decoration-color: #00af00\">64</span>)        │              <span style=\"color: #00af00; text-decoration-color: #00af00\">0</span> │ conv1d_8[<span style=\"color: #00af00; text-decoration-color: #00af00\">0</span>][<span style=\"color: #00af00; text-decoration-color: #00af00\">0</span>]         │\n",
              "├───────────────────────────┼────────────────────────┼────────────────┼────────────────────────┤\n",
              "│ conv1d_9 (<span style=\"color: #0087ff; text-decoration-color: #0087ff\">Conv1D</span>)         │ (<span style=\"color: #00d7ff; text-decoration-color: #00d7ff\">None</span>, <span style=\"color: #00af00; text-decoration-color: #00af00\">200</span>, <span style=\"color: #00af00; text-decoration-color: #00af00\">2</span>)         │            <span style=\"color: #00af00; text-decoration-color: #00af00\">130</span> │ dropout_22[<span style=\"color: #00af00; text-decoration-color: #00af00\">0</span>][<span style=\"color: #00af00; text-decoration-color: #00af00\">0</span>]       │\n",
              "├───────────────────────────┼────────────────────────┼────────────────┼────────────────────────┤\n",
              "│ layer_normalization_15    │ (<span style=\"color: #00d7ff; text-decoration-color: #00d7ff\">None</span>, <span style=\"color: #00af00; text-decoration-color: #00af00\">200</span>, <span style=\"color: #00af00; text-decoration-color: #00af00\">2</span>)         │              <span style=\"color: #00af00; text-decoration-color: #00af00\">4</span> │ conv1d_9[<span style=\"color: #00af00; text-decoration-color: #00af00\">0</span>][<span style=\"color: #00af00; text-decoration-color: #00af00\">0</span>]         │\n",
              "│ (<span style=\"color: #0087ff; text-decoration-color: #0087ff\">LayerNormalization</span>)      │                        │                │                        │\n",
              "├───────────────────────────┼────────────────────────┼────────────────┼────────────────────────┤\n",
              "│ add_11 (<span style=\"color: #0087ff; text-decoration-color: #0087ff\">Add</span>)              │ (<span style=\"color: #00d7ff; text-decoration-color: #00d7ff\">None</span>, <span style=\"color: #00af00; text-decoration-color: #00af00\">200</span>, <span style=\"color: #00af00; text-decoration-color: #00af00\">2</span>)         │              <span style=\"color: #00af00; text-decoration-color: #00af00\">0</span> │ layer_normalization_1… │\n",
              "│                           │                        │                │ add_10[<span style=\"color: #00af00; text-decoration-color: #00af00\">0</span>][<span style=\"color: #00af00; text-decoration-color: #00af00\">0</span>]           │\n",
              "├───────────────────────────┼────────────────────────┼────────────────┼────────────────────────┤\n",
              "│ multi_head_attention_5    │ (<span style=\"color: #00d7ff; text-decoration-color: #00d7ff\">None</span>, <span style=\"color: #00af00; text-decoration-color: #00af00\">200</span>, <span style=\"color: #00af00; text-decoration-color: #00af00\">2</span>)         │          <span style=\"color: #00af00; text-decoration-color: #00af00\">1,410</span> │ add_11[<span style=\"color: #00af00; text-decoration-color: #00af00\">0</span>][<span style=\"color: #00af00; text-decoration-color: #00af00\">0</span>],          │\n",
              "│ (<span style=\"color: #0087ff; text-decoration-color: #0087ff\">MultiHeadAttention</span>)      │                        │                │ add_11[<span style=\"color: #00af00; text-decoration-color: #00af00\">0</span>][<span style=\"color: #00af00; text-decoration-color: #00af00\">0</span>]           │\n",
              "├───────────────────────────┼────────────────────────┼────────────────┼────────────────────────┤\n",
              "│ dropout_24 (<span style=\"color: #0087ff; text-decoration-color: #0087ff\">Dropout</span>)      │ (<span style=\"color: #00d7ff; text-decoration-color: #00d7ff\">None</span>, <span style=\"color: #00af00; text-decoration-color: #00af00\">200</span>, <span style=\"color: #00af00; text-decoration-color: #00af00\">2</span>)         │              <span style=\"color: #00af00; text-decoration-color: #00af00\">0</span> │ multi_head_attention_… │\n",
              "├───────────────────────────┼────────────────────────┼────────────────┼────────────────────────┤\n",
              "│ layer_normalization_16    │ (<span style=\"color: #00d7ff; text-decoration-color: #00d7ff\">None</span>, <span style=\"color: #00af00; text-decoration-color: #00af00\">200</span>, <span style=\"color: #00af00; text-decoration-color: #00af00\">2</span>)         │              <span style=\"color: #00af00; text-decoration-color: #00af00\">4</span> │ dropout_24[<span style=\"color: #00af00; text-decoration-color: #00af00\">0</span>][<span style=\"color: #00af00; text-decoration-color: #00af00\">0</span>]       │\n",
              "│ (<span style=\"color: #0087ff; text-decoration-color: #0087ff\">LayerNormalization</span>)      │                        │                │                        │\n",
              "├───────────────────────────┼────────────────────────┼────────────────┼────────────────────────┤\n",
              "│ add_12 (<span style=\"color: #0087ff; text-decoration-color: #0087ff\">Add</span>)              │ (<span style=\"color: #00d7ff; text-decoration-color: #00d7ff\">None</span>, <span style=\"color: #00af00; text-decoration-color: #00af00\">200</span>, <span style=\"color: #00af00; text-decoration-color: #00af00\">2</span>)         │              <span style=\"color: #00af00; text-decoration-color: #00af00\">0</span> │ layer_normalization_1… │\n",
              "│                           │                        │                │ add_11[<span style=\"color: #00af00; text-decoration-color: #00af00\">0</span>][<span style=\"color: #00af00; text-decoration-color: #00af00\">0</span>]           │\n",
              "├───────────────────────────┼────────────────────────┼────────────────┼────────────────────────┤\n",
              "│ conv1d_10 (<span style=\"color: #0087ff; text-decoration-color: #0087ff\">Conv1D</span>)        │ (<span style=\"color: #00d7ff; text-decoration-color: #00d7ff\">None</span>, <span style=\"color: #00af00; text-decoration-color: #00af00\">200</span>, <span style=\"color: #00af00; text-decoration-color: #00af00\">64</span>)        │            <span style=\"color: #00af00; text-decoration-color: #00af00\">192</span> │ add_12[<span style=\"color: #00af00; text-decoration-color: #00af00\">0</span>][<span style=\"color: #00af00; text-decoration-color: #00af00\">0</span>]           │\n",
              "├───────────────────────────┼────────────────────────┼────────────────┼────────────────────────┤\n",
              "│ dropout_25 (<span style=\"color: #0087ff; text-decoration-color: #0087ff\">Dropout</span>)      │ (<span style=\"color: #00d7ff; text-decoration-color: #00d7ff\">None</span>, <span style=\"color: #00af00; text-decoration-color: #00af00\">200</span>, <span style=\"color: #00af00; text-decoration-color: #00af00\">64</span>)        │              <span style=\"color: #00af00; text-decoration-color: #00af00\">0</span> │ conv1d_10[<span style=\"color: #00af00; text-decoration-color: #00af00\">0</span>][<span style=\"color: #00af00; text-decoration-color: #00af00\">0</span>]        │\n",
              "├───────────────────────────┼────────────────────────┼────────────────┼────────────────────────┤\n",
              "│ conv1d_11 (<span style=\"color: #0087ff; text-decoration-color: #0087ff\">Conv1D</span>)        │ (<span style=\"color: #00d7ff; text-decoration-color: #00d7ff\">None</span>, <span style=\"color: #00af00; text-decoration-color: #00af00\">200</span>, <span style=\"color: #00af00; text-decoration-color: #00af00\">2</span>)         │            <span style=\"color: #00af00; text-decoration-color: #00af00\">130</span> │ dropout_25[<span style=\"color: #00af00; text-decoration-color: #00af00\">0</span>][<span style=\"color: #00af00; text-decoration-color: #00af00\">0</span>]       │\n",
              "├───────────────────────────┼────────────────────────┼────────────────┼────────────────────────┤\n",
              "│ layer_normalization_17    │ (<span style=\"color: #00d7ff; text-decoration-color: #00d7ff\">None</span>, <span style=\"color: #00af00; text-decoration-color: #00af00\">200</span>, <span style=\"color: #00af00; text-decoration-color: #00af00\">2</span>)         │              <span style=\"color: #00af00; text-decoration-color: #00af00\">4</span> │ conv1d_11[<span style=\"color: #00af00; text-decoration-color: #00af00\">0</span>][<span style=\"color: #00af00; text-decoration-color: #00af00\">0</span>]        │\n",
              "│ (<span style=\"color: #0087ff; text-decoration-color: #0087ff\">LayerNormalization</span>)      │                        │                │                        │\n",
              "├───────────────────────────┼────────────────────────┼────────────────┼────────────────────────┤\n",
              "│ add_13 (<span style=\"color: #0087ff; text-decoration-color: #0087ff\">Add</span>)              │ (<span style=\"color: #00d7ff; text-decoration-color: #00d7ff\">None</span>, <span style=\"color: #00af00; text-decoration-color: #00af00\">200</span>, <span style=\"color: #00af00; text-decoration-color: #00af00\">2</span>)         │              <span style=\"color: #00af00; text-decoration-color: #00af00\">0</span> │ layer_normalization_1… │\n",
              "│                           │                        │                │ add_12[<span style=\"color: #00af00; text-decoration-color: #00af00\">0</span>][<span style=\"color: #00af00; text-decoration-color: #00af00\">0</span>]           │\n",
              "├───────────────────────────┼────────────────────────┼────────────────┼────────────────────────┤\n",
              "│ flatten_2 (<span style=\"color: #0087ff; text-decoration-color: #0087ff\">Flatten</span>)       │ (<span style=\"color: #00d7ff; text-decoration-color: #00d7ff\">None</span>, <span style=\"color: #00af00; text-decoration-color: #00af00\">400</span>)            │              <span style=\"color: #00af00; text-decoration-color: #00af00\">0</span> │ add_13[<span style=\"color: #00af00; text-decoration-color: #00af00\">0</span>][<span style=\"color: #00af00; text-decoration-color: #00af00\">0</span>]           │\n",
              "├───────────────────────────┼────────────────────────┼────────────────┼────────────────────────┤\n",
              "│ dense_10 (<span style=\"color: #0087ff; text-decoration-color: #0087ff\">Dense</span>)          │ (<span style=\"color: #00d7ff; text-decoration-color: #00d7ff\">None</span>, <span style=\"color: #00af00; text-decoration-color: #00af00\">256</span>)            │        <span style=\"color: #00af00; text-decoration-color: #00af00\">102,656</span> │ flatten_2[<span style=\"color: #00af00; text-decoration-color: #00af00\">0</span>][<span style=\"color: #00af00; text-decoration-color: #00af00\">0</span>]        │\n",
              "├───────────────────────────┼────────────────────────┼────────────────┼────────────────────────┤\n",
              "│ dropout_26 (<span style=\"color: #0087ff; text-decoration-color: #0087ff\">Dropout</span>)      │ (<span style=\"color: #00d7ff; text-decoration-color: #00d7ff\">None</span>, <span style=\"color: #00af00; text-decoration-color: #00af00\">256</span>)            │              <span style=\"color: #00af00; text-decoration-color: #00af00\">0</span> │ dense_10[<span style=\"color: #00af00; text-decoration-color: #00af00\">0</span>][<span style=\"color: #00af00; text-decoration-color: #00af00\">0</span>]         │\n",
              "├───────────────────────────┼────────────────────────┼────────────────┼────────────────────────┤\n",
              "│ layer_normalization_18    │ (<span style=\"color: #00d7ff; text-decoration-color: #00d7ff\">None</span>, <span style=\"color: #00af00; text-decoration-color: #00af00\">256</span>)            │            <span style=\"color: #00af00; text-decoration-color: #00af00\">512</span> │ dropout_26[<span style=\"color: #00af00; text-decoration-color: #00af00\">0</span>][<span style=\"color: #00af00; text-decoration-color: #00af00\">0</span>]       │\n",
              "│ (<span style=\"color: #0087ff; text-decoration-color: #0087ff\">LayerNormalization</span>)      │                        │                │                        │\n",
              "├───────────────────────────┼────────────────────────┼────────────────┼────────────────────────┤\n",
              "│ dense_11 (<span style=\"color: #0087ff; text-decoration-color: #0087ff\">Dense</span>)          │ (<span style=\"color: #00d7ff; text-decoration-color: #00d7ff\">None</span>, <span style=\"color: #00af00; text-decoration-color: #00af00\">128</span>)            │         <span style=\"color: #00af00; text-decoration-color: #00af00\">32,896</span> │ layer_normalization_1… │\n",
              "├───────────────────────────┼────────────────────────┼────────────────┼────────────────────────┤\n",
              "│ dropout_27 (<span style=\"color: #0087ff; text-decoration-color: #0087ff\">Dropout</span>)      │ (<span style=\"color: #00d7ff; text-decoration-color: #00d7ff\">None</span>, <span style=\"color: #00af00; text-decoration-color: #00af00\">128</span>)            │              <span style=\"color: #00af00; text-decoration-color: #00af00\">0</span> │ dense_11[<span style=\"color: #00af00; text-decoration-color: #00af00\">0</span>][<span style=\"color: #00af00; text-decoration-color: #00af00\">0</span>]         │\n",
              "├───────────────────────────┼────────────────────────┼────────────────┼────────────────────────┤\n",
              "│ layer_normalization_19    │ (<span style=\"color: #00d7ff; text-decoration-color: #00d7ff\">None</span>, <span style=\"color: #00af00; text-decoration-color: #00af00\">128</span>)            │            <span style=\"color: #00af00; text-decoration-color: #00af00\">256</span> │ dropout_27[<span style=\"color: #00af00; text-decoration-color: #00af00\">0</span>][<span style=\"color: #00af00; text-decoration-color: #00af00\">0</span>]       │\n",
              "│ (<span style=\"color: #0087ff; text-decoration-color: #0087ff\">LayerNormalization</span>)      │                        │                │                        │\n",
              "├───────────────────────────┼────────────────────────┼────────────────┼────────────────────────┤\n",
              "│ dense_12 (<span style=\"color: #0087ff; text-decoration-color: #0087ff\">Dense</span>)          │ (<span style=\"color: #00d7ff; text-decoration-color: #00d7ff\">None</span>, <span style=\"color: #00af00; text-decoration-color: #00af00\">64</span>)             │          <span style=\"color: #00af00; text-decoration-color: #00af00\">8,256</span> │ layer_normalization_1… │\n",
              "├───────────────────────────┼────────────────────────┼────────────────┼────────────────────────┤\n",
              "│ dropout_28 (<span style=\"color: #0087ff; text-decoration-color: #0087ff\">Dropout</span>)      │ (<span style=\"color: #00d7ff; text-decoration-color: #00d7ff\">None</span>, <span style=\"color: #00af00; text-decoration-color: #00af00\">64</span>)             │              <span style=\"color: #00af00; text-decoration-color: #00af00\">0</span> │ dense_12[<span style=\"color: #00af00; text-decoration-color: #00af00\">0</span>][<span style=\"color: #00af00; text-decoration-color: #00af00\">0</span>]         │\n",
              "├───────────────────────────┼────────────────────────┼────────────────┼────────────────────────┤\n",
              "│ layer_normalization_20    │ (<span style=\"color: #00d7ff; text-decoration-color: #00d7ff\">None</span>, <span style=\"color: #00af00; text-decoration-color: #00af00\">64</span>)             │            <span style=\"color: #00af00; text-decoration-color: #00af00\">128</span> │ dropout_28[<span style=\"color: #00af00; text-decoration-color: #00af00\">0</span>][<span style=\"color: #00af00; text-decoration-color: #00af00\">0</span>]       │\n",
              "│ (<span style=\"color: #0087ff; text-decoration-color: #0087ff\">LayerNormalization</span>)      │                        │                │                        │\n",
              "├───────────────────────────┼────────────────────────┼────────────────┼────────────────────────┤\n",
              "│ dense_13 (<span style=\"color: #0087ff; text-decoration-color: #0087ff\">Dense</span>)          │ (<span style=\"color: #00d7ff; text-decoration-color: #00d7ff\">None</span>, <span style=\"color: #00af00; text-decoration-color: #00af00\">1</span>)              │             <span style=\"color: #00af00; text-decoration-color: #00af00\">65</span> │ layer_normalization_2… │\n",
              "└───────────────────────────┴────────────────────────┴────────────────┴────────────────────────┘\n",
              "</pre>\n"
            ],
            "text/plain": [
              "┏━━━━━━━━━━━━━━━━━━━━━━━━━━━┳━━━━━━━━━━━━━━━━━━━━━━━━┳━━━━━━━━━━━━━━━━┳━━━━━━━━━━━━━━━━━━━━━━━━┓\n",
              "┃\u001b[1m \u001b[0m\u001b[1mLayer (type)             \u001b[0m\u001b[1m \u001b[0m┃\u001b[1m \u001b[0m\u001b[1mOutput Shape          \u001b[0m\u001b[1m \u001b[0m┃\u001b[1m \u001b[0m\u001b[1m       Param #\u001b[0m\u001b[1m \u001b[0m┃\u001b[1m \u001b[0m\u001b[1mConnected to          \u001b[0m\u001b[1m \u001b[0m┃\n",
              "┡━━━━━━━━━━━━━━━━━━━━━━━━━━━╇━━━━━━━━━━━━━━━━━━━━━━━━╇━━━━━━━━━━━━━━━━╇━━━━━━━━━━━━━━━━━━━━━━━━┩\n",
              "│ input_layer_2             │ (\u001b[38;5;45mNone\u001b[0m, \u001b[38;5;34m200\u001b[0m, \u001b[38;5;34m2\u001b[0m)         │              \u001b[38;5;34m0\u001b[0m │ -                      │\n",
              "│ (\u001b[38;5;33mInputLayer\u001b[0m)              │                        │                │                        │\n",
              "├───────────────────────────┼────────────────────────┼────────────────┼────────────────────────┤\n",
              "│ multi_head_attention_4    │ (\u001b[38;5;45mNone\u001b[0m, \u001b[38;5;34m200\u001b[0m, \u001b[38;5;34m2\u001b[0m)         │          \u001b[38;5;34m1,410\u001b[0m │ input_layer_2[\u001b[38;5;34m0\u001b[0m][\u001b[38;5;34m0\u001b[0m],   │\n",
              "│ (\u001b[38;5;33mMultiHeadAttention\u001b[0m)      │                        │                │ input_layer_2[\u001b[38;5;34m0\u001b[0m][\u001b[38;5;34m0\u001b[0m]    │\n",
              "├───────────────────────────┼────────────────────────┼────────────────┼────────────────────────┤\n",
              "│ dropout_21 (\u001b[38;5;33mDropout\u001b[0m)      │ (\u001b[38;5;45mNone\u001b[0m, \u001b[38;5;34m200\u001b[0m, \u001b[38;5;34m2\u001b[0m)         │              \u001b[38;5;34m0\u001b[0m │ multi_head_attention_… │\n",
              "├───────────────────────────┼────────────────────────┼────────────────┼────────────────────────┤\n",
              "│ layer_normalization_14    │ (\u001b[38;5;45mNone\u001b[0m, \u001b[38;5;34m200\u001b[0m, \u001b[38;5;34m2\u001b[0m)         │              \u001b[38;5;34m4\u001b[0m │ dropout_21[\u001b[38;5;34m0\u001b[0m][\u001b[38;5;34m0\u001b[0m]       │\n",
              "│ (\u001b[38;5;33mLayerNormalization\u001b[0m)      │                        │                │                        │\n",
              "├───────────────────────────┼────────────────────────┼────────────────┼────────────────────────┤\n",
              "│ add_10 (\u001b[38;5;33mAdd\u001b[0m)              │ (\u001b[38;5;45mNone\u001b[0m, \u001b[38;5;34m200\u001b[0m, \u001b[38;5;34m2\u001b[0m)         │              \u001b[38;5;34m0\u001b[0m │ layer_normalization_1… │\n",
              "│                           │                        │                │ input_layer_2[\u001b[38;5;34m0\u001b[0m][\u001b[38;5;34m0\u001b[0m]    │\n",
              "├───────────────────────────┼────────────────────────┼────────────────┼────────────────────────┤\n",
              "│ conv1d_8 (\u001b[38;5;33mConv1D\u001b[0m)         │ (\u001b[38;5;45mNone\u001b[0m, \u001b[38;5;34m200\u001b[0m, \u001b[38;5;34m64\u001b[0m)        │            \u001b[38;5;34m192\u001b[0m │ add_10[\u001b[38;5;34m0\u001b[0m][\u001b[38;5;34m0\u001b[0m]           │\n",
              "├───────────────────────────┼────────────────────────┼────────────────┼────────────────────────┤\n",
              "│ dropout_22 (\u001b[38;5;33mDropout\u001b[0m)      │ (\u001b[38;5;45mNone\u001b[0m, \u001b[38;5;34m200\u001b[0m, \u001b[38;5;34m64\u001b[0m)        │              \u001b[38;5;34m0\u001b[0m │ conv1d_8[\u001b[38;5;34m0\u001b[0m][\u001b[38;5;34m0\u001b[0m]         │\n",
              "├───────────────────────────┼────────────────────────┼────────────────┼────────────────────────┤\n",
              "│ conv1d_9 (\u001b[38;5;33mConv1D\u001b[0m)         │ (\u001b[38;5;45mNone\u001b[0m, \u001b[38;5;34m200\u001b[0m, \u001b[38;5;34m2\u001b[0m)         │            \u001b[38;5;34m130\u001b[0m │ dropout_22[\u001b[38;5;34m0\u001b[0m][\u001b[38;5;34m0\u001b[0m]       │\n",
              "├───────────────────────────┼────────────────────────┼────────────────┼────────────────────────┤\n",
              "│ layer_normalization_15    │ (\u001b[38;5;45mNone\u001b[0m, \u001b[38;5;34m200\u001b[0m, \u001b[38;5;34m2\u001b[0m)         │              \u001b[38;5;34m4\u001b[0m │ conv1d_9[\u001b[38;5;34m0\u001b[0m][\u001b[38;5;34m0\u001b[0m]         │\n",
              "│ (\u001b[38;5;33mLayerNormalization\u001b[0m)      │                        │                │                        │\n",
              "├───────────────────────────┼────────────────────────┼────────────────┼────────────────────────┤\n",
              "│ add_11 (\u001b[38;5;33mAdd\u001b[0m)              │ (\u001b[38;5;45mNone\u001b[0m, \u001b[38;5;34m200\u001b[0m, \u001b[38;5;34m2\u001b[0m)         │              \u001b[38;5;34m0\u001b[0m │ layer_normalization_1… │\n",
              "│                           │                        │                │ add_10[\u001b[38;5;34m0\u001b[0m][\u001b[38;5;34m0\u001b[0m]           │\n",
              "├───────────────────────────┼────────────────────────┼────────────────┼────────────────────────┤\n",
              "│ multi_head_attention_5    │ (\u001b[38;5;45mNone\u001b[0m, \u001b[38;5;34m200\u001b[0m, \u001b[38;5;34m2\u001b[0m)         │          \u001b[38;5;34m1,410\u001b[0m │ add_11[\u001b[38;5;34m0\u001b[0m][\u001b[38;5;34m0\u001b[0m],          │\n",
              "│ (\u001b[38;5;33mMultiHeadAttention\u001b[0m)      │                        │                │ add_11[\u001b[38;5;34m0\u001b[0m][\u001b[38;5;34m0\u001b[0m]           │\n",
              "├───────────────────────────┼────────────────────────┼────────────────┼────────────────────────┤\n",
              "│ dropout_24 (\u001b[38;5;33mDropout\u001b[0m)      │ (\u001b[38;5;45mNone\u001b[0m, \u001b[38;5;34m200\u001b[0m, \u001b[38;5;34m2\u001b[0m)         │              \u001b[38;5;34m0\u001b[0m │ multi_head_attention_… │\n",
              "├───────────────────────────┼────────────────────────┼────────────────┼────────────────────────┤\n",
              "│ layer_normalization_16    │ (\u001b[38;5;45mNone\u001b[0m, \u001b[38;5;34m200\u001b[0m, \u001b[38;5;34m2\u001b[0m)         │              \u001b[38;5;34m4\u001b[0m │ dropout_24[\u001b[38;5;34m0\u001b[0m][\u001b[38;5;34m0\u001b[0m]       │\n",
              "│ (\u001b[38;5;33mLayerNormalization\u001b[0m)      │                        │                │                        │\n",
              "├───────────────────────────┼────────────────────────┼────────────────┼────────────────────────┤\n",
              "│ add_12 (\u001b[38;5;33mAdd\u001b[0m)              │ (\u001b[38;5;45mNone\u001b[0m, \u001b[38;5;34m200\u001b[0m, \u001b[38;5;34m2\u001b[0m)         │              \u001b[38;5;34m0\u001b[0m │ layer_normalization_1… │\n",
              "│                           │                        │                │ add_11[\u001b[38;5;34m0\u001b[0m][\u001b[38;5;34m0\u001b[0m]           │\n",
              "├───────────────────────────┼────────────────────────┼────────────────┼────────────────────────┤\n",
              "│ conv1d_10 (\u001b[38;5;33mConv1D\u001b[0m)        │ (\u001b[38;5;45mNone\u001b[0m, \u001b[38;5;34m200\u001b[0m, \u001b[38;5;34m64\u001b[0m)        │            \u001b[38;5;34m192\u001b[0m │ add_12[\u001b[38;5;34m0\u001b[0m][\u001b[38;5;34m0\u001b[0m]           │\n",
              "├───────────────────────────┼────────────────────────┼────────────────┼────────────────────────┤\n",
              "│ dropout_25 (\u001b[38;5;33mDropout\u001b[0m)      │ (\u001b[38;5;45mNone\u001b[0m, \u001b[38;5;34m200\u001b[0m, \u001b[38;5;34m64\u001b[0m)        │              \u001b[38;5;34m0\u001b[0m │ conv1d_10[\u001b[38;5;34m0\u001b[0m][\u001b[38;5;34m0\u001b[0m]        │\n",
              "├───────────────────────────┼────────────────────────┼────────────────┼────────────────────────┤\n",
              "│ conv1d_11 (\u001b[38;5;33mConv1D\u001b[0m)        │ (\u001b[38;5;45mNone\u001b[0m, \u001b[38;5;34m200\u001b[0m, \u001b[38;5;34m2\u001b[0m)         │            \u001b[38;5;34m130\u001b[0m │ dropout_25[\u001b[38;5;34m0\u001b[0m][\u001b[38;5;34m0\u001b[0m]       │\n",
              "├───────────────────────────┼────────────────────────┼────────────────┼────────────────────────┤\n",
              "│ layer_normalization_17    │ (\u001b[38;5;45mNone\u001b[0m, \u001b[38;5;34m200\u001b[0m, \u001b[38;5;34m2\u001b[0m)         │              \u001b[38;5;34m4\u001b[0m │ conv1d_11[\u001b[38;5;34m0\u001b[0m][\u001b[38;5;34m0\u001b[0m]        │\n",
              "│ (\u001b[38;5;33mLayerNormalization\u001b[0m)      │                        │                │                        │\n",
              "├───────────────────────────┼────────────────────────┼────────────────┼────────────────────────┤\n",
              "│ add_13 (\u001b[38;5;33mAdd\u001b[0m)              │ (\u001b[38;5;45mNone\u001b[0m, \u001b[38;5;34m200\u001b[0m, \u001b[38;5;34m2\u001b[0m)         │              \u001b[38;5;34m0\u001b[0m │ layer_normalization_1… │\n",
              "│                           │                        │                │ add_12[\u001b[38;5;34m0\u001b[0m][\u001b[38;5;34m0\u001b[0m]           │\n",
              "├───────────────────────────┼────────────────────────┼────────────────┼────────────────────────┤\n",
              "│ flatten_2 (\u001b[38;5;33mFlatten\u001b[0m)       │ (\u001b[38;5;45mNone\u001b[0m, \u001b[38;5;34m400\u001b[0m)            │              \u001b[38;5;34m0\u001b[0m │ add_13[\u001b[38;5;34m0\u001b[0m][\u001b[38;5;34m0\u001b[0m]           │\n",
              "├───────────────────────────┼────────────────────────┼────────────────┼────────────────────────┤\n",
              "│ dense_10 (\u001b[38;5;33mDense\u001b[0m)          │ (\u001b[38;5;45mNone\u001b[0m, \u001b[38;5;34m256\u001b[0m)            │        \u001b[38;5;34m102,656\u001b[0m │ flatten_2[\u001b[38;5;34m0\u001b[0m][\u001b[38;5;34m0\u001b[0m]        │\n",
              "├───────────────────────────┼────────────────────────┼────────────────┼────────────────────────┤\n",
              "│ dropout_26 (\u001b[38;5;33mDropout\u001b[0m)      │ (\u001b[38;5;45mNone\u001b[0m, \u001b[38;5;34m256\u001b[0m)            │              \u001b[38;5;34m0\u001b[0m │ dense_10[\u001b[38;5;34m0\u001b[0m][\u001b[38;5;34m0\u001b[0m]         │\n",
              "├───────────────────────────┼────────────────────────┼────────────────┼────────────────────────┤\n",
              "│ layer_normalization_18    │ (\u001b[38;5;45mNone\u001b[0m, \u001b[38;5;34m256\u001b[0m)            │            \u001b[38;5;34m512\u001b[0m │ dropout_26[\u001b[38;5;34m0\u001b[0m][\u001b[38;5;34m0\u001b[0m]       │\n",
              "│ (\u001b[38;5;33mLayerNormalization\u001b[0m)      │                        │                │                        │\n",
              "├───────────────────────────┼────────────────────────┼────────────────┼────────────────────────┤\n",
              "│ dense_11 (\u001b[38;5;33mDense\u001b[0m)          │ (\u001b[38;5;45mNone\u001b[0m, \u001b[38;5;34m128\u001b[0m)            │         \u001b[38;5;34m32,896\u001b[0m │ layer_normalization_1… │\n",
              "├───────────────────────────┼────────────────────────┼────────────────┼────────────────────────┤\n",
              "│ dropout_27 (\u001b[38;5;33mDropout\u001b[0m)      │ (\u001b[38;5;45mNone\u001b[0m, \u001b[38;5;34m128\u001b[0m)            │              \u001b[38;5;34m0\u001b[0m │ dense_11[\u001b[38;5;34m0\u001b[0m][\u001b[38;5;34m0\u001b[0m]         │\n",
              "├───────────────────────────┼────────────────────────┼────────────────┼────────────────────────┤\n",
              "│ layer_normalization_19    │ (\u001b[38;5;45mNone\u001b[0m, \u001b[38;5;34m128\u001b[0m)            │            \u001b[38;5;34m256\u001b[0m │ dropout_27[\u001b[38;5;34m0\u001b[0m][\u001b[38;5;34m0\u001b[0m]       │\n",
              "│ (\u001b[38;5;33mLayerNormalization\u001b[0m)      │                        │                │                        │\n",
              "├───────────────────────────┼────────────────────────┼────────────────┼────────────────────────┤\n",
              "│ dense_12 (\u001b[38;5;33mDense\u001b[0m)          │ (\u001b[38;5;45mNone\u001b[0m, \u001b[38;5;34m64\u001b[0m)             │          \u001b[38;5;34m8,256\u001b[0m │ layer_normalization_1… │\n",
              "├───────────────────────────┼────────────────────────┼────────────────┼────────────────────────┤\n",
              "│ dropout_28 (\u001b[38;5;33mDropout\u001b[0m)      │ (\u001b[38;5;45mNone\u001b[0m, \u001b[38;5;34m64\u001b[0m)             │              \u001b[38;5;34m0\u001b[0m │ dense_12[\u001b[38;5;34m0\u001b[0m][\u001b[38;5;34m0\u001b[0m]         │\n",
              "├───────────────────────────┼────────────────────────┼────────────────┼────────────────────────┤\n",
              "│ layer_normalization_20    │ (\u001b[38;5;45mNone\u001b[0m, \u001b[38;5;34m64\u001b[0m)             │            \u001b[38;5;34m128\u001b[0m │ dropout_28[\u001b[38;5;34m0\u001b[0m][\u001b[38;5;34m0\u001b[0m]       │\n",
              "│ (\u001b[38;5;33mLayerNormalization\u001b[0m)      │                        │                │                        │\n",
              "├───────────────────────────┼────────────────────────┼────────────────┼────────────────────────┤\n",
              "│ dense_13 (\u001b[38;5;33mDense\u001b[0m)          │ (\u001b[38;5;45mNone\u001b[0m, \u001b[38;5;34m1\u001b[0m)              │             \u001b[38;5;34m65\u001b[0m │ layer_normalization_2… │\n",
              "└───────────────────────────┴────────────────────────┴────────────────┴────────────────────────┘\n"
            ]
          },
          "metadata": {},
          "output_type": "display_data"
        },
        {
          "data": {
            "text/html": [
              "<pre style=\"white-space:pre;overflow-x:auto;line-height:normal;font-family:Menlo,'DejaVu Sans Mono',consolas,'Courier New',monospace\"><span style=\"font-weight: bold\"> Total params: </span><span style=\"color: #00af00; text-decoration-color: #00af00\">444,749</span> (1.70 MB)\n",
              "</pre>\n"
            ],
            "text/plain": [
              "\u001b[1m Total params: \u001b[0m\u001b[38;5;34m444,749\u001b[0m (1.70 MB)\n"
            ]
          },
          "metadata": {},
          "output_type": "display_data"
        },
        {
          "data": {
            "text/html": [
              "<pre style=\"white-space:pre;overflow-x:auto;line-height:normal;font-family:Menlo,'DejaVu Sans Mono',consolas,'Courier New',monospace\"><span style=\"font-weight: bold\"> Trainable params: </span><span style=\"color: #00af00; text-decoration-color: #00af00\">148,249</span> (579.10 KB)\n",
              "</pre>\n"
            ],
            "text/plain": [
              "\u001b[1m Trainable params: \u001b[0m\u001b[38;5;34m148,249\u001b[0m (579.10 KB)\n"
            ]
          },
          "metadata": {},
          "output_type": "display_data"
        },
        {
          "data": {
            "text/html": [
              "<pre style=\"white-space:pre;overflow-x:auto;line-height:normal;font-family:Menlo,'DejaVu Sans Mono',consolas,'Courier New',monospace\"><span style=\"font-weight: bold\"> Non-trainable params: </span><span style=\"color: #00af00; text-decoration-color: #00af00\">0</span> (0.00 B)\n",
              "</pre>\n"
            ],
            "text/plain": [
              "\u001b[1m Non-trainable params: \u001b[0m\u001b[38;5;34m0\u001b[0m (0.00 B)\n"
            ]
          },
          "metadata": {},
          "output_type": "display_data"
        },
        {
          "data": {
            "text/html": [
              "<pre style=\"white-space:pre;overflow-x:auto;line-height:normal;font-family:Menlo,'DejaVu Sans Mono',consolas,'Courier New',monospace\"><span style=\"font-weight: bold\"> Optimizer params: </span><span style=\"color: #00af00; text-decoration-color: #00af00\">296,500</span> (1.13 MB)\n",
              "</pre>\n"
            ],
            "text/plain": [
              "\u001b[1m Optimizer params: \u001b[0m\u001b[38;5;34m296,500\u001b[0m (1.13 MB)\n"
            ]
          },
          "metadata": {},
          "output_type": "display_data"
        }
      ],
      "source": [
        "transformer_model = keras.models.load_model(\"/content/drive/MyDrive/Colab Notebooks/transformer_model.keras\")\n",
        "transformer_model.summary()"
      ]
    },
    {
      "cell_type": "code",
      "execution_count": null,
      "metadata": {
        "colab": {
          "base_uri": "https://localhost:8080/",
          "height": 385
        },
        "id": "tvrTDgSjmxVk",
        "outputId": "0681b913-585b-486c-d0e7-9cb90b42966f"
      },
      "outputs": [
        {
          "data": {
            "text/html": [
              "<pre style=\"white-space:pre;overflow-x:auto;line-height:normal;font-family:Menlo,'DejaVu Sans Mono',consolas,'Courier New',monospace\"><span style=\"font-weight: bold\">Model: \"functional\"</span>\n",
              "</pre>\n"
            ],
            "text/plain": [
              "\u001b[1mModel: \"functional\"\u001b[0m\n"
            ]
          },
          "metadata": {},
          "output_type": "display_data"
        },
        {
          "data": {
            "text/html": [
              "<pre style=\"white-space:pre;overflow-x:auto;line-height:normal;font-family:Menlo,'DejaVu Sans Mono',consolas,'Courier New',monospace\">┏━━━━━━━━━━━━━━━━━━━━━━━━━━━━━━━━━━━━━━┳━━━━━━━━━━━━━━━━━━━━━━━━━━━━━┳━━━━━━━━━━━━━━━━━┓\n",
              "┃<span style=\"font-weight: bold\"> Layer (type)                         </span>┃<span style=\"font-weight: bold\"> Output Shape                </span>┃<span style=\"font-weight: bold\">         Param # </span>┃\n",
              "┡━━━━━━━━━━━━━━━━━━━━━━━━━━━━━━━━━━━━━━╇━━━━━━━━━━━━━━━━━━━━━━━━━━━━━╇━━━━━━━━━━━━━━━━━┩\n",
              "│ input_layer (<span style=\"color: #0087ff; text-decoration-color: #0087ff\">InputLayer</span>)             │ (<span style=\"color: #00d7ff; text-decoration-color: #00d7ff\">None</span>, <span style=\"color: #00af00; text-decoration-color: #00af00\">200</span>, <span style=\"color: #00af00; text-decoration-color: #00af00\">200</span>, <span style=\"color: #00af00; text-decoration-color: #00af00\">1</span>)         │               <span style=\"color: #00af00; text-decoration-color: #00af00\">0</span> │\n",
              "├──────────────────────────────────────┼─────────────────────────────┼─────────────────┤\n",
              "│ conv2d_1 (<span style=\"color: #0087ff; text-decoration-color: #0087ff\">Conv2D</span>)                    │ (<span style=\"color: #00d7ff; text-decoration-color: #00d7ff\">None</span>, <span style=\"color: #00af00; text-decoration-color: #00af00\">37</span>, <span style=\"color: #00af00; text-decoration-color: #00af00\">37</span>, <span style=\"color: #00af00; text-decoration-color: #00af00\">8</span>)           │           <span style=\"color: #00af00; text-decoration-color: #00af00\">3,208</span> │\n",
              "├──────────────────────────────────────┼─────────────────────────────┼─────────────────┤\n",
              "│ dropout_1 (<span style=\"color: #0087ff; text-decoration-color: #0087ff\">Dropout</span>)                  │ (<span style=\"color: #00d7ff; text-decoration-color: #00d7ff\">None</span>, <span style=\"color: #00af00; text-decoration-color: #00af00\">37</span>, <span style=\"color: #00af00; text-decoration-color: #00af00\">37</span>, <span style=\"color: #00af00; text-decoration-color: #00af00\">8</span>)           │               <span style=\"color: #00af00; text-decoration-color: #00af00\">0</span> │\n",
              "├──────────────────────────────────────┼─────────────────────────────┼─────────────────┤\n",
              "│ max_pooling2d_1 (<span style=\"color: #0087ff; text-decoration-color: #0087ff\">MaxPooling2D</span>)       │ (<span style=\"color: #00d7ff; text-decoration-color: #00d7ff\">None</span>, <span style=\"color: #00af00; text-decoration-color: #00af00\">12</span>, <span style=\"color: #00af00; text-decoration-color: #00af00\">12</span>, <span style=\"color: #00af00; text-decoration-color: #00af00\">8</span>)           │               <span style=\"color: #00af00; text-decoration-color: #00af00\">0</span> │\n",
              "├──────────────────────────────────────┼─────────────────────────────┼─────────────────┤\n",
              "│ layer_normalization_1                │ (<span style=\"color: #00d7ff; text-decoration-color: #00d7ff\">None</span>, <span style=\"color: #00af00; text-decoration-color: #00af00\">12</span>, <span style=\"color: #00af00; text-decoration-color: #00af00\">12</span>, <span style=\"color: #00af00; text-decoration-color: #00af00\">8</span>)           │              <span style=\"color: #00af00; text-decoration-color: #00af00\">16</span> │\n",
              "│ (<span style=\"color: #0087ff; text-decoration-color: #0087ff\">LayerNormalization</span>)                 │                             │                 │\n",
              "├──────────────────────────────────────┼─────────────────────────────┼─────────────────┤\n",
              "│ conv2d_2 (<span style=\"color: #0087ff; text-decoration-color: #0087ff\">Conv2D</span>)                    │ (<span style=\"color: #00d7ff; text-decoration-color: #00d7ff\">None</span>, <span style=\"color: #00af00; text-decoration-color: #00af00\">1</span>, <span style=\"color: #00af00; text-decoration-color: #00af00\">1</span>, <span style=\"color: #00af00; text-decoration-color: #00af00\">1</span>)             │           <span style=\"color: #00af00; text-decoration-color: #00af00\">1,153</span> │\n",
              "├──────────────────────────────────────┼─────────────────────────────┼─────────────────┤\n",
              "│ flatten (<span style=\"color: #0087ff; text-decoration-color: #0087ff\">Flatten</span>)                    │ (<span style=\"color: #00d7ff; text-decoration-color: #00d7ff\">None</span>, <span style=\"color: #00af00; text-decoration-color: #00af00\">1</span>)                   │               <span style=\"color: #00af00; text-decoration-color: #00af00\">0</span> │\n",
              "└──────────────────────────────────────┴─────────────────────────────┴─────────────────┘\n",
              "</pre>\n"
            ],
            "text/plain": [
              "┏━━━━━━━━━━━━━━━━━━━━━━━━━━━━━━━━━━━━━━┳━━━━━━━━━━━━━━━━━━━━━━━━━━━━━┳━━━━━━━━━━━━━━━━━┓\n",
              "┃\u001b[1m \u001b[0m\u001b[1mLayer (type)                        \u001b[0m\u001b[1m \u001b[0m┃\u001b[1m \u001b[0m\u001b[1mOutput Shape               \u001b[0m\u001b[1m \u001b[0m┃\u001b[1m \u001b[0m\u001b[1m        Param #\u001b[0m\u001b[1m \u001b[0m┃\n",
              "┡━━━━━━━━━━━━━━━━━━━━━━━━━━━━━━━━━━━━━━╇━━━━━━━━━━━━━━━━━━━━━━━━━━━━━╇━━━━━━━━━━━━━━━━━┩\n",
              "│ input_layer (\u001b[38;5;33mInputLayer\u001b[0m)             │ (\u001b[38;5;45mNone\u001b[0m, \u001b[38;5;34m200\u001b[0m, \u001b[38;5;34m200\u001b[0m, \u001b[38;5;34m1\u001b[0m)         │               \u001b[38;5;34m0\u001b[0m │\n",
              "├──────────────────────────────────────┼─────────────────────────────┼─────────────────┤\n",
              "│ conv2d_1 (\u001b[38;5;33mConv2D\u001b[0m)                    │ (\u001b[38;5;45mNone\u001b[0m, \u001b[38;5;34m37\u001b[0m, \u001b[38;5;34m37\u001b[0m, \u001b[38;5;34m8\u001b[0m)           │           \u001b[38;5;34m3,208\u001b[0m │\n",
              "├──────────────────────────────────────┼─────────────────────────────┼─────────────────┤\n",
              "│ dropout_1 (\u001b[38;5;33mDropout\u001b[0m)                  │ (\u001b[38;5;45mNone\u001b[0m, \u001b[38;5;34m37\u001b[0m, \u001b[38;5;34m37\u001b[0m, \u001b[38;5;34m8\u001b[0m)           │               \u001b[38;5;34m0\u001b[0m │\n",
              "├──────────────────────────────────────┼─────────────────────────────┼─────────────────┤\n",
              "│ max_pooling2d_1 (\u001b[38;5;33mMaxPooling2D\u001b[0m)       │ (\u001b[38;5;45mNone\u001b[0m, \u001b[38;5;34m12\u001b[0m, \u001b[38;5;34m12\u001b[0m, \u001b[38;5;34m8\u001b[0m)           │               \u001b[38;5;34m0\u001b[0m │\n",
              "├──────────────────────────────────────┼─────────────────────────────┼─────────────────┤\n",
              "│ layer_normalization_1                │ (\u001b[38;5;45mNone\u001b[0m, \u001b[38;5;34m12\u001b[0m, \u001b[38;5;34m12\u001b[0m, \u001b[38;5;34m8\u001b[0m)           │              \u001b[38;5;34m16\u001b[0m │\n",
              "│ (\u001b[38;5;33mLayerNormalization\u001b[0m)                 │                             │                 │\n",
              "├──────────────────────────────────────┼─────────────────────────────┼─────────────────┤\n",
              "│ conv2d_2 (\u001b[38;5;33mConv2D\u001b[0m)                    │ (\u001b[38;5;45mNone\u001b[0m, \u001b[38;5;34m1\u001b[0m, \u001b[38;5;34m1\u001b[0m, \u001b[38;5;34m1\u001b[0m)             │           \u001b[38;5;34m1,153\u001b[0m │\n",
              "├──────────────────────────────────────┼─────────────────────────────┼─────────────────┤\n",
              "│ flatten (\u001b[38;5;33mFlatten\u001b[0m)                    │ (\u001b[38;5;45mNone\u001b[0m, \u001b[38;5;34m1\u001b[0m)                   │               \u001b[38;5;34m0\u001b[0m │\n",
              "└──────────────────────────────────────┴─────────────────────────────┴─────────────────┘\n"
            ]
          },
          "metadata": {},
          "output_type": "display_data"
        },
        {
          "data": {
            "text/html": [
              "<pre style=\"white-space:pre;overflow-x:auto;line-height:normal;font-family:Menlo,'DejaVu Sans Mono',consolas,'Courier New',monospace\"><span style=\"font-weight: bold\"> Total params: </span><span style=\"color: #00af00; text-decoration-color: #00af00\">13,133</span> (51.30 KB)\n",
              "</pre>\n"
            ],
            "text/plain": [
              "\u001b[1m Total params: \u001b[0m\u001b[38;5;34m13,133\u001b[0m (51.30 KB)\n"
            ]
          },
          "metadata": {},
          "output_type": "display_data"
        },
        {
          "data": {
            "text/html": [
              "<pre style=\"white-space:pre;overflow-x:auto;line-height:normal;font-family:Menlo,'DejaVu Sans Mono',consolas,'Courier New',monospace\"><span style=\"font-weight: bold\"> Trainable params: </span><span style=\"color: #00af00; text-decoration-color: #00af00\">4,377</span> (17.10 KB)\n",
              "</pre>\n"
            ],
            "text/plain": [
              "\u001b[1m Trainable params: \u001b[0m\u001b[38;5;34m4,377\u001b[0m (17.10 KB)\n"
            ]
          },
          "metadata": {},
          "output_type": "display_data"
        },
        {
          "data": {
            "text/html": [
              "<pre style=\"white-space:pre;overflow-x:auto;line-height:normal;font-family:Menlo,'DejaVu Sans Mono',consolas,'Courier New',monospace\"><span style=\"font-weight: bold\"> Non-trainable params: </span><span style=\"color: #00af00; text-decoration-color: #00af00\">0</span> (0.00 B)\n",
              "</pre>\n"
            ],
            "text/plain": [
              "\u001b[1m Non-trainable params: \u001b[0m\u001b[38;5;34m0\u001b[0m (0.00 B)\n"
            ]
          },
          "metadata": {},
          "output_type": "display_data"
        },
        {
          "data": {
            "text/html": [
              "<pre style=\"white-space:pre;overflow-x:auto;line-height:normal;font-family:Menlo,'DejaVu Sans Mono',consolas,'Courier New',monospace\"><span style=\"font-weight: bold\"> Optimizer params: </span><span style=\"color: #00af00; text-decoration-color: #00af00\">8,756</span> (34.21 KB)\n",
              "</pre>\n"
            ],
            "text/plain": [
              "\u001b[1m Optimizer params: \u001b[0m\u001b[38;5;34m8,756\u001b[0m (34.21 KB)\n"
            ]
          },
          "metadata": {},
          "output_type": "display_data"
        }
      ],
      "source": [
        "cov_model = keras.models.load_model(\"/content/drive/MyDrive/Colab Notebooks/cov_model.keras\")\n",
        "cov_model.summary()"
      ]
    },
    {
      "cell_type": "code",
      "execution_count": null,
      "metadata": {
        "colab": {
          "base_uri": "https://localhost:8080/",
          "height": 385
        },
        "id": "_mi-L4e_qp0L",
        "outputId": "bc9f192c-67ff-4bc6-c96b-5865ceee5963"
      },
      "outputs": [
        {
          "data": {
            "text/html": [
              "<pre style=\"white-space:pre;overflow-x:auto;line-height:normal;font-family:Menlo,'DejaVu Sans Mono',consolas,'Courier New',monospace\"><span style=\"font-weight: bold\">Model: \"functional\"</span>\n",
              "</pre>\n"
            ],
            "text/plain": [
              "\u001b[1mModel: \"functional\"\u001b[0m\n"
            ]
          },
          "metadata": {},
          "output_type": "display_data"
        },
        {
          "data": {
            "text/html": [
              "<pre style=\"white-space:pre;overflow-x:auto;line-height:normal;font-family:Menlo,'DejaVu Sans Mono',consolas,'Courier New',monospace\">┏━━━━━━━━━━━━━━━━━━━━━━━━━━━━━━━━━━━━━━┳━━━━━━━━━━━━━━━━━━━━━━━━━━━━━┳━━━━━━━━━━━━━━━━━┓\n",
              "┃<span style=\"font-weight: bold\"> Layer (type)                         </span>┃<span style=\"font-weight: bold\"> Output Shape                </span>┃<span style=\"font-weight: bold\">         Param # </span>┃\n",
              "┡━━━━━━━━━━━━━━━━━━━━━━━━━━━━━━━━━━━━━━╇━━━━━━━━━━━━━━━━━━━━━━━━━━━━━╇━━━━━━━━━━━━━━━━━┩\n",
              "│ input_layer (<span style=\"color: #0087ff; text-decoration-color: #0087ff\">InputLayer</span>)             │ (<span style=\"color: #00d7ff; text-decoration-color: #00d7ff\">None</span>, <span style=\"color: #00af00; text-decoration-color: #00af00\">101</span>, <span style=\"color: #00af00; text-decoration-color: #00af00\">100</span>, <span style=\"color: #00af00; text-decoration-color: #00af00\">16</span>)        │               <span style=\"color: #00af00; text-decoration-color: #00af00\">0</span> │\n",
              "├──────────────────────────────────────┼─────────────────────────────┼─────────────────┤\n",
              "│ conv2d_1 (<span style=\"color: #0087ff; text-decoration-color: #0087ff\">Conv2D</span>)                    │ (<span style=\"color: #00d7ff; text-decoration-color: #00d7ff\">None</span>, <span style=\"color: #00af00; text-decoration-color: #00af00\">46</span>, <span style=\"color: #00af00; text-decoration-color: #00af00\">46</span>, <span style=\"color: #00af00; text-decoration-color: #00af00\">8</span>)           │          <span style=\"color: #00af00; text-decoration-color: #00af00\">12,808</span> │\n",
              "├──────────────────────────────────────┼─────────────────────────────┼─────────────────┤\n",
              "│ dropout_1 (<span style=\"color: #0087ff; text-decoration-color: #0087ff\">Dropout</span>)                  │ (<span style=\"color: #00d7ff; text-decoration-color: #00d7ff\">None</span>, <span style=\"color: #00af00; text-decoration-color: #00af00\">46</span>, <span style=\"color: #00af00; text-decoration-color: #00af00\">46</span>, <span style=\"color: #00af00; text-decoration-color: #00af00\">8</span>)           │               <span style=\"color: #00af00; text-decoration-color: #00af00\">0</span> │\n",
              "├──────────────────────────────────────┼─────────────────────────────┼─────────────────┤\n",
              "│ max_pooling2d_1 (<span style=\"color: #0087ff; text-decoration-color: #0087ff\">MaxPooling2D</span>)       │ (<span style=\"color: #00d7ff; text-decoration-color: #00d7ff\">None</span>, <span style=\"color: #00af00; text-decoration-color: #00af00\">15</span>, <span style=\"color: #00af00; text-decoration-color: #00af00\">15</span>, <span style=\"color: #00af00; text-decoration-color: #00af00\">8</span>)           │               <span style=\"color: #00af00; text-decoration-color: #00af00\">0</span> │\n",
              "├──────────────────────────────────────┼─────────────────────────────┼─────────────────┤\n",
              "│ layer_normalization_1                │ (<span style=\"color: #00d7ff; text-decoration-color: #00d7ff\">None</span>, <span style=\"color: #00af00; text-decoration-color: #00af00\">15</span>, <span style=\"color: #00af00; text-decoration-color: #00af00\">15</span>, <span style=\"color: #00af00; text-decoration-color: #00af00\">8</span>)           │              <span style=\"color: #00af00; text-decoration-color: #00af00\">16</span> │\n",
              "│ (<span style=\"color: #0087ff; text-decoration-color: #0087ff\">LayerNormalization</span>)                 │                             │                 │\n",
              "├──────────────────────────────────────┼─────────────────────────────┼─────────────────┤\n",
              "│ conv2d_2 (<span style=\"color: #0087ff; text-decoration-color: #0087ff\">Conv2D</span>)                    │ (<span style=\"color: #00d7ff; text-decoration-color: #00d7ff\">None</span>, <span style=\"color: #00af00; text-decoration-color: #00af00\">1</span>, <span style=\"color: #00af00; text-decoration-color: #00af00\">1</span>, <span style=\"color: #00af00; text-decoration-color: #00af00\">1</span>)             │           <span style=\"color: #00af00; text-decoration-color: #00af00\">1,801</span> │\n",
              "├──────────────────────────────────────┼─────────────────────────────┼─────────────────┤\n",
              "│ flatten (<span style=\"color: #0087ff; text-decoration-color: #0087ff\">Flatten</span>)                    │ (<span style=\"color: #00d7ff; text-decoration-color: #00d7ff\">None</span>, <span style=\"color: #00af00; text-decoration-color: #00af00\">1</span>)                   │               <span style=\"color: #00af00; text-decoration-color: #00af00\">0</span> │\n",
              "└──────────────────────────────────────┴─────────────────────────────┴─────────────────┘\n",
              "</pre>\n"
            ],
            "text/plain": [
              "┏━━━━━━━━━━━━━━━━━━━━━━━━━━━━━━━━━━━━━━┳━━━━━━━━━━━━━━━━━━━━━━━━━━━━━┳━━━━━━━━━━━━━━━━━┓\n",
              "┃\u001b[1m \u001b[0m\u001b[1mLayer (type)                        \u001b[0m\u001b[1m \u001b[0m┃\u001b[1m \u001b[0m\u001b[1mOutput Shape               \u001b[0m\u001b[1m \u001b[0m┃\u001b[1m \u001b[0m\u001b[1m        Param #\u001b[0m\u001b[1m \u001b[0m┃\n",
              "┡━━━━━━━━━━━━━━━━━━━━━━━━━━━━━━━━━━━━━━╇━━━━━━━━━━━━━━━━━━━━━━━━━━━━━╇━━━━━━━━━━━━━━━━━┩\n",
              "│ input_layer (\u001b[38;5;33mInputLayer\u001b[0m)             │ (\u001b[38;5;45mNone\u001b[0m, \u001b[38;5;34m101\u001b[0m, \u001b[38;5;34m100\u001b[0m, \u001b[38;5;34m16\u001b[0m)        │               \u001b[38;5;34m0\u001b[0m │\n",
              "├──────────────────────────────────────┼─────────────────────────────┼─────────────────┤\n",
              "│ conv2d_1 (\u001b[38;5;33mConv2D\u001b[0m)                    │ (\u001b[38;5;45mNone\u001b[0m, \u001b[38;5;34m46\u001b[0m, \u001b[38;5;34m46\u001b[0m, \u001b[38;5;34m8\u001b[0m)           │          \u001b[38;5;34m12,808\u001b[0m │\n",
              "├──────────────────────────────────────┼─────────────────────────────┼─────────────────┤\n",
              "│ dropout_1 (\u001b[38;5;33mDropout\u001b[0m)                  │ (\u001b[38;5;45mNone\u001b[0m, \u001b[38;5;34m46\u001b[0m, \u001b[38;5;34m46\u001b[0m, \u001b[38;5;34m8\u001b[0m)           │               \u001b[38;5;34m0\u001b[0m │\n",
              "├──────────────────────────────────────┼─────────────────────────────┼─────────────────┤\n",
              "│ max_pooling2d_1 (\u001b[38;5;33mMaxPooling2D\u001b[0m)       │ (\u001b[38;5;45mNone\u001b[0m, \u001b[38;5;34m15\u001b[0m, \u001b[38;5;34m15\u001b[0m, \u001b[38;5;34m8\u001b[0m)           │               \u001b[38;5;34m0\u001b[0m │\n",
              "├──────────────────────────────────────┼─────────────────────────────┼─────────────────┤\n",
              "│ layer_normalization_1                │ (\u001b[38;5;45mNone\u001b[0m, \u001b[38;5;34m15\u001b[0m, \u001b[38;5;34m15\u001b[0m, \u001b[38;5;34m8\u001b[0m)           │              \u001b[38;5;34m16\u001b[0m │\n",
              "│ (\u001b[38;5;33mLayerNormalization\u001b[0m)                 │                             │                 │\n",
              "├──────────────────────────────────────┼─────────────────────────────┼─────────────────┤\n",
              "│ conv2d_2 (\u001b[38;5;33mConv2D\u001b[0m)                    │ (\u001b[38;5;45mNone\u001b[0m, \u001b[38;5;34m1\u001b[0m, \u001b[38;5;34m1\u001b[0m, \u001b[38;5;34m1\u001b[0m)             │           \u001b[38;5;34m1,801\u001b[0m │\n",
              "├──────────────────────────────────────┼─────────────────────────────┼─────────────────┤\n",
              "│ flatten (\u001b[38;5;33mFlatten\u001b[0m)                    │ (\u001b[38;5;45mNone\u001b[0m, \u001b[38;5;34m1\u001b[0m)                   │               \u001b[38;5;34m0\u001b[0m │\n",
              "└──────────────────────────────────────┴─────────────────────────────┴─────────────────┘\n"
            ]
          },
          "metadata": {},
          "output_type": "display_data"
        },
        {
          "data": {
            "text/html": [
              "<pre style=\"white-space:pre;overflow-x:auto;line-height:normal;font-family:Menlo,'DejaVu Sans Mono',consolas,'Courier New',monospace\"><span style=\"font-weight: bold\"> Total params: </span><span style=\"color: #00af00; text-decoration-color: #00af00\">43,877</span> (171.40 KB)\n",
              "</pre>\n"
            ],
            "text/plain": [
              "\u001b[1m Total params: \u001b[0m\u001b[38;5;34m43,877\u001b[0m (171.40 KB)\n"
            ]
          },
          "metadata": {},
          "output_type": "display_data"
        },
        {
          "data": {
            "text/html": [
              "<pre style=\"white-space:pre;overflow-x:auto;line-height:normal;font-family:Menlo,'DejaVu Sans Mono',consolas,'Courier New',monospace\"><span style=\"font-weight: bold\"> Trainable params: </span><span style=\"color: #00af00; text-decoration-color: #00af00\">14,625</span> (57.13 KB)\n",
              "</pre>\n"
            ],
            "text/plain": [
              "\u001b[1m Trainable params: \u001b[0m\u001b[38;5;34m14,625\u001b[0m (57.13 KB)\n"
            ]
          },
          "metadata": {},
          "output_type": "display_data"
        },
        {
          "data": {
            "text/html": [
              "<pre style=\"white-space:pre;overflow-x:auto;line-height:normal;font-family:Menlo,'DejaVu Sans Mono',consolas,'Courier New',monospace\"><span style=\"font-weight: bold\"> Non-trainable params: </span><span style=\"color: #00af00; text-decoration-color: #00af00\">0</span> (0.00 B)\n",
              "</pre>\n"
            ],
            "text/plain": [
              "\u001b[1m Non-trainable params: \u001b[0m\u001b[38;5;34m0\u001b[0m (0.00 B)\n"
            ]
          },
          "metadata": {},
          "output_type": "display_data"
        },
        {
          "data": {
            "text/html": [
              "<pre style=\"white-space:pre;overflow-x:auto;line-height:normal;font-family:Menlo,'DejaVu Sans Mono',consolas,'Courier New',monospace\"><span style=\"font-weight: bold\"> Optimizer params: </span><span style=\"color: #00af00; text-decoration-color: #00af00\">29,252</span> (114.27 KB)\n",
              "</pre>\n"
            ],
            "text/plain": [
              "\u001b[1m Optimizer params: \u001b[0m\u001b[38;5;34m29,252\u001b[0m (114.27 KB)\n"
            ]
          },
          "metadata": {},
          "output_type": "display_data"
        }
      ],
      "source": [
        "ssa_model = keras.models.load_model(\"/content/drive/MyDrive/Colab Notebooks/ssa_model.keras\")\n",
        "ssa_model.summary()"
      ]
    },
    {
      "cell_type": "code",
      "execution_count": null,
      "metadata": {
        "colab": {
          "base_uri": "https://localhost:8080/",
          "height": 595
        },
        "id": "DZf0Mumnnklz",
        "outputId": "86d4d507-e489-47f0-de50-aee920bef703"
      },
      "outputs": [
        {
          "name": "stderr",
          "output_type": "stream",
          "text": [
            "/usr/local/lib/python3.11/dist-packages/keras/src/saving/saving_lib.py:757: UserWarning: Skipping variable loading for optimizer 'adam', because it has 94 variables whereas the saved optimizer has 62 variables. \n",
            "  saveable.load_own_variables(weights_store.get(inner_path))\n"
          ]
        },
        {
          "name": "stdout",
          "output_type": "stream",
          "text": [
            "Concatenated shape: (None, 3)\n",
            "Epoch 1/10:\n",
            "Training metrics: loss = 120.92408948262529, accuracy = 0.8969583333333355, TP = 6816.0, TN = 14711.0, FP = 1291.0, FN = 1182.0\n",
            "Validation metrics: loss = 6.1293788590329745, accuracy = 0.828789893617024, TP = 1924.0, TN = 3047.0, FP = 951.0, FN = 78.0\n",
            "Epoch 2/10:\n"
          ]
        },
        {
          "ename": "KeyboardInterrupt",
          "evalue": "",
          "output_type": "error",
          "traceback": [
            "\u001b[0;31m---------------------------------------------------------------------------\u001b[0m",
            "\u001b[0;31mKeyboardInterrupt\u001b[0m                         Traceback (most recent call last)",
            "\u001b[0;32msaved_model\u001b[0m in \u001b[0;36m<cell line: 0>\u001b[0;34m()\u001b[0m\n\u001b[1;32m    211\u001b[0m \u001b[0;31m# Assuming x_train is your input data\u001b[0m\u001b[0;34m\u001b[0m\u001b[0;34m\u001b[0m\u001b[0m\n\u001b[1;32m    212\u001b[0m \u001b[0mpredictor\u001b[0m\u001b[0;34m.\u001b[0m\u001b[0mload\u001b[0m\u001b[0;34m(\u001b[0m\u001b[0;34m)\u001b[0m\u001b[0;34m\u001b[0m\u001b[0;34m\u001b[0m\u001b[0m\n\u001b[0;32m--> 213\u001b[0;31m history = predictor.fit(\n\u001b[0m\u001b[1;32m    214\u001b[0m     \u001b[0mx_train\u001b[0m\u001b[0;34m,\u001b[0m\u001b[0;34m\u001b[0m\u001b[0;34m\u001b[0m\u001b[0m\n\u001b[1;32m    215\u001b[0m     \u001b[0my_train\u001b[0m\u001b[0;34m,\u001b[0m\u001b[0;34m\u001b[0m\u001b[0;34m\u001b[0m\u001b[0m\n",
            "\u001b[0;32msaved_model\u001b[0m in \u001b[0;36mfit\u001b[0;34m(self, x_train, y_train, epochs, validation_split, **kwargs)\u001b[0m\n\u001b[1;32m    114\u001b[0m           \u001b[0mX\u001b[0m \u001b[0;34m=\u001b[0m \u001b[0mnp\u001b[0m\u001b[0;34m.\u001b[0m\u001b[0mmoveaxis\u001b[0m\u001b[0;34m(\u001b[0m\u001b[0mX\u001b[0m\u001b[0;34m,\u001b[0m \u001b[0;34m-\u001b[0m\u001b[0;36m1\u001b[0m\u001b[0;34m,\u001b[0m \u001b[0;34m-\u001b[0m\u001b[0;36m3\u001b[0m\u001b[0;34m)\u001b[0m\u001b[0;34m\u001b[0m\u001b[0;34m\u001b[0m\u001b[0m\n\u001b[1;32m    115\u001b[0m \u001b[0;34m\u001b[0m\u001b[0m\n\u001b[0;32m--> 116\u001b[0;31m           \u001b[0mU\u001b[0m\u001b[0;34m,\u001b[0m \u001b[0mSigma\u001b[0m\u001b[0;34m,\u001b[0m \u001b[0mV\u001b[0m \u001b[0;34m=\u001b[0m \u001b[0mnp\u001b[0m\u001b[0;34m.\u001b[0m\u001b[0mlinalg\u001b[0m\u001b[0;34m.\u001b[0m\u001b[0msvd\u001b[0m\u001b[0;34m(\u001b[0m\u001b[0mX\u001b[0m\u001b[0;34m)\u001b[0m\u001b[0;34m\u001b[0m\u001b[0;34m\u001b[0m\u001b[0m\n\u001b[0m\u001b[1;32m    117\u001b[0m           \u001b[0mV\u001b[0m \u001b[0;34m=\u001b[0m \u001b[0mV\u001b[0m\u001b[0;34m.\u001b[0m\u001b[0mT\u001b[0m\u001b[0;34m\u001b[0m\u001b[0;34m\u001b[0m\u001b[0m\n\u001b[1;32m    118\u001b[0m \u001b[0;34m\u001b[0m\u001b[0m\n",
            "\u001b[0;32m/usr/local/lib/python3.11/dist-packages/numpy/linalg/linalg.py\u001b[0m in \u001b[0;36msvd\u001b[0;34m(a, full_matrices, compute_uv, hermitian)\u001b[0m\n\u001b[1;32m   1679\u001b[0m \u001b[0;34m\u001b[0m\u001b[0m\n\u001b[1;32m   1680\u001b[0m         \u001b[0msignature\u001b[0m \u001b[0;34m=\u001b[0m \u001b[0;34m'D->DdD'\u001b[0m \u001b[0;32mif\u001b[0m \u001b[0misComplexType\u001b[0m\u001b[0;34m(\u001b[0m\u001b[0mt\u001b[0m\u001b[0;34m)\u001b[0m \u001b[0;32melse\u001b[0m \u001b[0;34m'd->ddd'\u001b[0m\u001b[0;34m\u001b[0m\u001b[0;34m\u001b[0m\u001b[0m\n\u001b[0;32m-> 1681\u001b[0;31m         \u001b[0mu\u001b[0m\u001b[0;34m,\u001b[0m \u001b[0ms\u001b[0m\u001b[0;34m,\u001b[0m \u001b[0mvh\u001b[0m \u001b[0;34m=\u001b[0m \u001b[0mgufunc\u001b[0m\u001b[0;34m(\u001b[0m\u001b[0ma\u001b[0m\u001b[0;34m,\u001b[0m \u001b[0msignature\u001b[0m\u001b[0;34m=\u001b[0m\u001b[0msignature\u001b[0m\u001b[0;34m,\u001b[0m \u001b[0mextobj\u001b[0m\u001b[0;34m=\u001b[0m\u001b[0mextobj\u001b[0m\u001b[0;34m)\u001b[0m\u001b[0;34m\u001b[0m\u001b[0;34m\u001b[0m\u001b[0m\n\u001b[0m\u001b[1;32m   1682\u001b[0m         \u001b[0mu\u001b[0m \u001b[0;34m=\u001b[0m \u001b[0mu\u001b[0m\u001b[0;34m.\u001b[0m\u001b[0mastype\u001b[0m\u001b[0;34m(\u001b[0m\u001b[0mresult_t\u001b[0m\u001b[0;34m,\u001b[0m \u001b[0mcopy\u001b[0m\u001b[0;34m=\u001b[0m\u001b[0;32mFalse\u001b[0m\u001b[0;34m)\u001b[0m\u001b[0;34m\u001b[0m\u001b[0;34m\u001b[0m\u001b[0m\n\u001b[1;32m   1683\u001b[0m         \u001b[0ms\u001b[0m \u001b[0;34m=\u001b[0m \u001b[0ms\u001b[0m\u001b[0;34m.\u001b[0m\u001b[0mastype\u001b[0m\u001b[0;34m(\u001b[0m\u001b[0m_realType\u001b[0m\u001b[0;34m(\u001b[0m\u001b[0mresult_t\u001b[0m\u001b[0;34m)\u001b[0m\u001b[0;34m,\u001b[0m \u001b[0mcopy\u001b[0m\u001b[0;34m=\u001b[0m\u001b[0;32mFalse\u001b[0m\u001b[0;34m)\u001b[0m\u001b[0;34m\u001b[0m\u001b[0;34m\u001b[0m\u001b[0m\n",
            "\u001b[0;31mKeyboardInterrupt\u001b[0m: "
          ]
        }
      ],
      "source": [
        "class Model:\n",
        "    def __init__(self):\n",
        "        super().__init__()\n",
        "\n",
        "    def model_combinator(self, transformer_inputs, cov_inputs, ssa_inputs, dropout, l1):\n",
        "      x = layers.Concatenate(axis=1)([transformer_inputs, cov_inputs, ssa_inputs])\n",
        "      print(f\"Concatenated shape: {x.shape}\")\n",
        "      x = layers.Dropout(dropout)(x)\n",
        "      x = layers.LayerNormalization(epsilon=1e-6)(x)\n",
        "      x = layers.Dense(8, activation=\"relu\", kernel_regularizer=regularizers.L1(l1))(x)\n",
        "      x = layers.Dropout(dropout)(x)\n",
        "      x = layers.LayerNormalization(epsilon=1e-6)(x)\n",
        "      x = layers.Dense(1, activation=\"sigmoid\", kernel_regularizer=regularizers.L1(l1))(x)\n",
        "      return x\n",
        "\n",
        "    def build_model(self, transformer_input_shape, cov_input_shape, ssa_input_shape, dropout=0, l1=0):\n",
        "        transformer_inputs = keras.Input(shape=transformer_input_shape)\n",
        "        cov_inputs = keras.Input(shape=cov_input_shape)\n",
        "        ssa_inputs = keras.Input(shape=ssa_input_shape)\n",
        "\n",
        "        self.transformer_model = keras.models.load_model(\"/content/drive/MyDrive/Colab Notebooks/transformer_model.keras\")\n",
        "        self.cov_model = keras.models.load_model(\"/content/drive/MyDrive/Colab Notebooks/cov_model.keras\")\n",
        "        self.ssa_model = keras.models.load_model(\"/content/drive/MyDrive/Colab Notebooks/ssa_model.keras\")\n",
        "\n",
        "        for layer in self.transformer_model.layers:\n",
        "          if isinstance(layer, layers.Dense) or isinstance(layer, layers.Conv1D) or isinstance(layer, layers.MultiHeadAttention):\n",
        "            layer.kernel_regularizer = regularizers.L1(l1)\n",
        "        self.transformer_model.layers[-1].activation = keras.activations.linear\n",
        "        self.transformer_model.name = 'transformer_model'\n",
        "        self.transformer_model.compile()\n",
        "\n",
        "        for layer in self.cov_model.layers:\n",
        "          if isinstance(layer, layers.Conv2D):\n",
        "            layer.kernel_regularizer = regularizers.L1(l1)\n",
        "        self.cov_model.layers[-2].activation = keras.activations.linear\n",
        "        self.cov_model.name = 'covariance_model'\n",
        "        self.cov_model.compile()\n",
        "\n",
        "        for layer in self.ssa_model.layers:\n",
        "          if isinstance(layer, layers.Conv2D):\n",
        "            layer.kernel_regularizer = regularizers.L1(l1)\n",
        "        self.ssa_model.layers[-2].activation = keras.activations.linear\n",
        "        self.ssa_model.name = 'ssa_model'\n",
        "        self.ssa_model.compile()\n",
        "\n",
        "        transformer_outputs = self.transformer_model(transformer_inputs)\n",
        "        cov_outputs = self.cov_model(cov_inputs)\n",
        "        ssa_outputs = self.ssa_model(ssa_inputs)\n",
        "        outputs = self.model_combinator(transformer_outputs, cov_outputs, ssa_outputs, dropout, l1)\n",
        "\n",
        "        metrics = [tf.keras.metrics.BinaryAccuracy(name='accuracy'),\n",
        "                   keras.metrics.TruePositives(name='tp'),\n",
        "                   keras.metrics.FalsePositives(name='fp'),\n",
        "                   keras.metrics.TrueNegatives(name='tn'),\n",
        "                   keras.metrics.FalseNegatives(name='fn')]\n",
        "\n",
        "        self.model = keras.Model(inputs=[transformer_inputs, cov_inputs, ssa_inputs], outputs=outputs)\n",
        "        self.model.compile(loss='binary_crossentropy', optimizer=keras.optimizers.Adam(learning_rate=1e-4),\n",
        "                           metrics=metrics)\n",
        "\n",
        "    def predict(self, X, batch_size=32):\n",
        "        return np.where(self.model.predict(X, batch_size=batch_size) >= 0.5, 1, 0)\n",
        "\n",
        "    def __call__(self, inputs, batch_size=64):\n",
        "        return self.model.predict(inputs, batch_size=batch_size)\n",
        "\n",
        "    def save(self, path):\n",
        "        self.model.save(os.path.join(os.path.dirname(__file__), 'model.keras'))\n",
        "\n",
        "    def load(self):\n",
        "        self.model = keras.models.load_model(os.path.join(os.path.dirname(__file__), 'model.keras'))\n",
        "\n",
        "    def fit(self, x_train, y_train, epochs=1, validation_split=0.0, **kwargs):\n",
        "      L = 100 # The window length.\n",
        "      K = x_train.shape[1] - L + 1\n",
        "\n",
        "      if validation_split > 0:\n",
        "        x_train, x_val, y_train, y_val = train_test_split(\n",
        "            data, labels, test_size=validation_split, random_state=42)\n",
        "\n",
        "      if 'batch_size' in kwargs:\n",
        "        batch_size = kwargs['batch_size']\n",
        "      else:\n",
        "        batch_size = 1\n",
        "\n",
        "      if 'num_components' in kwargs:\n",
        "        num_components = kwargs['num_components']\n",
        "      else:\n",
        "        num_components = 8\n",
        "\n",
        "      for i in range(epochs):\n",
        "        print(f\"Epoch {i + 1}/{epochs}:\")\n",
        "        num_batches = int(np.ceil(x_train.shape[0]/batch_size))\n",
        "        training_metrics = np.zeros(6)\n",
        "        batch_index = 0\n",
        "        training_loss = 0.0\n",
        "        training_accuracy = 0.0\n",
        "        training_tp = 0.0\n",
        "        training_tn = 0.0\n",
        "        training_fp = 0.0\n",
        "        training_fn = 0.0\n",
        "        val_loss = 0.0\n",
        "        val_accuracy = 0.0\n",
        "        val_tp = 0.0\n",
        "        val_tn = 0.0\n",
        "        val_fp = 0.0\n",
        "        val_fn = 0.0\n",
        "\n",
        "        for batch_number in range(num_batches):\n",
        "          batch_x, batch_y = x_train[batch_index:min(batch_index + batch_size, x_train.shape[0])], y_train[batch_index:min(batch_index + batch_size, y_train.shape[0])]\n",
        "\n",
        "          X = np.stack([batch_x[:, i:i+L] for i in range(0,K)], axis=1)\n",
        "\n",
        "          X = np.moveaxis(X, -1, -3)\n",
        "\n",
        "          U, Sigma, V = np.linalg.svd(X)\n",
        "          V = V.T\n",
        "\n",
        "          svd_matrix_list = []\n",
        "\n",
        "          cov_matrix_list = []\n",
        "\n",
        "          for j in range(batch_x.shape[0]):\n",
        "            cov_matrix_list.append(np.cov(batch_x[j]))\n",
        "\n",
        "            batch_svd = []\n",
        "            for z in range(0, num_components):\n",
        "              batch_svd.extend([Sigma[j, 0, z] * np.outer(U[j, 0, :,z], V[:,z, 0, j]), Sigma[j, 1, z] * np.outer(U[j, 1, :,z], V[:,z, 1, j])])\n",
        "\n",
        "            svd_matrix_list.append(np.array(batch_svd))\n",
        "\n",
        "          cov_matrix = np.stack(cov_matrix_list)[:, :, :, np.newaxis]\n",
        "\n",
        "          svd_matrix = np.moveaxis(np.stack(svd_matrix_list), -3, -1)\n",
        "\n",
        "          # print(f\"Processing batch {batch_number + 1}/{num_batches}\")\n",
        "          training_metrics = self.model.train_on_batch(x=[batch_x, cov_matrix, svd_matrix], y=batch_y, class_weight={0:0.67, 1:1.33}, return_dict=True)\n",
        "          training_loss += training_metrics['loss']/num_batches\n",
        "          training_accuracy += training_metrics['accuracy']/num_batches\n",
        "          training_tp += training_metrics['tp']\n",
        "          training_tn += training_metrics['tn']\n",
        "          training_fp += training_metrics['fp']\n",
        "          training_fn += training_metrics['fn']\n",
        "          batch_index += batch_size\n",
        "\n",
        "          self.model.reset_metrics()\n",
        "\n",
        "        print(f\"Training metrics: loss = {training_loss}, accuracy = {training_accuracy}, TP = {training_tp}, TN = {training_tn}, FP = {training_fp}, FN = {training_fn}\")\n",
        "\n",
        "        num_batches = int(np.ceil(x_val.shape[0]/batch_size))\n",
        "        val_metrics = np.zeros(6)\n",
        "        batch_index = 0\n",
        "        for batch_number in range(num_batches):\n",
        "          batch_x, batch_y = x_val[batch_index:min(batch_index + batch_size, x_val.shape[0])], y_val[batch_index:min(batch_index + batch_size, y_val.shape[0])]\n",
        "          X = np.stack([batch_x[:, i:i+L] for i in range(0,K)], axis=1)\n",
        "\n",
        "          X = np.moveaxis(X, -1, -3)\n",
        "\n",
        "          U, Sigma, V = np.linalg.svd(X)\n",
        "          V = V.T\n",
        "\n",
        "          svd_matrix_list = []\n",
        "\n",
        "          cov_matrix_list = []\n",
        "\n",
        "          for j in range(batch_x.shape[0]):\n",
        "            cov_matrix_list.append(np.cov(batch_x[j]))\n",
        "\n",
        "            batch_svd = []\n",
        "            for z in range(0, num_components):\n",
        "              batch_svd.extend([Sigma[j, 0, z] * np.outer(U[j, 0, :,z], V[:,z, 0, j]), Sigma[j, 1, z] * np.outer(U[j, 1, :,z], V[:,z, 1, j])])\n",
        "\n",
        "            svd_matrix_list.append(np.array(batch_svd))\n",
        "\n",
        "          cov_matrix = np.stack(cov_matrix_list)[:, :, :, np.newaxis]\n",
        "\n",
        "          svd_matrix = np.moveaxis(np.stack(svd_matrix_list), -3, -1)\n",
        "\n",
        "          val_metrics = self.model.test_on_batch(x=[batch_x, cov_matrix, svd_matrix], y=batch_y, return_dict=True)\n",
        "          val_loss += val_metrics['loss']/num_batches\n",
        "          val_accuracy += val_metrics['accuracy']/num_batches\n",
        "          val_tp += val_metrics['tp']\n",
        "          val_tn += val_metrics['tn']\n",
        "          val_fp += val_metrics['fp']\n",
        "          val_fn += val_metrics['fn']\n",
        "          batch_index += batch_size\n",
        "\n",
        "          self.model.reset_metrics()\n",
        "\n",
        "        print(f\"Validation metrics: loss = {val_loss}, accuracy = {val_accuracy}, TP = {val_tp}, TN = {val_tn}, FP = {val_fp}, FN = {val_fn}\")\n",
        "\n",
        "      return training_metrics, val_metrics\n",
        "\n",
        "# Example usage:\n",
        "transformer_input_shape = (200, 2)\n",
        "cov_input_shape = (200, 200, 1)\n",
        "ssa_input_shape = (101, 100, 16)\n",
        "dropout = 0.1\n",
        "l1 = 0.1\n",
        "\n",
        "# build the model\n",
        "predictor = Model()\n",
        "predictor.build_model(\n",
        "    transformer_input_shape=transformer_input_shape,\n",
        "    cov_input_shape=cov_input_shape,\n",
        "    ssa_input_shape=ssa_input_shape,\n",
        "    dropout=dropout,\n",
        "    l1=l1\n",
        ")\n",
        "\n",
        "# Assuming x_train is your input data\n",
        "predictor.load()\n",
        "history = predictor.fit(\n",
        "    x_train,\n",
        "    y_train,\n",
        "    epochs=10,\n",
        "    validation_split=0.2,\n",
        "    batch_size=32,\n",
        "    callbacks=[keras.callbacks.EarlyStopping(patience=10, restore_best_weights=True)]\n",
        ")"
      ]
    },
    {
      "cell_type": "code",
      "execution_count": null,
      "metadata": {
        "id": "m0wcYUDyIlyl"
      },
      "outputs": [],
      "source": [
        "__file__='saved_model'\n",
        "!mkdir -p saved_model\n",
        "predictor.save('')"
      ]
    },
    {
      "cell_type": "code",
      "execution_count": null,
      "metadata": {
        "colab": {
          "base_uri": "https://localhost:8080/",
          "height": 794
        },
        "id": "XJ9bvBIQTg3E",
        "outputId": "d33b3d13-5c82-4aa9-9b32-32cabf928632"
      },
      "outputs": [
        {
          "name": "stderr",
          "output_type": "stream",
          "text": [
            "/usr/local/lib/python3.11/dist-packages/keras/src/saving/saving_lib.py:757: UserWarning: Skipping variable loading for optimizer 'rmsprop', because it has 48 variables whereas the saved optimizer has 2 variables. \n",
            "  saveable.load_own_variables(weights_store.get(inner_path))\n",
            "/usr/local/lib/python3.11/dist-packages/keras/src/saving/saving_lib.py:757: UserWarning: Skipping variable loading for optimizer 'rmsprop', because it has 8 variables whereas the saved optimizer has 2 variables. \n",
            "  saveable.load_own_variables(weights_store.get(inner_path))\n"
          ]
        },
        {
          "data": {
            "text/html": [
              "<pre style=\"white-space:pre;overflow-x:auto;line-height:normal;font-family:Menlo,'DejaVu Sans Mono',consolas,'Courier New',monospace\"><span style=\"font-weight: bold\">Model: \"functional_1\"</span>\n",
              "</pre>\n"
            ],
            "text/plain": [
              "\u001b[1mModel: \"functional_1\"\u001b[0m\n"
            ]
          },
          "metadata": {},
          "output_type": "display_data"
        },
        {
          "data": {
            "text/html": [
              "<pre style=\"white-space:pre;overflow-x:auto;line-height:normal;font-family:Menlo,'DejaVu Sans Mono',consolas,'Courier New',monospace\">┏━━━━━━━━━━━━━━━━━━━━━━━━━━━┳━━━━━━━━━━━━━━━━━━━━━━━━┳━━━━━━━━━━━━━━━━┳━━━━━━━━━━━━━━━━━━━━━━━━┓\n",
              "┃<span style=\"font-weight: bold\"> Layer (type)              </span>┃<span style=\"font-weight: bold\"> Output Shape           </span>┃<span style=\"font-weight: bold\">        Param # </span>┃<span style=\"font-weight: bold\"> Connected to           </span>┃\n",
              "┡━━━━━━━━━━━━━━━━━━━━━━━━━━━╇━━━━━━━━━━━━━━━━━━━━━━━━╇━━━━━━━━━━━━━━━━╇━━━━━━━━━━━━━━━━━━━━━━━━┩\n",
              "│ input_layer_3             │ (<span style=\"color: #00d7ff; text-decoration-color: #00d7ff\">None</span>, <span style=\"color: #00af00; text-decoration-color: #00af00\">200</span>, <span style=\"color: #00af00; text-decoration-color: #00af00\">2</span>)         │              <span style=\"color: #00af00; text-decoration-color: #00af00\">0</span> │ -                      │\n",
              "│ (<span style=\"color: #0087ff; text-decoration-color: #0087ff\">InputLayer</span>)              │                        │                │                        │\n",
              "├───────────────────────────┼────────────────────────┼────────────────┼────────────────────────┤\n",
              "│ input_layer_4             │ (<span style=\"color: #00d7ff; text-decoration-color: #00d7ff\">None</span>, <span style=\"color: #00af00; text-decoration-color: #00af00\">200</span>, <span style=\"color: #00af00; text-decoration-color: #00af00\">200</span>, <span style=\"color: #00af00; text-decoration-color: #00af00\">1</span>)    │              <span style=\"color: #00af00; text-decoration-color: #00af00\">0</span> │ -                      │\n",
              "│ (<span style=\"color: #0087ff; text-decoration-color: #0087ff\">InputLayer</span>)              │                        │                │                        │\n",
              "├───────────────────────────┼────────────────────────┼────────────────┼────────────────────────┤\n",
              "│ input_layer_5             │ (<span style=\"color: #00d7ff; text-decoration-color: #00d7ff\">None</span>, <span style=\"color: #00af00; text-decoration-color: #00af00\">101</span>, <span style=\"color: #00af00; text-decoration-color: #00af00\">100</span>, <span style=\"color: #00af00; text-decoration-color: #00af00\">16</span>)   │              <span style=\"color: #00af00; text-decoration-color: #00af00\">0</span> │ -                      │\n",
              "│ (<span style=\"color: #0087ff; text-decoration-color: #0087ff\">InputLayer</span>)              │                        │                │                        │\n",
              "├───────────────────────────┼────────────────────────┼────────────────┼────────────────────────┤\n",
              "│ transformer_model         │ (<span style=\"color: #00d7ff; text-decoration-color: #00d7ff\">None</span>, <span style=\"color: #00af00; text-decoration-color: #00af00\">1</span>)              │        <span style=\"color: #00af00; text-decoration-color: #00af00\">148,249</span> │ input_layer_3[<span style=\"color: #00af00; text-decoration-color: #00af00\">0</span>][<span style=\"color: #00af00; text-decoration-color: #00af00\">0</span>]    │\n",
              "│ (<span style=\"color: #0087ff; text-decoration-color: #0087ff\">Functional</span>)              │                        │                │                        │\n",
              "├───────────────────────────┼────────────────────────┼────────────────┼────────────────────────┤\n",
              "│ covariance_model          │ (<span style=\"color: #00d7ff; text-decoration-color: #00d7ff\">None</span>, <span style=\"color: #00af00; text-decoration-color: #00af00\">1</span>)              │          <span style=\"color: #00af00; text-decoration-color: #00af00\">4,377</span> │ input_layer_4[<span style=\"color: #00af00; text-decoration-color: #00af00\">0</span>][<span style=\"color: #00af00; text-decoration-color: #00af00\">0</span>]    │\n",
              "│ (<span style=\"color: #0087ff; text-decoration-color: #0087ff\">Functional</span>)              │                        │                │                        │\n",
              "├───────────────────────────┼────────────────────────┼────────────────┼────────────────────────┤\n",
              "│ ssa_model (<span style=\"color: #0087ff; text-decoration-color: #0087ff\">Functional</span>)    │ (<span style=\"color: #00d7ff; text-decoration-color: #00d7ff\">None</span>, <span style=\"color: #00af00; text-decoration-color: #00af00\">1</span>)              │         <span style=\"color: #00af00; text-decoration-color: #00af00\">14,625</span> │ input_layer_5[<span style=\"color: #00af00; text-decoration-color: #00af00\">0</span>][<span style=\"color: #00af00; text-decoration-color: #00af00\">0</span>]    │\n",
              "├───────────────────────────┼────────────────────────┼────────────────┼────────────────────────┤\n",
              "│ concatenate_1             │ (<span style=\"color: #00d7ff; text-decoration-color: #00d7ff\">None</span>, <span style=\"color: #00af00; text-decoration-color: #00af00\">3</span>)              │              <span style=\"color: #00af00; text-decoration-color: #00af00\">0</span> │ transformer_model[<span style=\"color: #00af00; text-decoration-color: #00af00\">0</span>][<span style=\"color: #00af00; text-decoration-color: #00af00\">…</span> │\n",
              "│ (<span style=\"color: #0087ff; text-decoration-color: #0087ff\">Concatenate</span>)             │                        │                │ covariance_model[<span style=\"color: #00af00; text-decoration-color: #00af00\">0</span>][<span style=\"color: #00af00; text-decoration-color: #00af00\">0</span>… │\n",
              "│                           │                        │                │ ssa_model[<span style=\"color: #00af00; text-decoration-color: #00af00\">0</span>][<span style=\"color: #00af00; text-decoration-color: #00af00\">0</span>]        │\n",
              "├───────────────────────────┼────────────────────────┼────────────────┼────────────────────────┤\n",
              "│ dropout_6 (<span style=\"color: #0087ff; text-decoration-color: #0087ff\">Dropout</span>)       │ (<span style=\"color: #00d7ff; text-decoration-color: #00d7ff\">None</span>, <span style=\"color: #00af00; text-decoration-color: #00af00\">3</span>)              │              <span style=\"color: #00af00; text-decoration-color: #00af00\">0</span> │ concatenate_1[<span style=\"color: #00af00; text-decoration-color: #00af00\">0</span>][<span style=\"color: #00af00; text-decoration-color: #00af00\">0</span>]    │\n",
              "├───────────────────────────┼────────────────────────┼────────────────┼────────────────────────┤\n",
              "│ layer_normalization_2     │ (<span style=\"color: #00d7ff; text-decoration-color: #00d7ff\">None</span>, <span style=\"color: #00af00; text-decoration-color: #00af00\">3</span>)              │              <span style=\"color: #00af00; text-decoration-color: #00af00\">6</span> │ dropout_6[<span style=\"color: #00af00; text-decoration-color: #00af00\">0</span>][<span style=\"color: #00af00; text-decoration-color: #00af00\">0</span>]        │\n",
              "│ (<span style=\"color: #0087ff; text-decoration-color: #0087ff\">LayerNormalization</span>)      │                        │                │                        │\n",
              "├───────────────────────────┼────────────────────────┼────────────────┼────────────────────────┤\n",
              "│ dense_2 (<span style=\"color: #0087ff; text-decoration-color: #0087ff\">Dense</span>)           │ (<span style=\"color: #00d7ff; text-decoration-color: #00d7ff\">None</span>, <span style=\"color: #00af00; text-decoration-color: #00af00\">8</span>)              │             <span style=\"color: #00af00; text-decoration-color: #00af00\">32</span> │ layer_normalization_2… │\n",
              "├───────────────────────────┼────────────────────────┼────────────────┼────────────────────────┤\n",
              "│ dropout_7 (<span style=\"color: #0087ff; text-decoration-color: #0087ff\">Dropout</span>)       │ (<span style=\"color: #00d7ff; text-decoration-color: #00d7ff\">None</span>, <span style=\"color: #00af00; text-decoration-color: #00af00\">8</span>)              │              <span style=\"color: #00af00; text-decoration-color: #00af00\">0</span> │ dense_2[<span style=\"color: #00af00; text-decoration-color: #00af00\">0</span>][<span style=\"color: #00af00; text-decoration-color: #00af00\">0</span>]          │\n",
              "├───────────────────────────┼────────────────────────┼────────────────┼────────────────────────┤\n",
              "│ layer_normalization_3     │ (<span style=\"color: #00d7ff; text-decoration-color: #00d7ff\">None</span>, <span style=\"color: #00af00; text-decoration-color: #00af00\">8</span>)              │             <span style=\"color: #00af00; text-decoration-color: #00af00\">16</span> │ dropout_7[<span style=\"color: #00af00; text-decoration-color: #00af00\">0</span>][<span style=\"color: #00af00; text-decoration-color: #00af00\">0</span>]        │\n",
              "│ (<span style=\"color: #0087ff; text-decoration-color: #0087ff\">LayerNormalization</span>)      │                        │                │                        │\n",
              "├───────────────────────────┼────────────────────────┼────────────────┼────────────────────────┤\n",
              "│ dense_3 (<span style=\"color: #0087ff; text-decoration-color: #0087ff\">Dense</span>)           │ (<span style=\"color: #00d7ff; text-decoration-color: #00d7ff\">None</span>, <span style=\"color: #00af00; text-decoration-color: #00af00\">1</span>)              │              <span style=\"color: #00af00; text-decoration-color: #00af00\">9</span> │ layer_normalization_3… │\n",
              "└───────────────────────────┴────────────────────────┴────────────────┴────────────────────────┘\n",
              "</pre>\n"
            ],
            "text/plain": [
              "┏━━━━━━━━━━━━━━━━━━━━━━━━━━━┳━━━━━━━━━━━━━━━━━━━━━━━━┳━━━━━━━━━━━━━━━━┳━━━━━━━━━━━━━━━━━━━━━━━━┓\n",
              "┃\u001b[1m \u001b[0m\u001b[1mLayer (type)             \u001b[0m\u001b[1m \u001b[0m┃\u001b[1m \u001b[0m\u001b[1mOutput Shape          \u001b[0m\u001b[1m \u001b[0m┃\u001b[1m \u001b[0m\u001b[1m       Param #\u001b[0m\u001b[1m \u001b[0m┃\u001b[1m \u001b[0m\u001b[1mConnected to          \u001b[0m\u001b[1m \u001b[0m┃\n",
              "┡━━━━━━━━━━━━━━━━━━━━━━━━━━━╇━━━━━━━━━━━━━━━━━━━━━━━━╇━━━━━━━━━━━━━━━━╇━━━━━━━━━━━━━━━━━━━━━━━━┩\n",
              "│ input_layer_3             │ (\u001b[38;5;45mNone\u001b[0m, \u001b[38;5;34m200\u001b[0m, \u001b[38;5;34m2\u001b[0m)         │              \u001b[38;5;34m0\u001b[0m │ -                      │\n",
              "│ (\u001b[38;5;33mInputLayer\u001b[0m)              │                        │                │                        │\n",
              "├───────────────────────────┼────────────────────────┼────────────────┼────────────────────────┤\n",
              "│ input_layer_4             │ (\u001b[38;5;45mNone\u001b[0m, \u001b[38;5;34m200\u001b[0m, \u001b[38;5;34m200\u001b[0m, \u001b[38;5;34m1\u001b[0m)    │              \u001b[38;5;34m0\u001b[0m │ -                      │\n",
              "│ (\u001b[38;5;33mInputLayer\u001b[0m)              │                        │                │                        │\n",
              "├───────────────────────────┼────────────────────────┼────────────────┼────────────────────────┤\n",
              "│ input_layer_5             │ (\u001b[38;5;45mNone\u001b[0m, \u001b[38;5;34m101\u001b[0m, \u001b[38;5;34m100\u001b[0m, \u001b[38;5;34m16\u001b[0m)   │              \u001b[38;5;34m0\u001b[0m │ -                      │\n",
              "│ (\u001b[38;5;33mInputLayer\u001b[0m)              │                        │                │                        │\n",
              "├───────────────────────────┼────────────────────────┼────────────────┼────────────────────────┤\n",
              "│ transformer_model         │ (\u001b[38;5;45mNone\u001b[0m, \u001b[38;5;34m1\u001b[0m)              │        \u001b[38;5;34m148,249\u001b[0m │ input_layer_3[\u001b[38;5;34m0\u001b[0m][\u001b[38;5;34m0\u001b[0m]    │\n",
              "│ (\u001b[38;5;33mFunctional\u001b[0m)              │                        │                │                        │\n",
              "├───────────────────────────┼────────────────────────┼────────────────┼────────────────────────┤\n",
              "│ covariance_model          │ (\u001b[38;5;45mNone\u001b[0m, \u001b[38;5;34m1\u001b[0m)              │          \u001b[38;5;34m4,377\u001b[0m │ input_layer_4[\u001b[38;5;34m0\u001b[0m][\u001b[38;5;34m0\u001b[0m]    │\n",
              "│ (\u001b[38;5;33mFunctional\u001b[0m)              │                        │                │                        │\n",
              "├───────────────────────────┼────────────────────────┼────────────────┼────────────────────────┤\n",
              "│ ssa_model (\u001b[38;5;33mFunctional\u001b[0m)    │ (\u001b[38;5;45mNone\u001b[0m, \u001b[38;5;34m1\u001b[0m)              │         \u001b[38;5;34m14,625\u001b[0m │ input_layer_5[\u001b[38;5;34m0\u001b[0m][\u001b[38;5;34m0\u001b[0m]    │\n",
              "├───────────────────────────┼────────────────────────┼────────────────┼────────────────────────┤\n",
              "│ concatenate_1             │ (\u001b[38;5;45mNone\u001b[0m, \u001b[38;5;34m3\u001b[0m)              │              \u001b[38;5;34m0\u001b[0m │ transformer_model[\u001b[38;5;34m0\u001b[0m][\u001b[38;5;34m…\u001b[0m │\n",
              "│ (\u001b[38;5;33mConcatenate\u001b[0m)             │                        │                │ covariance_model[\u001b[38;5;34m0\u001b[0m][\u001b[38;5;34m0\u001b[0m… │\n",
              "│                           │                        │                │ ssa_model[\u001b[38;5;34m0\u001b[0m][\u001b[38;5;34m0\u001b[0m]        │\n",
              "├───────────────────────────┼────────────────────────┼────────────────┼────────────────────────┤\n",
              "│ dropout_6 (\u001b[38;5;33mDropout\u001b[0m)       │ (\u001b[38;5;45mNone\u001b[0m, \u001b[38;5;34m3\u001b[0m)              │              \u001b[38;5;34m0\u001b[0m │ concatenate_1[\u001b[38;5;34m0\u001b[0m][\u001b[38;5;34m0\u001b[0m]    │\n",
              "├───────────────────────────┼────────────────────────┼────────────────┼────────────────────────┤\n",
              "│ layer_normalization_2     │ (\u001b[38;5;45mNone\u001b[0m, \u001b[38;5;34m3\u001b[0m)              │              \u001b[38;5;34m6\u001b[0m │ dropout_6[\u001b[38;5;34m0\u001b[0m][\u001b[38;5;34m0\u001b[0m]        │\n",
              "│ (\u001b[38;5;33mLayerNormalization\u001b[0m)      │                        │                │                        │\n",
              "├───────────────────────────┼────────────────────────┼────────────────┼────────────────────────┤\n",
              "│ dense_2 (\u001b[38;5;33mDense\u001b[0m)           │ (\u001b[38;5;45mNone\u001b[0m, \u001b[38;5;34m8\u001b[0m)              │             \u001b[38;5;34m32\u001b[0m │ layer_normalization_2… │\n",
              "├───────────────────────────┼────────────────────────┼────────────────┼────────────────────────┤\n",
              "│ dropout_7 (\u001b[38;5;33mDropout\u001b[0m)       │ (\u001b[38;5;45mNone\u001b[0m, \u001b[38;5;34m8\u001b[0m)              │              \u001b[38;5;34m0\u001b[0m │ dense_2[\u001b[38;5;34m0\u001b[0m][\u001b[38;5;34m0\u001b[0m]          │\n",
              "├───────────────────────────┼────────────────────────┼────────────────┼────────────────────────┤\n",
              "│ layer_normalization_3     │ (\u001b[38;5;45mNone\u001b[0m, \u001b[38;5;34m8\u001b[0m)              │             \u001b[38;5;34m16\u001b[0m │ dropout_7[\u001b[38;5;34m0\u001b[0m][\u001b[38;5;34m0\u001b[0m]        │\n",
              "│ (\u001b[38;5;33mLayerNormalization\u001b[0m)      │                        │                │                        │\n",
              "├───────────────────────────┼────────────────────────┼────────────────┼────────────────────────┤\n",
              "│ dense_3 (\u001b[38;5;33mDense\u001b[0m)           │ (\u001b[38;5;45mNone\u001b[0m, \u001b[38;5;34m1\u001b[0m)              │              \u001b[38;5;34m9\u001b[0m │ layer_normalization_3… │\n",
              "└───────────────────────────┴────────────────────────┴────────────────┴────────────────────────┘\n"
            ]
          },
          "metadata": {},
          "output_type": "display_data"
        },
        {
          "data": {
            "text/html": [
              "<pre style=\"white-space:pre;overflow-x:auto;line-height:normal;font-family:Menlo,'DejaVu Sans Mono',consolas,'Courier New',monospace\"><span style=\"font-weight: bold\"> Total params: </span><span style=\"color: #00af00; text-decoration-color: #00af00\">501,944</span> (1.91 MB)\n",
              "</pre>\n"
            ],
            "text/plain": [
              "\u001b[1m Total params: \u001b[0m\u001b[38;5;34m501,944\u001b[0m (1.91 MB)\n"
            ]
          },
          "metadata": {},
          "output_type": "display_data"
        },
        {
          "data": {
            "text/html": [
              "<pre style=\"white-space:pre;overflow-x:auto;line-height:normal;font-family:Menlo,'DejaVu Sans Mono',consolas,'Courier New',monospace\"><span style=\"font-weight: bold\"> Trainable params: </span><span style=\"color: #00af00; text-decoration-color: #00af00\">167,314</span> (653.57 KB)\n",
              "</pre>\n"
            ],
            "text/plain": [
              "\u001b[1m Trainable params: \u001b[0m\u001b[38;5;34m167,314\u001b[0m (653.57 KB)\n"
            ]
          },
          "metadata": {},
          "output_type": "display_data"
        },
        {
          "data": {
            "text/html": [
              "<pre style=\"white-space:pre;overflow-x:auto;line-height:normal;font-family:Menlo,'DejaVu Sans Mono',consolas,'Courier New',monospace\"><span style=\"font-weight: bold\"> Non-trainable params: </span><span style=\"color: #00af00; text-decoration-color: #00af00\">0</span> (0.00 B)\n",
              "</pre>\n"
            ],
            "text/plain": [
              "\u001b[1m Non-trainable params: \u001b[0m\u001b[38;5;34m0\u001b[0m (0.00 B)\n"
            ]
          },
          "metadata": {},
          "output_type": "display_data"
        },
        {
          "data": {
            "text/html": [
              "<pre style=\"white-space:pre;overflow-x:auto;line-height:normal;font-family:Menlo,'DejaVu Sans Mono',consolas,'Courier New',monospace\"><span style=\"font-weight: bold\"> Optimizer params: </span><span style=\"color: #00af00; text-decoration-color: #00af00\">334,630</span> (1.28 MB)\n",
              "</pre>\n"
            ],
            "text/plain": [
              "\u001b[1m Optimizer params: \u001b[0m\u001b[38;5;34m334,630\u001b[0m (1.28 MB)\n"
            ]
          },
          "metadata": {},
          "output_type": "display_data"
        }
      ],
      "source": [
        "final_model = keras.models.load_model(\"/content/drive/MyDrive/Colab Notebooks/final_model.keras\")\n",
        "final_model.summary()"
      ]
    },
    {
      "cell_type": "code",
      "execution_count": null,
      "metadata": {
        "id": "vHWPMeleWKVO"
      },
      "outputs": [],
      "source": [
        "def evaluate(model, eval_x, eval_y, batch_size=32):\n",
        "  L = 100 # The window length.\n",
        "  K = x_train.shape[1] - L + 1\n",
        "\n",
        "  num_batches = int(np.ceil(eval_x.shape[0]/batch_size))\n",
        "  num_components = 8\n",
        "  eval_metrics = np.zeros(6)\n",
        "  batch_index = 0\n",
        "  eval_loss = 0.0\n",
        "  eval_accuracy = 0.0\n",
        "  eval_tp = 0.0\n",
        "  eval_tn = 0.0\n",
        "  eval_fp = 0.0\n",
        "  eval_fn = 0.0\n",
        "\n",
        "  for batch_number in range(num_batches):\n",
        "    batch_x, batch_y = eval_x[batch_index:min(batch_index + batch_size, eval_x.shape[0])], eval_y[batch_index:min(batch_index + batch_size, eval_y.shape[0])]\n",
        "    X = np.stack([batch_x[:, i:i+L] for i in range(0,K)], axis=1)\n",
        "\n",
        "    X = np.moveaxis(X, -1, -3)\n",
        "\n",
        "    U, Sigma, V = np.linalg.svd(X)\n",
        "    V = V.T\n",
        "\n",
        "    svd_matrix_list = []\n",
        "\n",
        "    cov_matrix_list = []\n",
        "\n",
        "    for j in range(batch_x.shape[0]):\n",
        "      cov_matrix_list.append(np.cov(batch_x[j]))\n",
        "\n",
        "      batch_svd = []\n",
        "      for z in range(0, num_components):\n",
        "        batch_svd.extend([Sigma[j, 0, z] * np.outer(U[j, 0, :,z], V[:,z, 0, j]), Sigma[j, 1, z] * np.outer(U[j, 1, :,z], V[:,z, 1, j])])\n",
        "\n",
        "      svd_matrix_list.append(np.array(batch_svd))\n",
        "\n",
        "    cov_matrix = np.stack(cov_matrix_list)[:, :, :, np.newaxis]\n",
        "\n",
        "    svd_matrix = np.moveaxis(np.stack(svd_matrix_list), -3, -1)\n",
        "\n",
        "    eval_metrics = model.test_on_batch(x=[batch_x, cov_matrix, svd_matrix], y=batch_y, return_dict=True)\n",
        "    eval_loss += eval_metrics['loss']/num_batches\n",
        "    eval_accuracy += eval_metrics['accuracy']/num_batches\n",
        "    eval_tp += eval_metrics['tp']\n",
        "    eval_tn += eval_metrics['tn']\n",
        "    eval_fp += eval_metrics['fp']\n",
        "    eval_fn += eval_metrics['fn']\n",
        "    batch_index += batch_size\n",
        "\n",
        "    model.reset_metrics()\n",
        "\n",
        "  print(f\"Evaluation metrics: loss = {eval_loss}, accuracy = {eval_accuracy}, TP = {eval_tp}, TN = {eval_tn}, FP = {eval_fp}, FN = {eval_fn}\")"
      ]
    },
    {
      "cell_type": "code",
      "execution_count": null,
      "metadata": {
        "colab": {
          "base_uri": "https://localhost:8080/"
        },
        "id": "UwK8JmaOYrLH",
        "outputId": "6b9aaac6-fe46-426a-c6e0-6742b1458397"
      },
      "outputs": [
        {
          "name": "stdout",
          "output_type": "stream",
          "text": [
            "Evaluation metrics: loss = 841.7839490559907, accuracy = 0.9789500000000327, TP = 19334.0, TN = 39403.0, FP = 539.0, FN = 724.0\n"
          ]
        }
      ],
      "source": [
        "evaluate(final_model, x_test, y_test)"
      ]
    },
    {
      "cell_type": "markdown",
      "metadata": {
        "id": "LSXOBRIA_su9"
      },
      "source": [
        "True positive rate: 96.4%\n",
        "\n",
        "True negative rate: 98.7%"
      ]
    },
    {
      "cell_type": "code",
      "execution_count": null,
      "metadata": {
        "id": "9Vb-fwS6mgO2"
      },
      "outputs": [],
      "source": [
        "import os\n",
        "import numpy as np\n",
        "\n",
        "import tensorflow as tf\n",
        "from tensorflow import keras\n",
        "from tensorflow.keras import layers\n",
        "\n",
        "class Model():\n",
        "    def __init__(self):\n",
        "        super().__init__()\n",
        "        self.L = 100\n",
        "        self.K = 0\n",
        "        self.num_components = 8\n",
        "\n",
        "    def load(self):\n",
        "        self.model = keras.models.load_model('model.keras')\n",
        "\n",
        "    def predict(self, X, batch_size=32):\n",
        "        self.K = X.shape[1] - self.L + 1\n",
        "        output_array = np.empty(X.shape[0])\n",
        "        num_batches = int(np.ceil(X.shape[0]/batch_size))\n",
        "        batch_index = 0\n",
        "        for batch_number in range(num_batches):\n",
        "            batch_X = X[batch_index:min(batch_index + batch_size, X.shape[0])]\n",
        "            A = np.stack([batch_X[:, i:i + self.L] for i in range(0, self.K)], axis=1)\n",
        "\n",
        "            A = np.moveaxis(A, -1, -3)\n",
        "\n",
        "            U, Sigma, V = np.linalg.svd(A)\n",
        "            V = V.T\n",
        "\n",
        "            svd_matrix_list = []\n",
        "\n",
        "            cov_matrix_list = []\n",
        "\n",
        "            for j in range(batch_X.shape[0]):\n",
        "                cov_matrix_list.append(np.cov(batch_X[j]))\n",
        "\n",
        "                batch_svd = []\n",
        "                for z in range(0, self.num_components):\n",
        "                    batch_svd.extend([Sigma[j, 0, z] * np.outer(U[j, 0, :,z], V[:,z, 0, j]), Sigma[j, 1, z] * np.outer(U[j, 1, :,z], V[:,z, 1, j])])\n",
        "\n",
        "                svd_matrix_list.append(np.array(batch_svd))\n",
        "\n",
        "            cov_matrix = np.stack(cov_matrix_list)[:, :, :, np.newaxis]\n",
        "\n",
        "            svd_matrix = np.moveaxis(np.stack(svd_matrix_list), -3, -1)\n",
        "\n",
        "            output_array[batch_index:min(batch_index + batch_size, X.shape[0])] = self.model.predict_on_batch([batch_X, cov_matrix, svd_matrix]).flatten()\n",
        "\n",
        "            batch_index += batch_size"
      ]
    },
    {
      "cell_type": "code",
      "execution_count": null,
      "metadata": {
        "colab": {
          "base_uri": "https://localhost:8080/"
        },
        "id": "zFxGI8K2pPVC",
        "outputId": "3a047a13-2b69-4060-a746-22d4b0bba7be"
      },
      "outputs": [
        {
          "name": "stderr",
          "output_type": "stream",
          "text": [
            "/usr/local/lib/python3.11/dist-packages/keras/src/saving/saving_lib.py:757: UserWarning: Skipping variable loading for optimizer 'rmsprop', because it has 48 variables whereas the saved optimizer has 2 variables. \n",
            "  saveable.load_own_variables(weights_store.get(inner_path))\n",
            "/usr/local/lib/python3.11/dist-packages/keras/src/saving/saving_lib.py:757: UserWarning: Skipping variable loading for optimizer 'rmsprop', because it has 8 variables whereas the saved optimizer has 2 variables. \n",
            "  saveable.load_own_variables(weights_store.get(inner_path))\n"
          ]
        },
        {
          "name": "stdout",
          "output_type": "stream",
          "text": [
            "(1000,)\n",
            "(1000,)\n",
            "[0.61783636 0.06520917 0.06514546 0.96586955 0.06623014 0.07012574\n",
            " 0.96462172 0.06493014 0.06541059 0.96583974 0.06596761 0.0658012\n",
            " 0.06497309 0.96575594 0.06529481 0.96490353 0.96494418 0.96579063\n",
            " 0.96387255 0.96487057 0.0648551  0.96583498 0.06702248 0.06526612\n",
            " 0.06544814 0.88853091 0.06486773 0.96530992 0.06512125 0.96529281\n",
            " 0.06580982 0.96581674 0.06533225 0.96300817 0.96329856 0.96536517\n",
            " 0.08400885 0.06729643 0.07868019 0.06588446 0.06690144 0.06542415\n",
            " 0.07790749 0.06514713 0.07960579 0.06538887 0.06586667 0.06494811\n",
            " 0.06490632 0.96550727 0.06485034 0.06892884 0.96529341 0.06685377\n",
            " 0.06583526 0.96441823 0.06611542 0.06559069 0.06535684 0.965859\n",
            " 0.9652313  0.06548595 0.06642743 0.06574033 0.06541605 0.06521782\n",
            " 0.0657862  0.9653796  0.06828872 0.06607813 0.06510006 0.06534126\n",
            " 0.06485304 0.06511784 0.06730389 0.96473712 0.13175115 0.06542833\n",
            " 0.95993763 0.0660178  0.07911245 0.06675601 0.96067923 0.06558736\n",
            " 0.9642086  0.06628148 0.0661201  0.12257443 0.06513824 0.06598771\n",
            " 0.96589792 0.1451817  0.96488601 0.96504527 0.0658185  0.07014948\n",
            " 0.9655025  0.96587378 0.9658702  0.06540187 0.06540403 0.87951052\n",
            " 0.75788093 0.06499786 0.96368688 0.96518409 0.06726445 0.62242866\n",
            " 0.96562004 0.96570063 0.96516353 0.96504664 0.06498814 0.0660395\n",
            " 0.06520181 0.06524119 0.06500756 0.06506602 0.065364   0.96462446\n",
            " 0.9654147  0.06554998 0.06600103 0.06598247 0.06571763 0.06498055\n",
            " 0.06548496 0.96590012 0.064914   0.06867192 0.96540725 0.07176389\n",
            " 0.96508807 0.06528515 0.07455206 0.06965843 0.07700492 0.96563315\n",
            " 0.066453   0.96578872 0.06507552 0.90323448 0.06597304 0.96416891\n",
            " 0.9658829  0.96580827 0.96584564 0.96507871 0.06644453 0.06642455\n",
            " 0.06486064 0.96574605 0.06590129 0.96559203 0.06548566 0.06486254\n",
            " 0.96576035 0.0650669  0.08563498 0.33923817 0.06588959 0.06509251\n",
            " 0.96403575 0.96515286 0.06705377 0.96465856 0.0660943  0.06651127\n",
            " 0.06772935 0.06977452 0.06487578 0.96570653 0.06487492 0.0813666\n",
            " 0.52579373 0.96589947 0.06518894 0.96481776 0.06819861 0.96544248\n",
            " 0.06699164 0.06590018 0.06697062 0.06562827 0.07220621 0.06777508\n",
            " 0.96554059 0.96409643 0.06489749 0.06503888 0.95956969 0.06935801\n",
            " 0.07404822 0.06485138 0.06874023 0.07889114 0.06711254 0.9659009\n",
            " 0.06754738 0.0973421  0.96577078 0.06685292 0.06500917 0.06621594\n",
            " 0.06540122 0.06572822 0.06500195 0.0657605  0.06586228 0.07821875\n",
            " 0.06532992 0.96590048 0.065611   0.06596365 0.06544304 0.06498239\n",
            " 0.07212532 0.06721964 0.06520194 0.06806111 0.96492398 0.06682788\n",
            " 0.96370822 0.06505136 0.06683735 0.06553212 0.88079935 0.928303\n",
            " 0.06484985 0.06909255 0.07121374 0.96572614 0.96589881 0.0666281\n",
            " 0.96554404 0.06758101 0.07290821 0.07640762 0.09801029 0.06493295\n",
            " 0.96562064 0.06489829 0.0673246  0.0653668  0.06563871 0.96588993\n",
            " 0.96476263 0.07670892 0.96582675 0.06604366 0.06543298 0.06492081\n",
            " 0.06676537 0.96093839 0.06501075 0.965895   0.96561348 0.06489059\n",
            " 0.96540439 0.06533619 0.06627692 0.06823932 0.06538124 0.06639803\n",
            " 0.06772394 0.06635535 0.96567976 0.96522617 0.065134   0.06752511\n",
            " 0.0717222  0.96506816 0.06504152 0.06518199 0.06487168 0.96542537\n",
            " 0.06578237 0.07281965 0.06493182 0.963907   0.06609102 0.96460938\n",
            " 0.0682517  0.06811358 0.09072292 0.07034219 0.96357417 0.06559569\n",
            " 0.06520972 0.96554691 0.06505848 0.06493835 0.96589869 0.96510845\n",
            " 0.0796432  0.06501183 0.06516284 0.06590335 0.06518697 0.06492635\n",
            " 0.06563535 0.06495582 0.21934617 0.96506494 0.06524709 0.06535089\n",
            " 0.96332186 0.06551486 0.06567781 0.06490856 0.06619465 0.06794771\n",
            " 0.07721505 0.10261828 0.89763701 0.06538785 0.06501141 0.96488911\n",
            " 0.06519493 0.96540493 0.96588713 0.06490016 0.06554105 0.96554226\n",
            " 0.06512572 0.06625753 0.0771715  0.06509859 0.065202   0.08452127\n",
            " 0.6876775  0.06490336 0.06542495 0.96562976 0.07420811 0.11098588\n",
            " 0.06605548 0.06509084 0.06554888 0.06546681 0.06661291 0.06486859\n",
            " 0.07743898 0.96489912 0.96409202 0.06484992 0.96589458 0.06604417\n",
            " 0.06533183 0.06495009 0.96465319 0.96584475 0.06580572 0.06694587\n",
            " 0.06558491 0.96569902 0.06489599 0.06610135 0.07101441 0.06498212\n",
            " 0.06534608 0.96577728 0.06525459 0.06488046 0.06487083 0.06586189\n",
            " 0.9470284  0.06490195 0.93986982 0.06485754 0.06530771 0.06657676\n",
            " 0.96160614 0.96556902 0.9655903  0.57611626 0.06495251 0.96562451\n",
            " 0.06485052 0.06571531 0.06612632 0.07475576 0.06681338 0.96370924\n",
            " 0.06640249 0.96549249 0.06608995 0.06509642 0.88830173 0.0653846\n",
            " 0.96508592 0.06489992 0.06531005 0.07679965 0.96125138 0.06526655\n",
            " 0.06618295 0.06545728 0.96506685 0.06491975 0.08169618 0.9657836\n",
            " 0.96572536 0.06487995 0.96551871 0.96547705 0.96366763 0.06851302\n",
            " 0.06507576 0.06527966 0.06485199 0.06497248 0.96586335 0.96482319\n",
            " 0.06665432 0.0662531  0.96587992 0.96043497 0.06620798 0.06533936\n",
            " 0.09327012 0.06486524 0.06555033 0.06582142 0.96583897 0.10268835\n",
            " 0.06499913 0.06615375 0.96407485 0.07084373 0.06516379 0.06546089\n",
            " 0.96587092 0.06594437 0.06585497 0.0648575  0.96486861 0.06723573\n",
            " 0.06505691 0.06522592 0.96512288 0.06502702 0.06486578 0.96551692\n",
            " 0.07480277 0.07658125 0.5450902  0.96526051 0.06578724 0.06546289\n",
            " 0.06692606 0.06530494 0.06529307 0.9652074  0.06732492 0.06485516\n",
            " 0.96565962 0.06527016 0.96461403 0.0653749  0.06492057 0.06519472\n",
            " 0.96562952 0.96569079 0.07316427 0.96539259 0.06847347 0.06948835\n",
            " 0.06565032 0.96569467 0.94110364 0.17505583 0.06487557 0.16189353\n",
            " 0.06497429 0.11706701 0.96579772 0.06485284 0.06515246 0.95763648\n",
            " 0.07049658 0.06585445 0.07835881 0.96169049 0.0660776  0.06498343\n",
            " 0.96560472 0.06488091 0.0650612  0.06661225 0.0726453  0.96573323\n",
            " 0.06503156 0.064955   0.96587223 0.06528505 0.06513328 0.06491334\n",
            " 0.96486384 0.07140418 0.06485648 0.06510067 0.96361417 0.06558676\n",
            " 0.96497989 0.06517429 0.06520306 0.96590137 0.0662386  0.06484981\n",
            " 0.07236381 0.96519452 0.0665381  0.96581239 0.06544594 0.06685781\n",
            " 0.06485015 0.96576858 0.96464258 0.96584266 0.06551664 0.96542615\n",
            " 0.96586132 0.96571302 0.0869571  0.0659255  0.06536797 0.96584386\n",
            " 0.96566278 0.06654396 0.93063766 0.96160042 0.96474761 0.96524954\n",
            " 0.06651171 0.07101451 0.06484992 0.06693676 0.06757963 0.06558733\n",
            " 0.93417758 0.06494362 0.07656211 0.95751929 0.06530221 0.96485728\n",
            " 0.07061428 0.06506246 0.06510058 0.96586913 0.06484982 0.06490113\n",
            " 0.06520817 0.96584845 0.06612107 0.06721433 0.96584707 0.96526229\n",
            " 0.06521416 0.96585023 0.95763534 0.06572302 0.9658649  0.06502853\n",
            " 0.06502057 0.0653805  0.96517807 0.06487925 0.06506051 0.96372074\n",
            " 0.07077999 0.06485666 0.07200423 0.96365374 0.06653182 0.96564764\n",
            " 0.12025117 0.08771499 0.9054659  0.96562064 0.93310535 0.06520639\n",
            " 0.06837847 0.96527952 0.06586796 0.06537734 0.06639303 0.0648753\n",
            " 0.96510679 0.96451235 0.06487777 0.06540255 0.95994151 0.96517587\n",
            " 0.96456558 0.06556465 0.96047574 0.06756877 0.06493347 0.06854106\n",
            " 0.06553598 0.06503127 0.06485027 0.0659387  0.0656193  0.96444672\n",
            " 0.06560354 0.0648528  0.06637928 0.96473253 0.06495306 0.06493361\n",
            " 0.96587956 0.95744014 0.07191908 0.0668931  0.0648575  0.06545496\n",
            " 0.96488011 0.06583108 0.06602377 0.06495863 0.68820018 0.96585\n",
            " 0.06607703 0.96532613 0.06717094 0.0649492  0.06571791 0.06892487\n",
            " 0.06496514 0.06877553 0.06502208 0.0742336  0.06519293 0.06537353\n",
            " 0.9654398  0.06496704 0.96349031 0.06600973 0.06836204 0.065298\n",
            " 0.06493533 0.06485374 0.06753876 0.06531471 0.07257178 0.96578628\n",
            " 0.96463323 0.06764664 0.07793485 0.06485365 0.07172976 0.9652245\n",
            " 0.96576834 0.06489728 0.96581727 0.06573332 0.96581072 0.06559585\n",
            " 0.06485406 0.96588737 0.06691735 0.0650116  0.06518516 0.06617565\n",
            " 0.06514954 0.96395516 0.9645341  0.06796316 0.06491394 0.06515612\n",
            " 0.93101054 0.06904875 0.96528959 0.20226571 0.96506572 0.96584833\n",
            " 0.95214957 0.96578848 0.06617361 0.96563095 0.06676571 0.93566632\n",
            " 0.06634863 0.96516353 0.07504795 0.06562109 0.06501966 0.06553943\n",
            " 0.96583599 0.06569391 0.06697394 0.0681695  0.06486357 0.96581674\n",
            " 0.06953273 0.06492124 0.06485338 0.19898495 0.96574605 0.06527461\n",
            " 0.96589303 0.06736565 0.66521931 0.06599916 0.06545754 0.96564287\n",
            " 0.06485063 0.06649884 0.06501058 0.96579051 0.06490155 0.06531215\n",
            " 0.06665548 0.06521035 0.96558738 0.06620374 0.96585321 0.19128326\n",
            " 0.07231572 0.06586685 0.965707   0.06499382 0.96374786 0.06489857\n",
            " 0.96586889 0.06520911 0.96513355 0.06573337 0.85551512 0.06489024\n",
            " 0.06720853 0.96547568 0.96461207 0.06518038 0.06597573 0.96518153\n",
            " 0.96509892 0.06489032 0.06563664 0.6847682  0.06487915 0.07194849\n",
            " 0.06549788 0.06499792 0.06670641 0.06497692 0.96589637 0.06512687\n",
            " 0.96552539 0.96577168 0.9648537  0.0663709  0.96558994 0.06485548\n",
            " 0.06497207 0.06489594 0.85497892 0.06576303 0.06535762 0.96588647\n",
            " 0.06597938 0.07306359 0.06487571 0.06560921 0.06489493 0.06566329\n",
            " 0.0703892  0.06548272 0.9642005  0.06694424 0.96554226 0.0941966\n",
            " 0.0654198  0.96587658 0.0669803  0.06555167 0.06596328 0.06731857\n",
            " 0.06551465 0.96523029 0.06485193 0.0658863  0.06507867 0.07450031\n",
            " 0.06741337 0.06520273 0.06516334 0.06523406 0.06511693 0.9644224\n",
            " 0.96469283 0.06577966 0.0662026  0.06514753 0.07626732 0.06521265\n",
            " 0.9648385  0.06531642 0.06484976 0.06607366 0.06641157 0.95359975\n",
            " 0.06654572 0.0660122  0.06488381 0.96574301 0.06499614 0.06514375\n",
            " 0.06531327 0.07107891 0.08236405 0.06554627 0.07197008 0.96563607\n",
            " 0.06501011 0.06550316 0.96521717 0.06641667 0.95664746 0.96585464\n",
            " 0.06588846 0.0648502  0.06591453 0.96540201 0.96536815 0.96533835\n",
            " 0.15566991 0.95249474 0.96532136 0.96455228 0.96585977 0.10673653\n",
            " 0.06737317 0.06490224 0.06499835 0.08804156 0.96586758 0.06537925\n",
            " 0.06617278 0.06539356 0.06639969 0.06494414 0.9652707  0.06484988\n",
            " 0.96488422 0.06518827 0.96388388 0.06541862 0.96023035 0.96518296\n",
            " 0.96584588 0.9658246  0.06516361 0.06571975 0.06557532 0.0694602\n",
            " 0.94967777 0.0655106  0.96500778 0.06487987 0.0693138  0.9657408\n",
            " 0.06688762 0.06968617 0.06523966 0.96454793 0.93493968 0.06579021\n",
            " 0.07089008 0.96568298 0.07316276 0.96588612 0.96563929 0.06622212\n",
            " 0.08062468 0.96589744 0.96295917 0.96589357 0.06515124 0.06522547\n",
            " 0.06596232 0.06872212 0.064895   0.06605618 0.85874152 0.06542712\n",
            " 0.06610487 0.06486455 0.9644016  0.06485605 0.0649524  0.96575081\n",
            " 0.06488175 0.95762932 0.0653973  0.06484979 0.06668928 0.96571487\n",
            " 0.96363062 0.96571589 0.06495732 0.96575904 0.96584284 0.96390522\n",
            " 0.06551999 0.96527618 0.0723075  0.06778027 0.06522357 0.96422511\n",
            " 0.06689604 0.0707031  0.06485268 0.06500221 0.96523362 0.06523488\n",
            " 0.06605066 0.96572512 0.06489628 0.06979691 0.06615058 0.06496764\n",
            " 0.0651243  0.0653837  0.96544647 0.06501876 0.06536793 0.06566578\n",
            " 0.06537696 0.9648748  0.96589422 0.06499939 0.06587114 0.06705893\n",
            " 0.06607093 0.68501866 0.06489854 0.96399409 0.06509296 0.06511491\n",
            " 0.0649158  0.95274138 0.06605406 0.06525023 0.0679131  0.06505719\n",
            " 0.96570146 0.07090277 0.96391541 0.87888688 0.06779496 0.06574171\n",
            " 0.08273663 0.96521211 0.96590137 0.06493243 0.96093124 0.06599081\n",
            " 0.9658643  0.06486541 0.06645794 0.06515085 0.06990243 0.13954164\n",
            " 0.96521139 0.96577513 0.06526128 0.9649837  0.06511293 0.96500725\n",
            " 0.06712914 0.06701785 0.06487878 0.06708147 0.9656055  0.06599142\n",
            " 0.0651565  0.06514733 0.0668316  0.06486838 0.06487153 0.96589857\n",
            " 0.06534155 0.06488768 0.96547294 0.06527336 0.06628329 0.96492487\n",
            " 0.06615227 0.96367228 0.0673199  0.96558541 0.9650141  0.92299968\n",
            " 0.0651145  0.96568733 0.06685613 0.96586746]\n"
          ]
        }
      ],
      "source": [
        "test_model = Model()\n",
        "test_model.load()\n",
        "test_model.predict(x_test)"
      ]
    }
  ],
  "metadata": {
    "colab": {
      "provenance": []
    },
    "kernelspec": {
      "display_name": "tensorflow",
      "language": "python",
      "name": "python3"
    },
    "language_info": {
      "codemirror_mode": {
        "name": "ipython",
        "version": 3
      },
      "file_extension": ".py",
      "mimetype": "text/x-python",
      "name": "python",
      "nbconvert_exporter": "python",
      "pygments_lexer": "ipython3",
      "version": "3.10.9"
    }
  },
  "nbformat": 4,
  "nbformat_minor": 0
}
